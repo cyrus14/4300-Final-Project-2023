{
 "cells": [
  {
   "cell_type": "code",
   "execution_count": 1,
   "metadata": {
    "id": "PpTskCj7HkA3"
   },
   "outputs": [],
   "source": [
    "import json\n",
    "import pandas as pd\n",
    "from collections import Counter\n",
    "import ast\n",
    "import numpy as np\n",
    "import matplotlib.pyplot as plt\n",
    "import pickle\n",
    "from sklearn.feature_extraction.text import TfidfVectorizer\n",
    "from sklearn.feature_extraction import text"
   ]
  },
  {
   "cell_type": "code",
   "execution_count": 2,
   "metadata": {
    "id": "G8l2-qRMHkA5"
   },
   "outputs": [],
   "source": [
    "f = open('backend/dataset/wiki_scraping/wiki_texts.json')\n",
    "wiki_texts = json.load(f)"
   ]
  },
  {
   "cell_type": "code",
   "execution_count": 3,
   "metadata": {
    "id": "C_2T8pyuHkA5"
   },
   "outputs": [],
   "source": [
    "big_df = pd.read_csv('backend/dataset/big_df_edited.csv')"
   ]
  },
  {
   "cell_type": "code",
   "execution_count": 4,
   "metadata": {
    "id": "w0NMqAZPHkA6"
   },
   "outputs": [],
   "source": [
    "big_df.drop(columns=['Unnamed: 0'], inplace=True)"
   ]
  },
  {
   "cell_type": "code",
   "execution_count": 5,
   "metadata": {
    "id": "-Sqbk-8PHkA6"
   },
   "outputs": [],
   "source": [
    "big_df['tknzd_lyrics'] = big_df['tknzd_lyrics'].apply(ast.literal_eval)\n",
    "big_df['emotions'] = big_df['emotions'].apply(ast.literal_eval)\n",
    "big_df['social_tags'] = big_df['social_tags'].apply(ast.literal_eval)"
   ]
  },
  {
   "cell_type": "code",
   "execution_count": 7,
   "metadata": {},
   "outputs": [
    {
     "data": {
      "text/plain": [
       "(34462, 14)"
      ]
     },
     "execution_count": 7,
     "metadata": {},
     "output_type": "execute_result"
    }
   ],
   "source": [
    "big_df.shape"
   ]
  },
  {
   "cell_type": "code",
   "execution_count": 8,
   "metadata": {
    "id": "PMMRrmDEHkA6"
   },
   "outputs": [],
   "source": [
    "drop_rows = []\n",
    "for row in big_df.iterrows():\n",
    "    if row[1]['emotions'] == []:\n",
    "        drop_rows.append(row[0])\n",
    "big_df.drop(drop_rows, inplace=True)"
   ]
  },
  {
   "cell_type": "code",
   "execution_count": 9,
   "metadata": {},
   "outputs": [
    {
     "data": {
      "text/plain": [
       "(34462, 14)"
      ]
     },
     "execution_count": 9,
     "metadata": {},
     "output_type": "execute_result"
    }
   ],
   "source": [
    "big_df.shape"
   ]
  },
  {
   "cell_type": "code",
   "execution_count": 25,
   "metadata": {
    "id": "AwilKJKUHkA6"
   },
   "outputs": [],
   "source": [
    "# my_stop_words = text.ENGLISH_STOP_WORDS.union({'city'})\n",
    "vectorizer = TfidfVectorizer(max_df = 0.8, min_df = 10, norm='l2', ngram_range=(1,2))#, stop_words = list(my_stop_words))\n",
    "X = vectorizer.fit_transform(big_df['tknzd_lyrics'].apply(lambda x: \" \".join(x)))"
   ]
  },
  {
   "cell_type": "markdown",
   "metadata": {},
   "source": [
    "with open('vectorizer.pkl', 'wb') as f:\n",
    "    pickle.dump(vectorizer, f)"
   ]
  },
  {
   "cell_type": "code",
   "execution_count": 27,
   "metadata": {
    "id": "4OCZNzLdHkA6"
   },
   "outputs": [],
   "source": [
    "index_to_word = {i:v for i, v in enumerate(vectorizer.get_feature_names_out())}\n",
    "word_to_index = {v:i for i, v in enumerate(vectorizer.get_feature_names_out())}"
   ]
  },
  {
   "cell_type": "code",
   "execution_count": 28,
   "metadata": {
    "id": "wsOxHtGoHkA7"
   },
   "outputs": [],
   "source": [
    "with open('word_to_index.pkl', 'wb') as f:\n",
    "    pickle.dump(word_to_index, f)\n",
    "with open('index_to_word.pkl', 'wb') as f:\n",
    "    pickle.dump(index_to_word, f)"
   ]
  },
  {
   "cell_type": "code",
   "execution_count": 29,
   "metadata": {
    "id": "REZHOJMuHkA7"
   },
   "outputs": [],
   "source": [
    "with open('song_tf_idf.pkl', 'wb') as f:\n",
    "    pickle.dump(X, f)"
   ]
  },
  {
   "cell_type": "code",
   "execution_count": 30,
   "metadata": {
    "id": "CO2x8SSbHkA8"
   },
   "outputs": [],
   "source": [
    "song_to_index = {s:i for i, s in enumerate(big_df['title'])}\n",
    "index_to_song = {i:s for i, s in enumerate(big_df['title'])}"
   ]
  },
  {
   "cell_type": "code",
   "execution_count": 31,
   "metadata": {
    "id": "3IjdFFS6HkA8"
   },
   "outputs": [],
   "source": [
    "with open('song_to_index.pkl', 'wb') as f:\n",
    "    pickle.dump(song_to_index, f)\n",
    "with open('index_to_song.pkl', 'wb') as f:\n",
    "    pickle.dump(index_to_song, f)"
   ]
  },
  {
   "cell_type": "markdown",
   "metadata": {
    "id": "LmLArolrHkA8"
   },
   "source": [
    "# wiki"
   ]
  },
  {
   "cell_type": "code",
   "execution_count": 12,
   "metadata": {
    "id": "wgJvGb0EHkA9"
   },
   "outputs": [
    {
     "ename": "ImportError",
     "evalue": "cannot import name 'wiki_scraping' from 'dataset' (unknown location)",
     "output_type": "error",
     "traceback": [
      "\u001b[0;31m---------------------------------------------------------------------------\u001b[0m",
      "\u001b[0;31mImportError\u001b[0m                               Traceback (most recent call last)",
      "Input \u001b[0;32mIn [12]\u001b[0m, in \u001b[0;36m<cell line: 1>\u001b[0;34m()\u001b[0m\n\u001b[0;32m----> 1\u001b[0m \u001b[38;5;28;01mfrom\u001b[39;00m \u001b[38;5;21;01mdataset\u001b[39;00m \u001b[38;5;28;01mimport\u001b[39;00m wiki_scraping\n",
      "\u001b[0;31mImportError\u001b[0m: cannot import name 'wiki_scraping' from 'dataset' (unknown location)"
     ]
    }
   ],
   "source": [
    "from dataset import wiki_scraping"
   ]
  },
  {
   "cell_type": "code",
   "execution_count": 26,
   "metadata": {
    "colab": {
     "base_uri": "https://localhost:8080/"
    },
    "id": "F5h5Ar7kONm4",
    "outputId": "9a72779f-1f95-4e4e-8423-87eda79e4b05"
   },
   "outputs": [
    {
     "name": "stdout",
     "output_type": "stream",
     "text": [
      "18721\n"
     ]
    }
   ],
   "source": [
    "print(len(wiki_texts['Tel Aviv']))"
   ]
  },
  {
   "cell_type": "code",
   "execution_count": 32,
   "metadata": {
    "id": "T6iaemrWHkA9"
   },
   "outputs": [],
   "source": [
    "wiki_corpus = []\n",
    "for ls in list(wiki_texts.values()):\n",
    "    wiki_corpus.append(\" \".join(ls))"
   ]
  },
  {
   "cell_type": "code",
   "execution_count": 33,
   "metadata": {
    "id": "PsTVTt4AHkA-"
   },
   "outputs": [],
   "source": [
    "vec2 = vectorizer.transform(wiki_corpus)\n",
    "with open('wiki_tf_idf.pkl', 'wb') as f:\n",
    "    pickle.dump(vec2, f)\n",
    "vec2 = vec2.toarray()\n",
    "X = X.toarray()"
   ]
  },
  {
   "cell_type": "code",
   "execution_count": 34,
   "metadata": {
    "colab": {
     "base_uri": "https://localhost:8080/"
    },
    "id": "2xCg95_fHkA-",
    "outputId": "8a57df38-a198-4b72-ab6a-3db543fbc731"
   },
   "outputs": [
    {
     "data": {
      "text/plain": [
       "array([15.95100142, 24.40802229, 24.52448814, 14.18638521, 12.89577233,\n",
       "       15.79102557, 14.85266237,  4.29339868, 15.76406253, 17.6947217 ,\n",
       "       16.16169354, 14.74885545,  3.4298487 , 25.06943079, 13.47167073,\n",
       "       14.91462377, 15.10871523, 14.93484307,  2.96911613, 14.49839891,\n",
       "       14.30121627, 12.12873148,  3.66473977, 16.59888398, 14.53352165,\n",
       "       19.90849696, 14.96905919, 21.60481588, 17.0440095 , 17.17163077,\n",
       "       13.18533379, 20.7252089 , 22.18181566, 18.59858504, 21.9349362 ,\n",
       "       21.1844326 , 21.86923404, 22.5060142 , 20.18377731, 23.4091524 ,\n",
       "       22.73092547, 22.40757845, 16.2917886 , 12.55032311, 20.50205988,\n",
       "       24.00794558, 17.38231169])"
      ]
     },
     "execution_count": 34,
     "metadata": {},
     "output_type": "execute_result"
    }
   ],
   "source": [
    "vec2.sum(axis=1)"
   ]
  },
  {
   "cell_type": "code",
   "execution_count": 35,
   "metadata": {
    "colab": {
     "base_uri": "https://localhost:8080/"
    },
    "id": "CNyWbowGHkA_",
    "outputId": "f2e9fcec-45ad-4c96-fea6-6bc665e431dd"
   },
   "outputs": [
    {
     "name": "stdout",
     "output_type": "stream",
     "text": [
      "(47, 66969)\n",
      "(34462, 66969)\n"
     ]
    }
   ],
   "source": [
    "print(vec2.shape)\n",
    "print(X.shape)"
   ]
  },
  {
   "cell_type": "code",
   "execution_count": 36,
   "metadata": {
    "colab": {
     "base_uri": "https://localhost:8080/"
    },
    "id": "OEup-83KHkA_",
    "outputId": "c5d48888-86d2-4c7a-ad69-a61a3dcaa44c"
   },
   "outputs": [
    {
     "data": {
      "text/plain": [
       "array([0., 0., 0., ..., 0., 0., 0.])"
      ]
     },
     "execution_count": 36,
     "metadata": {},
     "output_type": "execute_result"
    }
   ],
   "source": [
    "vec2[2,:]"
   ]
  },
  {
   "cell_type": "code",
   "execution_count": 37,
   "metadata": {
    "id": "q6CgclQ4HkBA"
   },
   "outputs": [],
   "source": [
    "loc_to_index = {cty:i for i, cty in enumerate(wiki_texts.keys())}"
   ]
  },
  {
   "cell_type": "code",
   "execution_count": 38,
   "metadata": {
    "id": "k1ZHkbaUHkBA"
   },
   "outputs": [],
   "source": [
    "def cos_sim(city, song):\n",
    "    city_i = loc_to_index[city]\n",
    "    song_i = song_to_index[song]\n",
    "    city_vec = vec2[city_i, :]\n",
    "    song_vec = X[song_i, :]\n",
    "    denom = np.linalg.norm(city_vec) * np.linalg.norm(song_vec)\n",
    "    num = city_vec @ song_vec\n",
    "    return (num ) /  (denom )"
   ]
  },
  {
   "cell_type": "code",
   "execution_count": 39,
   "metadata": {
    "colab": {
     "base_uri": "https://localhost:8080/"
    },
    "id": "1aSmHFnuHkBA",
    "outputId": "99db59a4-93df-4003-f1f2-32dcab8c7aa5"
   },
   "outputs": [
    {
     "data": {
      "text/plain": [
       "(66969,)"
      ]
     },
     "execution_count": 39,
     "metadata": {},
     "output_type": "execute_result"
    }
   ],
   "source": [
    "vec2[2,:].shape"
   ]
  },
  {
   "cell_type": "code",
   "execution_count": 40,
   "metadata": {
    "id": "2_VoyvHGHkBA"
   },
   "outputs": [],
   "source": [
    "def best_songs_for_city(city):\n",
    "    best = []\n",
    "    for song in song_to_index:\n",
    "        sim = cos_sim(city, song)\n",
    "        best.append((song, sim))\n",
    "    srtd = sorted(best, key = lambda x: x[1], reverse=True)\n",
    "    for t in srtd[:10]:\n",
    "        print(\"Song: \", t[0], \"  Score: {:.3f}\".format(t[1]))"
   ]
  },
  {
   "cell_type": "code",
   "execution_count": 41,
   "metadata": {
    "colab": {
     "base_uri": "https://localhost:8080/"
    },
    "id": "3G2AdF-2HkBB",
    "outputId": "e53be0d4-54ac-4600-abbf-7c0d22d1ab43"
   },
   "outputs": [
    {
     "name": "stderr",
     "output_type": "stream",
     "text": [
      "/var/folders/0g/3z5xrttj3457ptrm4n_dts1w0000gn/T/ipykernel_58453/643318763.py:8: RuntimeWarning: invalid value encountered in double_scalars\n",
      "  return (num ) /  (denom )\n"
     ]
    },
    {
     "name": "stdout",
     "output_type": "stream",
     "text": [
      "Song:  I Love NYC   Score: 0.646\n",
      "Song:  New York City Boy   Score: 0.634\n",
      "Song:  New York City Cops   Score: 0.546\n",
      "Song:  New York   Score: 0.537\n",
      "Song:  King Of New York   Score: 0.396\n",
      "Song:  The Incumbent   Score: 0.320\n",
      "Song:  New York Slave   Score: 0.289\n",
      "Song:  Cocaine In My Brain   Score: 0.256\n",
      "Song:  Stranger Into Starman   Score: 0.251\n",
      "Song:  Colour Green   Score: 0.236\n"
     ]
    }
   ],
   "source": [
    "best_songs_for_city(\"New York City\")"
   ]
  },
  {
   "cell_type": "code",
   "execution_count": 42,
   "metadata": {
    "colab": {
     "base_uri": "https://localhost:8080/"
    },
    "id": "EHPdIHRbHkBB",
    "outputId": "6cfe4fdd-cbd8-4498-8309-6c54dbe67e6f"
   },
   "outputs": [
    {
     "name": "stderr",
     "output_type": "stream",
     "text": [
      "/var/folders/0g/3z5xrttj3457ptrm4n_dts1w0000gn/T/ipykernel_58453/643318763.py:8: RuntimeWarning: invalid value encountered in double_scalars\n",
      "  return (num ) /  (denom )\n"
     ]
    },
    {
     "name": "stdout",
     "output_type": "stream",
     "text": [
      "Song:  London Bridge   Score: 0.478\n",
      "Song:  London Calling   Score: 0.451\n",
      "Song:  London Loves   Score: 0.311\n",
      "Song:  Glamorous Glue   Score: 0.282\n",
      "Song:  London Leatherboys   Score: 0.273\n",
      "Song:  Streets of London   Score: 0.236\n",
      "Song:  I Love London   Score: 0.221\n",
      "Song:  Sweet Thames Flow Softly   Score: 0.175\n",
      "Song:  Street Fighting Man   Score: 0.155\n",
      "Song:  In the City   Score: 0.154\n"
     ]
    }
   ],
   "source": [
    "best_songs_for_city(\"London\")"
   ]
  },
  {
   "cell_type": "code",
   "execution_count": 34,
   "metadata": {
    "colab": {
     "base_uri": "https://localhost:8080/"
    },
    "id": "FUdyHbHkHkBC",
    "outputId": "3cf5fe2a-658a-4c6f-9ad3-0d2ed4c9d825"
   },
   "outputs": [
    {
     "name": "stderr",
     "output_type": "stream",
     "text": [
      "<ipython-input-29-081fac839062>:8: RuntimeWarning: invalid value encountered in double_scalars\n",
      "  return (num ) /  (denom )\n"
     ]
    },
    {
     "name": "stdout",
     "output_type": "stream",
     "text": [
      "Song:  Victime de la mode   Score: 0.259\n",
      "Song:  Redrum   Score: 0.209\n",
      "Song:  Red Velvet   Score: 0.126\n",
      "Song:  The Ballot or the Bullet   Score: 0.055\n",
      "Song:  Hitten   Score: 0.040\n",
      "Song:  100%   Score: 0.039\n",
      "Song:  Oh Jerusalem   Score: 0.037\n",
      "Song:  Poster Princess   Score: 0.037\n",
      "Song:  Home Life   Score: 0.035\n",
      "Song:  Intro   Score: 0.035\n"
     ]
    }
   ],
   "source": [
    "best_songs_for_city(\"Tel Aviv\")"
   ]
  },
  {
   "cell_type": "code",
   "execution_count": 35,
   "metadata": {
    "colab": {
     "base_uri": "https://localhost:8080/"
    },
    "id": "tg2mVO5vHkBC",
    "outputId": "7d256f8d-91cd-4e5a-ec9f-2b5fa3512ae7"
   },
   "outputs": [
    {
     "name": "stderr",
     "output_type": "stream",
     "text": [
      "<ipython-input-29-081fac839062>:8: RuntimeWarning: invalid value encountered in double_scalars\n",
      "  return (num ) /  (denom )\n"
     ]
    },
    {
     "name": "stdout",
     "output_type": "stream",
     "text": [
      "Song:  Tokyo Witch   Score: 0.280\n",
      "Song:  Panda Bear   Score: 0.163\n",
      "Song:  Never Ending Summer   Score: 0.142\n",
      "Song:  Award Tour   Score: 0.104\n",
      "Song:  Back 4 U   Score: 0.075\n",
      "Song:  Bodhisattva   Score: 0.072\n",
      "Song:  Impossible Germany   Score: 0.063\n",
      "Song:  Harajuku Girls   Score: 0.059\n",
      "Song:  Da Joint   Score: 0.055\n",
      "Song:  Losing My Edge   Score: 0.050\n"
     ]
    }
   ],
   "source": [
    "best_songs_for_city(\"Tokyo\")"
   ]
  },
  {
   "cell_type": "code",
   "execution_count": 36,
   "metadata": {
    "colab": {
     "base_uri": "https://localhost:8080/"
    },
    "id": "NZ5urYHpHkBC",
    "outputId": "d39bd0dc-5358-4d24-894f-e2f22ba40fe6"
   },
   "outputs": [
    {
     "name": "stderr",
     "output_type": "stream",
     "text": [
      "<ipython-input-29-081fac839062>:8: RuntimeWarning: invalid value encountered in double_scalars\n",
      "  return (num ) /  (denom )\n"
     ]
    },
    {
     "name": "stdout",
     "output_type": "stream",
     "text": [
      "Song:  Indian Girl   Score: 0.158\n",
      "Song:  Citysong   Score: 0.129\n",
      "Song:  The Ballot or the Bullet   Score: 0.124\n",
      "Song:  Fireworks   Score: 0.112\n",
      "Song:  30 Century Man   Score: 0.107\n",
      "Song:  21st Century Digital Boy   Score: 0.088\n",
      "Song:  Twentieth Century Fox   Score: 0.084\n",
      "Song:  Suburban Home   Score: 0.083\n",
      "Song:  The Kids   Score: 0.082\n",
      "Song:  Flux   Score: 0.080\n"
     ]
    }
   ],
   "source": [
    "best_songs_for_city(\"Mumbai\")"
   ]
  },
  {
   "cell_type": "code",
   "execution_count": 31,
   "metadata": {
    "colab": {
     "base_uri": "https://localhost:8080/"
    },
    "id": "xhqGyl5hHkBC",
    "outputId": "67f29405-d1f9-4fa7-9fad-4cb5b070be6d"
   },
   "outputs": [
    {
     "name": "stderr",
     "output_type": "stream",
     "text": [
      "<ipython-input-27-081fac839062>:8: RuntimeWarning: invalid value encountered in double_scalars\n",
      "  return (num ) /  (denom )\n"
     ]
    },
    {
     "name": "stdout",
     "output_type": "stream",
     "text": [
      "Song:  City of Night   Score: 0.263\n",
      "Song:  City Of Love   Score: 0.263\n",
      "Song:  Sex City   Score: 0.250\n",
      "Song:  Thin Blue Flame   Score: 0.237\n",
      "Song:  1% Of One   Score: 0.222\n",
      "Song:  City of Devils   Score: 0.221\n",
      "Song:  The Best of Times   Score: 0.221\n",
      "Song:  We Built This City   Score: 0.219\n",
      "Song:  The Buzz Kill   Score: 0.219\n",
      "Song:  An Erotic Alchemy   Score: 0.217\n"
     ]
    }
   ],
   "source": [
    "best_songs_for_city(\"Seoul\")"
   ]
  },
  {
   "cell_type": "code",
   "execution_count": 33,
   "metadata": {},
   "outputs": [],
   "source": [
    "with open('loc_to_index.pkl', 'wb') as f:\n",
    "    pickle.dump(loc_to_index, f)"
   ]
  },
  {
   "cell_type": "code",
   "execution_count": null,
   "metadata": {},
   "outputs": [],
   "source": []
  }
 ],
 "metadata": {
  "colab": {
   "provenance": []
  },
  "kernelspec": {
   "display_name": "Python 3 (ipykernel)",
   "language": "python",
   "name": "python3"
  },
  "language_info": {
   "codemirror_mode": {
    "name": "ipython",
    "version": 3
   },
   "file_extension": ".py",
   "mimetype": "text/x-python",
   "name": "python",
   "nbconvert_exporter": "python",
   "pygments_lexer": "ipython3",
   "version": "3.9.12"
  }
 },
 "nbformat": 4,
 "nbformat_minor": 4
}
