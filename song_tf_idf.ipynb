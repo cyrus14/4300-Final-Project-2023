{
 "cells": [
  {
   "cell_type": "code",
   "execution_count": 3,
   "metadata": {
    "id": "PpTskCj7HkA3"
   },
   "outputs": [],
   "source": [
    "import json\n",
    "import pandas as pd\n",
    "from collections import Counter\n",
    "import ast\n",
    "import numpy as np\n",
    "import matplotlib.pyplot as plt\n",
    "import pickle\n",
    "from sklearn.feature_extraction.text import TfidfVectorizer\n",
    "from sklearn.feature_extraction import text"
   ]
  },
  {
   "cell_type": "code",
   "execution_count": 3,
   "metadata": {
    "colab": {
     "base_uri": "https://localhost:8080/"
    },
    "id": "yKzRW8-yH8N0",
    "outputId": "800fc9c3-385c-4fae-fdcb-086634c242b2"
   },
   "outputs": [
    {
     "name": "stdout",
     "output_type": "stream",
     "text": [
      "Mounted at /content/drive\n"
     ]
    }
   ],
   "source": [
    "from google.colab import drive\n",
    "drive.mount('/content/drive')"
   ]
  },
  {
   "cell_type": "code",
   "execution_count": 4,
   "metadata": {
    "colab": {
     "base_uri": "https://localhost:8080/"
    },
    "id": "8dTX8z6nHzHi",
    "outputId": "ef7129c4-8364-48aa-9d19-7f1df7df6db4"
   },
   "outputs": [
    {
     "name": "stdout",
     "output_type": "stream",
     "text": [
      "/content/drive/MyDrive/apollocate/4300-Final-Project-2023\n"
     ]
    }
   ],
   "source": [
    "%cd /content/drive/MyDrive/apollocate/4300-Final-Project-2023/"
   ]
  },
  {
   "cell_type": "code",
<<<<<<< Updated upstream
   "execution_count": 3,
=======
   "execution_count": 4,
>>>>>>> Stashed changes
   "metadata": {
    "id": "G8l2-qRMHkA5"
   },
   "outputs": [],
   "source": [
    "f = open('backend/dataset/wiki_scraping/wiki_texts.json')\n",
    "wiki_texts = json.load(f)"
   ]
  },
  {
   "cell_type": "code",
   "execution_count": 5,
   "metadata": {
    "id": "C_2T8pyuHkA5"
   },
   "outputs": [
    {
     "ename": "FileNotFoundError",
     "evalue": "[Errno 2] No such file or directory: 'big_df.csv'",
     "output_type": "error",
     "traceback": [
      "\u001b[0;31m---------------------------------------------------------------------------\u001b[0m",
      "\u001b[0;31mFileNotFoundError\u001b[0m                         Traceback (most recent call last)",
      "Input \u001b[0;32mIn [5]\u001b[0m, in \u001b[0;36m<cell line: 1>\u001b[0;34m()\u001b[0m\n\u001b[0;32m----> 1\u001b[0m big_df \u001b[38;5;241m=\u001b[39m \u001b[43mpd\u001b[49m\u001b[38;5;241;43m.\u001b[39;49m\u001b[43mread_csv\u001b[49m\u001b[43m(\u001b[49m\u001b[38;5;124;43m'\u001b[39;49m\u001b[38;5;124;43mbig_df.csv\u001b[39;49m\u001b[38;5;124;43m'\u001b[39;49m\u001b[43m)\u001b[49m\n",
      "File \u001b[0;32m~/anaconda3/lib/python3.9/site-packages/pandas/util/_decorators.py:311\u001b[0m, in \u001b[0;36mdeprecate_nonkeyword_arguments.<locals>.decorate.<locals>.wrapper\u001b[0;34m(*args, **kwargs)\u001b[0m\n\u001b[1;32m    305\u001b[0m \u001b[38;5;28;01mif\u001b[39;00m \u001b[38;5;28mlen\u001b[39m(args) \u001b[38;5;241m>\u001b[39m num_allow_args:\n\u001b[1;32m    306\u001b[0m     warnings\u001b[38;5;241m.\u001b[39mwarn(\n\u001b[1;32m    307\u001b[0m         msg\u001b[38;5;241m.\u001b[39mformat(arguments\u001b[38;5;241m=\u001b[39marguments),\n\u001b[1;32m    308\u001b[0m         \u001b[38;5;167;01mFutureWarning\u001b[39;00m,\n\u001b[1;32m    309\u001b[0m         stacklevel\u001b[38;5;241m=\u001b[39mstacklevel,\n\u001b[1;32m    310\u001b[0m     )\n\u001b[0;32m--> 311\u001b[0m \u001b[38;5;28;01mreturn\u001b[39;00m \u001b[43mfunc\u001b[49m\u001b[43m(\u001b[49m\u001b[38;5;241;43m*\u001b[39;49m\u001b[43margs\u001b[49m\u001b[43m,\u001b[49m\u001b[43m \u001b[49m\u001b[38;5;241;43m*\u001b[39;49m\u001b[38;5;241;43m*\u001b[39;49m\u001b[43mkwargs\u001b[49m\u001b[43m)\u001b[49m\n",
      "File \u001b[0;32m~/anaconda3/lib/python3.9/site-packages/pandas/io/parsers/readers.py:680\u001b[0m, in \u001b[0;36mread_csv\u001b[0;34m(filepath_or_buffer, sep, delimiter, header, names, index_col, usecols, squeeze, prefix, mangle_dupe_cols, dtype, engine, converters, true_values, false_values, skipinitialspace, skiprows, skipfooter, nrows, na_values, keep_default_na, na_filter, verbose, skip_blank_lines, parse_dates, infer_datetime_format, keep_date_col, date_parser, dayfirst, cache_dates, iterator, chunksize, compression, thousands, decimal, lineterminator, quotechar, quoting, doublequote, escapechar, comment, encoding, encoding_errors, dialect, error_bad_lines, warn_bad_lines, on_bad_lines, delim_whitespace, low_memory, memory_map, float_precision, storage_options)\u001b[0m\n\u001b[1;32m    665\u001b[0m kwds_defaults \u001b[38;5;241m=\u001b[39m _refine_defaults_read(\n\u001b[1;32m    666\u001b[0m     dialect,\n\u001b[1;32m    667\u001b[0m     delimiter,\n\u001b[0;32m   (...)\u001b[0m\n\u001b[1;32m    676\u001b[0m     defaults\u001b[38;5;241m=\u001b[39m{\u001b[38;5;124m\"\u001b[39m\u001b[38;5;124mdelimiter\u001b[39m\u001b[38;5;124m\"\u001b[39m: \u001b[38;5;124m\"\u001b[39m\u001b[38;5;124m,\u001b[39m\u001b[38;5;124m\"\u001b[39m},\n\u001b[1;32m    677\u001b[0m )\n\u001b[1;32m    678\u001b[0m kwds\u001b[38;5;241m.\u001b[39mupdate(kwds_defaults)\n\u001b[0;32m--> 680\u001b[0m \u001b[38;5;28;01mreturn\u001b[39;00m \u001b[43m_read\u001b[49m\u001b[43m(\u001b[49m\u001b[43mfilepath_or_buffer\u001b[49m\u001b[43m,\u001b[49m\u001b[43m \u001b[49m\u001b[43mkwds\u001b[49m\u001b[43m)\u001b[49m\n",
      "File \u001b[0;32m~/anaconda3/lib/python3.9/site-packages/pandas/io/parsers/readers.py:575\u001b[0m, in \u001b[0;36m_read\u001b[0;34m(filepath_or_buffer, kwds)\u001b[0m\n\u001b[1;32m    572\u001b[0m _validate_names(kwds\u001b[38;5;241m.\u001b[39mget(\u001b[38;5;124m\"\u001b[39m\u001b[38;5;124mnames\u001b[39m\u001b[38;5;124m\"\u001b[39m, \u001b[38;5;28;01mNone\u001b[39;00m))\n\u001b[1;32m    574\u001b[0m \u001b[38;5;66;03m# Create the parser.\u001b[39;00m\n\u001b[0;32m--> 575\u001b[0m parser \u001b[38;5;241m=\u001b[39m \u001b[43mTextFileReader\u001b[49m\u001b[43m(\u001b[49m\u001b[43mfilepath_or_buffer\u001b[49m\u001b[43m,\u001b[49m\u001b[43m \u001b[49m\u001b[38;5;241;43m*\u001b[39;49m\u001b[38;5;241;43m*\u001b[39;49m\u001b[43mkwds\u001b[49m\u001b[43m)\u001b[49m\n\u001b[1;32m    577\u001b[0m \u001b[38;5;28;01mif\u001b[39;00m chunksize \u001b[38;5;129;01mor\u001b[39;00m iterator:\n\u001b[1;32m    578\u001b[0m     \u001b[38;5;28;01mreturn\u001b[39;00m parser\n",
      "File \u001b[0;32m~/anaconda3/lib/python3.9/site-packages/pandas/io/parsers/readers.py:933\u001b[0m, in \u001b[0;36mTextFileReader.__init__\u001b[0;34m(self, f, engine, **kwds)\u001b[0m\n\u001b[1;32m    930\u001b[0m     \u001b[38;5;28mself\u001b[39m\u001b[38;5;241m.\u001b[39moptions[\u001b[38;5;124m\"\u001b[39m\u001b[38;5;124mhas_index_names\u001b[39m\u001b[38;5;124m\"\u001b[39m] \u001b[38;5;241m=\u001b[39m kwds[\u001b[38;5;124m\"\u001b[39m\u001b[38;5;124mhas_index_names\u001b[39m\u001b[38;5;124m\"\u001b[39m]\n\u001b[1;32m    932\u001b[0m \u001b[38;5;28mself\u001b[39m\u001b[38;5;241m.\u001b[39mhandles: IOHandles \u001b[38;5;241m|\u001b[39m \u001b[38;5;28;01mNone\u001b[39;00m \u001b[38;5;241m=\u001b[39m \u001b[38;5;28;01mNone\u001b[39;00m\n\u001b[0;32m--> 933\u001b[0m \u001b[38;5;28mself\u001b[39m\u001b[38;5;241m.\u001b[39m_engine \u001b[38;5;241m=\u001b[39m \u001b[38;5;28;43mself\u001b[39;49m\u001b[38;5;241;43m.\u001b[39;49m\u001b[43m_make_engine\u001b[49m\u001b[43m(\u001b[49m\u001b[43mf\u001b[49m\u001b[43m,\u001b[49m\u001b[43m \u001b[49m\u001b[38;5;28;43mself\u001b[39;49m\u001b[38;5;241;43m.\u001b[39;49m\u001b[43mengine\u001b[49m\u001b[43m)\u001b[49m\n",
      "File \u001b[0;32m~/anaconda3/lib/python3.9/site-packages/pandas/io/parsers/readers.py:1217\u001b[0m, in \u001b[0;36mTextFileReader._make_engine\u001b[0;34m(self, f, engine)\u001b[0m\n\u001b[1;32m   1213\u001b[0m     mode \u001b[38;5;241m=\u001b[39m \u001b[38;5;124m\"\u001b[39m\u001b[38;5;124mrb\u001b[39m\u001b[38;5;124m\"\u001b[39m\n\u001b[1;32m   1214\u001b[0m \u001b[38;5;66;03m# error: No overload variant of \"get_handle\" matches argument types\u001b[39;00m\n\u001b[1;32m   1215\u001b[0m \u001b[38;5;66;03m# \"Union[str, PathLike[str], ReadCsvBuffer[bytes], ReadCsvBuffer[str]]\"\u001b[39;00m\n\u001b[1;32m   1216\u001b[0m \u001b[38;5;66;03m# , \"str\", \"bool\", \"Any\", \"Any\", \"Any\", \"Any\", \"Any\"\u001b[39;00m\n\u001b[0;32m-> 1217\u001b[0m \u001b[38;5;28mself\u001b[39m\u001b[38;5;241m.\u001b[39mhandles \u001b[38;5;241m=\u001b[39m \u001b[43mget_handle\u001b[49m\u001b[43m(\u001b[49m\u001b[43m  \u001b[49m\u001b[38;5;66;43;03m# type: ignore[call-overload]\u001b[39;49;00m\n\u001b[1;32m   1218\u001b[0m \u001b[43m    \u001b[49m\u001b[43mf\u001b[49m\u001b[43m,\u001b[49m\n\u001b[1;32m   1219\u001b[0m \u001b[43m    \u001b[49m\u001b[43mmode\u001b[49m\u001b[43m,\u001b[49m\n\u001b[1;32m   1220\u001b[0m \u001b[43m    \u001b[49m\u001b[43mencoding\u001b[49m\u001b[38;5;241;43m=\u001b[39;49m\u001b[38;5;28;43mself\u001b[39;49m\u001b[38;5;241;43m.\u001b[39;49m\u001b[43moptions\u001b[49m\u001b[38;5;241;43m.\u001b[39;49m\u001b[43mget\u001b[49m\u001b[43m(\u001b[49m\u001b[38;5;124;43m\"\u001b[39;49m\u001b[38;5;124;43mencoding\u001b[39;49m\u001b[38;5;124;43m\"\u001b[39;49m\u001b[43m,\u001b[49m\u001b[43m \u001b[49m\u001b[38;5;28;43;01mNone\u001b[39;49;00m\u001b[43m)\u001b[49m\u001b[43m,\u001b[49m\n\u001b[1;32m   1221\u001b[0m \u001b[43m    \u001b[49m\u001b[43mcompression\u001b[49m\u001b[38;5;241;43m=\u001b[39;49m\u001b[38;5;28;43mself\u001b[39;49m\u001b[38;5;241;43m.\u001b[39;49m\u001b[43moptions\u001b[49m\u001b[38;5;241;43m.\u001b[39;49m\u001b[43mget\u001b[49m\u001b[43m(\u001b[49m\u001b[38;5;124;43m\"\u001b[39;49m\u001b[38;5;124;43mcompression\u001b[39;49m\u001b[38;5;124;43m\"\u001b[39;49m\u001b[43m,\u001b[49m\u001b[43m \u001b[49m\u001b[38;5;28;43;01mNone\u001b[39;49;00m\u001b[43m)\u001b[49m\u001b[43m,\u001b[49m\n\u001b[1;32m   1222\u001b[0m \u001b[43m    \u001b[49m\u001b[43mmemory_map\u001b[49m\u001b[38;5;241;43m=\u001b[39;49m\u001b[38;5;28;43mself\u001b[39;49m\u001b[38;5;241;43m.\u001b[39;49m\u001b[43moptions\u001b[49m\u001b[38;5;241;43m.\u001b[39;49m\u001b[43mget\u001b[49m\u001b[43m(\u001b[49m\u001b[38;5;124;43m\"\u001b[39;49m\u001b[38;5;124;43mmemory_map\u001b[39;49m\u001b[38;5;124;43m\"\u001b[39;49m\u001b[43m,\u001b[49m\u001b[43m \u001b[49m\u001b[38;5;28;43;01mFalse\u001b[39;49;00m\u001b[43m)\u001b[49m\u001b[43m,\u001b[49m\n\u001b[1;32m   1223\u001b[0m \u001b[43m    \u001b[49m\u001b[43mis_text\u001b[49m\u001b[38;5;241;43m=\u001b[39;49m\u001b[43mis_text\u001b[49m\u001b[43m,\u001b[49m\n\u001b[1;32m   1224\u001b[0m \u001b[43m    \u001b[49m\u001b[43merrors\u001b[49m\u001b[38;5;241;43m=\u001b[39;49m\u001b[38;5;28;43mself\u001b[39;49m\u001b[38;5;241;43m.\u001b[39;49m\u001b[43moptions\u001b[49m\u001b[38;5;241;43m.\u001b[39;49m\u001b[43mget\u001b[49m\u001b[43m(\u001b[49m\u001b[38;5;124;43m\"\u001b[39;49m\u001b[38;5;124;43mencoding_errors\u001b[39;49m\u001b[38;5;124;43m\"\u001b[39;49m\u001b[43m,\u001b[49m\u001b[43m \u001b[49m\u001b[38;5;124;43m\"\u001b[39;49m\u001b[38;5;124;43mstrict\u001b[39;49m\u001b[38;5;124;43m\"\u001b[39;49m\u001b[43m)\u001b[49m\u001b[43m,\u001b[49m\n\u001b[1;32m   1225\u001b[0m \u001b[43m    \u001b[49m\u001b[43mstorage_options\u001b[49m\u001b[38;5;241;43m=\u001b[39;49m\u001b[38;5;28;43mself\u001b[39;49m\u001b[38;5;241;43m.\u001b[39;49m\u001b[43moptions\u001b[49m\u001b[38;5;241;43m.\u001b[39;49m\u001b[43mget\u001b[49m\u001b[43m(\u001b[49m\u001b[38;5;124;43m\"\u001b[39;49m\u001b[38;5;124;43mstorage_options\u001b[39;49m\u001b[38;5;124;43m\"\u001b[39;49m\u001b[43m,\u001b[49m\u001b[43m \u001b[49m\u001b[38;5;28;43;01mNone\u001b[39;49;00m\u001b[43m)\u001b[49m\u001b[43m,\u001b[49m\n\u001b[1;32m   1226\u001b[0m \u001b[43m\u001b[49m\u001b[43m)\u001b[49m\n\u001b[1;32m   1227\u001b[0m \u001b[38;5;28;01massert\u001b[39;00m \u001b[38;5;28mself\u001b[39m\u001b[38;5;241m.\u001b[39mhandles \u001b[38;5;129;01mis\u001b[39;00m \u001b[38;5;129;01mnot\u001b[39;00m \u001b[38;5;28;01mNone\u001b[39;00m\n\u001b[1;32m   1228\u001b[0m f \u001b[38;5;241m=\u001b[39m \u001b[38;5;28mself\u001b[39m\u001b[38;5;241m.\u001b[39mhandles\u001b[38;5;241m.\u001b[39mhandle\n",
      "File \u001b[0;32m~/anaconda3/lib/python3.9/site-packages/pandas/io/common.py:789\u001b[0m, in \u001b[0;36mget_handle\u001b[0;34m(path_or_buf, mode, encoding, compression, memory_map, is_text, errors, storage_options)\u001b[0m\n\u001b[1;32m    784\u001b[0m \u001b[38;5;28;01melif\u001b[39;00m \u001b[38;5;28misinstance\u001b[39m(handle, \u001b[38;5;28mstr\u001b[39m):\n\u001b[1;32m    785\u001b[0m     \u001b[38;5;66;03m# Check whether the filename is to be opened in binary mode.\u001b[39;00m\n\u001b[1;32m    786\u001b[0m     \u001b[38;5;66;03m# Binary mode does not support 'encoding' and 'newline'.\u001b[39;00m\n\u001b[1;32m    787\u001b[0m     \u001b[38;5;28;01mif\u001b[39;00m ioargs\u001b[38;5;241m.\u001b[39mencoding \u001b[38;5;129;01mand\u001b[39;00m \u001b[38;5;124m\"\u001b[39m\u001b[38;5;124mb\u001b[39m\u001b[38;5;124m\"\u001b[39m \u001b[38;5;129;01mnot\u001b[39;00m \u001b[38;5;129;01min\u001b[39;00m ioargs\u001b[38;5;241m.\u001b[39mmode:\n\u001b[1;32m    788\u001b[0m         \u001b[38;5;66;03m# Encoding\u001b[39;00m\n\u001b[0;32m--> 789\u001b[0m         handle \u001b[38;5;241m=\u001b[39m \u001b[38;5;28;43mopen\u001b[39;49m\u001b[43m(\u001b[49m\n\u001b[1;32m    790\u001b[0m \u001b[43m            \u001b[49m\u001b[43mhandle\u001b[49m\u001b[43m,\u001b[49m\n\u001b[1;32m    791\u001b[0m \u001b[43m            \u001b[49m\u001b[43mioargs\u001b[49m\u001b[38;5;241;43m.\u001b[39;49m\u001b[43mmode\u001b[49m\u001b[43m,\u001b[49m\n\u001b[1;32m    792\u001b[0m \u001b[43m            \u001b[49m\u001b[43mencoding\u001b[49m\u001b[38;5;241;43m=\u001b[39;49m\u001b[43mioargs\u001b[49m\u001b[38;5;241;43m.\u001b[39;49m\u001b[43mencoding\u001b[49m\u001b[43m,\u001b[49m\n\u001b[1;32m    793\u001b[0m \u001b[43m            \u001b[49m\u001b[43merrors\u001b[49m\u001b[38;5;241;43m=\u001b[39;49m\u001b[43merrors\u001b[49m\u001b[43m,\u001b[49m\n\u001b[1;32m    794\u001b[0m \u001b[43m            \u001b[49m\u001b[43mnewline\u001b[49m\u001b[38;5;241;43m=\u001b[39;49m\u001b[38;5;124;43m\"\u001b[39;49m\u001b[38;5;124;43m\"\u001b[39;49m\u001b[43m,\u001b[49m\n\u001b[1;32m    795\u001b[0m \u001b[43m        \u001b[49m\u001b[43m)\u001b[49m\n\u001b[1;32m    796\u001b[0m     \u001b[38;5;28;01melse\u001b[39;00m:\n\u001b[1;32m    797\u001b[0m         \u001b[38;5;66;03m# Binary mode\u001b[39;00m\n\u001b[1;32m    798\u001b[0m         handle \u001b[38;5;241m=\u001b[39m \u001b[38;5;28mopen\u001b[39m(handle, ioargs\u001b[38;5;241m.\u001b[39mmode)\n",
      "\u001b[0;31mFileNotFoundError\u001b[0m: [Errno 2] No such file or directory: 'big_df.csv'"
     ]
    }
   ],
   "source": [
    "big_df = pd.read_csv('backend/dataset/big_df_edited.csv')"
   ]
  },
  {
   "cell_type": "code",
   "execution_count": 5,
   "metadata": {
    "id": "w0NMqAZPHkA6"
   },
   "outputs": [],
   "source": [
    "big_df.drop(columns=['Unnamed: 0'], inplace=True)"
   ]
  },
  {
   "cell_type": "code",
   "execution_count": 6,
   "metadata": {
    "id": "-Sqbk-8PHkA6"
   },
   "outputs": [],
   "source": [
    "big_df['tknzd_lyrics'] = big_df['tknzd_lyrics'].apply(ast.literal_eval)\n",
    "big_df['emotions'] = big_df['emotions'].apply(ast.literal_eval)\n",
    "big_df['social_tags'] = big_df['social_tags'].apply(ast.literal_eval)"
   ]
  },
  {
   "cell_type": "code",
   "execution_count": 11,
   "metadata": {
    "id": "PMMRrmDEHkA6"
   },
   "outputs": [],
   "source": [
    "drop_rows = []\n",
    "for row in big_df.iterrows():\n",
    "    if row[1]['emotions'] == []:\n",
    "        drop_rows.append(row[0])\n",
    "big_df.drop(drop_rows, inplace=True)"
   ]
  },
  {
   "cell_type": "code",
   "execution_count": 13,
   "metadata": {
    "id": "AwilKJKUHkA6"
   },
   "outputs": [],
   "source": [
    "# my_stop_words = text.ENGLISH_STOP_WORDS.union({'city'})\n",
    "vectorizer = TfidfVectorizer(max_df = 0.8, min_df = 10, norm='l2', stop_words = list(my_stop_words))\n",
    "X = vectorizer.fit_transform(big_df['tknzd_lyrics'].apply(lambda x: \" \".join(x)))"
   ]
  },
  {
   "cell_type": "code",
   "execution_count": 14,
   "metadata": {},
   "outputs": [],
   "source": [
    "with open('vectorizer.pkl', 'wb') as f:\n",
    "    pickle.dump(vectorizer, f)"
   ]
  },
  {
   "cell_type": "code",
   "execution_count": 15,
   "metadata": {
    "id": "4OCZNzLdHkA6"
   },
   "outputs": [],
   "source": [
    "index_to_word = {i:v for i, v in enumerate(vectorizer.get_feature_names_out())}\n",
    "word_to_index = {v:i for i, v in enumerate(vectorizer.get_feature_names_out())}"
   ]
  },
  {
   "cell_type": "code",
   "execution_count": 16,
   "metadata": {
    "id": "wsOxHtGoHkA7"
   },
   "outputs": [],
   "source": [
    "with open('word_to_index.pkl', 'wb') as f:\n",
    "    pickle.dump(word_to_index, f)\n",
    "with open('index_to_word.pkl', 'wb') as f:\n",
    "    pickle.dump(index_to_word, f)"
   ]
  },
  {
   "cell_type": "code",
   "execution_count": 17,
   "metadata": {
    "id": "REZHOJMuHkA7"
   },
   "outputs": [],
   "source": [
    "with open('song_tf_idf.pickle', 'wb') as f:\n",
    "    pickle.dump(X, f)"
   ]
  },
  {
   "cell_type": "code",
   "execution_count": 18,
   "metadata": {
    "id": "CO2x8SSbHkA8"
   },
   "outputs": [],
   "source": [
    "song_to_index = {s:i for i, s in enumerate(big_df['title'])}\n",
    "index_to_song = {i:s for i, s in enumerate(big_df['title'])}"
   ]
  },
  {
   "cell_type": "code",
   "execution_count": 19,
   "metadata": {
    "id": "3IjdFFS6HkA8"
   },
   "outputs": [],
   "source": [
    "with open('song_to_index.pkl', 'wb') as f:\n",
    "    pickle.dump(song_to_index, f)\n",
    "with open('index_to_song.pkl', 'wb') as f:\n",
    "    pickle.dump(index_to_song, f)"
   ]
  },
  {
   "cell_type": "markdown",
   "metadata": {
    "id": "LmLArolrHkA8"
   },
   "source": [
    "# wiki"
   ]
  },
  {
   "cell_type": "code",
   "execution_count": 20,
   "metadata": {
    "id": "wgJvGb0EHkA9"
   },
   "outputs": [],
   "source": [
    "from dataset import wiki_scraping"
   ]
  },
  {
   "cell_type": "code",
   "execution_count": 22,
   "metadata": {
    "colab": {
     "base_uri": "https://localhost:8080/"
    },
    "id": "F5h5Ar7kONm4",
    "outputId": "9a72779f-1f95-4e4e-8423-87eda79e4b05"
   },
   "outputs": [
    {
     "name": "stdout",
     "output_type": "stream",
     "text": [
      "11191\n"
     ]
    }
   ],
   "source": [
    "print(len(wiki_texts['Tel Aviv']))"
   ]
  },
  {
   "cell_type": "code",
   "execution_count": 23,
   "metadata": {
    "id": "T6iaemrWHkA9"
   },
   "outputs": [],
   "source": [
    "wiki_corpus = []\n",
    "for ls in list(wiki_texts.values()):\n",
    "    wiki_corpus.append(\" \".join(ls))"
   ]
  },
  {
   "cell_type": "code",
   "execution_count": 24,
   "metadata": {
    "id": "PsTVTt4AHkA-"
   },
   "outputs": [],
   "source": [
    "vec2 = vectorizer.transform(wiki_corpus)\n",
    "vec2 = vec2.toarray()\n",
    "X = X.toarray()"
   ]
  },
  {
   "cell_type": "code",
   "execution_count": 25,
   "metadata": {
    "colab": {
     "base_uri": "https://localhost:8080/"
    },
    "id": "2xCg95_fHkA-",
    "outputId": "8a57df38-a198-4b72-ab6a-3db543fbc731"
   },
   "outputs": [
    {
     "data": {
      "text/plain": [
       "array([12.76056599, 21.72531696,  8.19793084,  9.00100552,  9.32252566,\n",
       "       10.03844417,  9.76060739,  3.37538411, 10.61707356, 11.88622367,\n",
       "       10.46762739,  9.5804043 ,  2.92019587, 19.97348177,  9.74265325,\n",
       "        9.45624746,  9.24074649,  9.27382606,  2.52462106, 10.36629091,\n",
       "        8.93393302,  9.10392665,  2.92501758, 11.13005259,  9.17498756,\n",
       "        8.83580635,  9.01964941, 16.56791844, 13.17944882, 11.22363697,\n",
       "        7.93065913, 15.53027504, 18.02373864, 13.92065519, 16.39143812,\n",
       "       17.22400158, 17.95251449, 18.12331534, 13.88649701, 20.67482374,\n",
       "       17.43832817, 20.20093963, 10.28426069,  9.28731319, 10.50562482,\n",
       "       19.59373312,  9.87494007])"
      ]
     },
     "execution_count": 25,
     "metadata": {},
     "output_type": "execute_result"
    }
   ],
   "source": [
    "vec2.sum(axis=1)"
   ]
  },
  {
   "cell_type": "code",
   "execution_count": 26,
   "metadata": {
    "colab": {
     "base_uri": "https://localhost:8080/"
    },
    "id": "CNyWbowGHkA_",
    "outputId": "f2e9fcec-45ad-4c96-fea6-6bc665e431dd"
   },
   "outputs": [
    {
     "name": "stdout",
     "output_type": "stream",
     "text": [
      "(47, 13784)\n",
      "(34554, 13784)\n"
     ]
    }
   ],
   "source": [
    "print(vec2.shape)\n",
    "print(X.shape)"
   ]
  },
  {
   "cell_type": "code",
   "execution_count": 27,
   "metadata": {
    "colab": {
     "base_uri": "https://localhost:8080/"
    },
    "id": "OEup-83KHkA_",
    "outputId": "c5d48888-86d2-4c7a-ad69-a61a3dcaa44c"
   },
   "outputs": [
    {
     "data": {
      "text/plain": [
       "array([0., 0., 0., ..., 0., 0., 0.])"
      ]
     },
     "execution_count": 27,
     "metadata": {},
     "output_type": "execute_result"
    }
   ],
   "source": [
    "vec2[2,:]"
   ]
  },
  {
   "cell_type": "code",
   "execution_count": 28,
   "metadata": {
    "id": "q6CgclQ4HkBA"
   },
   "outputs": [],
   "source": [
    "loc_to_index = {cty:i for i, cty in enumerate(wiki_texts.keys())}"
   ]
  },
  {
   "cell_type": "code",
   "execution_count": 29,
   "metadata": {
    "id": "k1ZHkbaUHkBA"
   },
   "outputs": [],
   "source": [
    "def cos_sim(city, song):\n",
    "    city_i = loc_to_index[city]\n",
    "    song_i = song_to_index[song]\n",
    "    city_vec = vec2[city_i, :]\n",
    "    song_vec = X[song_i, :]\n",
    "    denom = np.linalg.norm(city_vec) * np.linalg.norm(song_vec)\n",
    "    num = city_vec @ song_vec\n",
    "    return (num ) /  (denom )"
   ]
  },
  {
   "cell_type": "code",
   "execution_count": 30,
   "metadata": {
    "colab": {
     "base_uri": "https://localhost:8080/"
    },
    "id": "1aSmHFnuHkBA",
    "outputId": "99db59a4-93df-4003-f1f2-32dcab8c7aa5"
   },
   "outputs": [
    {
     "data": {
      "text/plain": [
       "(13784,)"
      ]
     },
     "execution_count": 30,
     "metadata": {},
     "output_type": "execute_result"
    }
   ],
   "source": [
    "vec2[2,:].shape"
   ]
  },
  {
   "cell_type": "code",
   "execution_count": 31,
   "metadata": {
    "id": "2_VoyvHGHkBA"
   },
   "outputs": [],
   "source": [
    "def best_songs_for_city(city):\n",
    "    best = []\n",
    "    for song in song_to_index:\n",
    "        sim = cos_sim(city, song)\n",
    "        best.append((song, sim))\n",
    "    srtd = sorted(best, key = lambda x: x[1], reverse=True)\n",
    "    for t in srtd[:10]:\n",
    "        print(\"Song: \", t[0], \"  Score: {:.3f}\".format(t[1]))"
   ]
  },
  {
   "cell_type": "code",
   "execution_count": 32,
   "metadata": {
    "colab": {
     "base_uri": "https://localhost:8080/"
    },
    "id": "3G2AdF-2HkBB",
    "outputId": "e53be0d4-54ac-4600-abbf-7c0d22d1ab43"
   },
   "outputs": [
    {
     "name": "stderr",
     "output_type": "stream",
     "text": [
      "<ipython-input-29-081fac839062>:8: RuntimeWarning: invalid value encountered in double_scalars\n",
      "  return (num ) /  (denom )\n"
     ]
    },
    {
     "name": "stdout",
     "output_type": "stream",
     "text": [
      "Song:  I Love NYC   Score: 0.707\n",
      "Song:  New York   Score: 0.685\n",
      "Song:  King Of New York   Score: 0.517\n",
      "Song:  New York City Cops   Score: 0.512\n",
      "Song:  The Incumbent   Score: 0.430\n",
      "Song:  Stranger Into Starman   Score: 0.333\n",
      "Song:  Cocaine In My Brain   Score: 0.318\n",
      "Song:  Feeling Good   Score: 0.298\n",
      "Song:  The World I Know   Score: 0.240\n",
      "Song:  New Noise   Score: 0.214\n"
     ]
    }
   ],
   "source": [
    "best_songs_for_city(\"New York City\")"
   ]
  },
  {
   "cell_type": "code",
   "execution_count": 33,
   "metadata": {
    "colab": {
     "base_uri": "https://localhost:8080/"
    },
    "id": "EHPdIHRbHkBB",
    "outputId": "6cfe4fdd-cbd8-4498-8309-6c54dbe67e6f"
   },
   "outputs": [
    {
     "name": "stderr",
     "output_type": "stream",
     "text": [
      "<ipython-input-29-081fac839062>:8: RuntimeWarning: invalid value encountered in double_scalars\n",
      "  return (num ) /  (denom )\n"
     ]
    },
    {
     "name": "stdout",
     "output_type": "stream",
     "text": [
      "Song:  London Bridge   Score: 0.762\n",
      "Song:  London Is The Place For Me   Score: 0.727\n",
      "Song:  London Calling   Score: 0.618\n",
      "Song:  Glamorous Glue   Score: 0.523\n",
      "Song:  London Loves   Score: 0.514\n",
      "Song:  Street Fighting Man   Score: 0.281\n",
      "Song:  Your Embrace   Score: 0.225\n",
      "Song:  The Vanishing   Score: 0.185\n",
      "Song:  Round Here   Score: 0.150\n",
      "Song:  Delaney   Score: 0.143\n"
     ]
    }
   ],
   "source": [
    "best_songs_for_city(\"London\")"
   ]
  },
  {
   "cell_type": "code",
   "execution_count": 34,
   "metadata": {
    "colab": {
     "base_uri": "https://localhost:8080/"
    },
    "id": "FUdyHbHkHkBC",
    "outputId": "3cf5fe2a-658a-4c6f-9ad3-0d2ed4c9d825"
   },
   "outputs": [
    {
     "name": "stderr",
     "output_type": "stream",
     "text": [
      "<ipython-input-29-081fac839062>:8: RuntimeWarning: invalid value encountered in double_scalars\n",
      "  return (num ) /  (denom )\n"
     ]
    },
    {
     "name": "stdout",
     "output_type": "stream",
     "text": [
      "Song:  Victime de la mode   Score: 0.259\n",
      "Song:  Redrum   Score: 0.209\n",
      "Song:  Red Velvet   Score: 0.126\n",
      "Song:  The Ballot or the Bullet   Score: 0.055\n",
      "Song:  Hitten   Score: 0.040\n",
      "Song:  100%   Score: 0.039\n",
      "Song:  Oh Jerusalem   Score: 0.037\n",
      "Song:  Poster Princess   Score: 0.037\n",
      "Song:  Home Life   Score: 0.035\n",
      "Song:  Intro   Score: 0.035\n"
     ]
    }
   ],
   "source": [
    "best_songs_for_city(\"Tel Aviv\")"
   ]
  },
  {
   "cell_type": "code",
   "execution_count": 35,
   "metadata": {
    "colab": {
     "base_uri": "https://localhost:8080/"
    },
    "id": "tg2mVO5vHkBC",
    "outputId": "7d256f8d-91cd-4e5a-ec9f-2b5fa3512ae7"
   },
   "outputs": [
    {
     "name": "stderr",
     "output_type": "stream",
     "text": [
      "<ipython-input-29-081fac839062>:8: RuntimeWarning: invalid value encountered in double_scalars\n",
      "  return (num ) /  (denom )\n"
     ]
    },
    {
     "name": "stdout",
     "output_type": "stream",
     "text": [
      "Song:  Tokyo Witch   Score: 0.280\n",
      "Song:  Panda Bear   Score: 0.163\n",
      "Song:  Never Ending Summer   Score: 0.142\n",
      "Song:  Award Tour   Score: 0.104\n",
      "Song:  Back 4 U   Score: 0.075\n",
      "Song:  Bodhisattva   Score: 0.072\n",
      "Song:  Impossible Germany   Score: 0.063\n",
      "Song:  Harajuku Girls   Score: 0.059\n",
      "Song:  Da Joint   Score: 0.055\n",
      "Song:  Losing My Edge   Score: 0.050\n"
     ]
    }
   ],
   "source": [
    "best_songs_for_city(\"Tokyo\")"
   ]
  },
  {
   "cell_type": "code",
   "execution_count": 36,
   "metadata": {
    "colab": {
     "base_uri": "https://localhost:8080/"
    },
    "id": "NZ5urYHpHkBC",
    "outputId": "d39bd0dc-5358-4d24-894f-e2f22ba40fe6"
   },
   "outputs": [
    {
     "name": "stderr",
     "output_type": "stream",
     "text": [
      "<ipython-input-29-081fac839062>:8: RuntimeWarning: invalid value encountered in double_scalars\n",
      "  return (num ) /  (denom )\n"
     ]
    },
    {
     "name": "stdout",
     "output_type": "stream",
     "text": [
      "Song:  Indian Girl   Score: 0.158\n",
      "Song:  Citysong   Score: 0.129\n",
      "Song:  The Ballot or the Bullet   Score: 0.124\n",
      "Song:  Fireworks   Score: 0.112\n",
      "Song:  30 Century Man   Score: 0.107\n",
      "Song:  21st Century Digital Boy   Score: 0.088\n",
      "Song:  Twentieth Century Fox   Score: 0.084\n",
      "Song:  Suburban Home   Score: 0.083\n",
      "Song:  The Kids   Score: 0.082\n",
      "Song:  Flux   Score: 0.080\n"
     ]
    }
   ],
   "source": [
    "best_songs_for_city(\"Mumbai\")"
   ]
  },
  {
   "cell_type": "code",
   "execution_count": 36,
   "metadata": {
    "colab": {
     "base_uri": "https://localhost:8080/"
    },
    "id": "xhqGyl5hHkBC",
    "outputId": "67f29405-d1f9-4fa7-9fad-4cb5b070be6d"
   },
   "outputs": [
    {
     "name": "stderr",
     "output_type": "stream",
     "text": [
      "<ipython-input-29-081fac839062>:8: RuntimeWarning: invalid value encountered in double_scalars\n",
      "  return (num ) /  (denom )\n"
     ]
    },
    {
     "name": "stdout",
     "output_type": "stream",
     "text": [
      "Song:  The Ballot or the Bullet   Score: 0.132\n",
      "Song:  Luton To Lisbon   Score: 0.130\n",
      "Song:  The World Is Mine   Score: 0.114\n",
      "Song:  Beechwood Park   Score: 0.110\n",
      "Song:  We Built This City   Score: 0.100\n",
      "Song:  Running The World   Score: 0.099\n",
      "Song:  Da Joint   Score: 0.098\n",
      "Song:  DVNO   Score: 0.095\n",
      "Song:  The Hemp Museum   Score: 0.095\n",
      "Song:  This Is How We Do It   Score: 0.092\n"
     ]
    }
   ],
   "source": [
    "best_songs_for_city(\"Seoul\")"
   ]
  },
  {
   "cell_type": "code",
   "execution_count": 35,
   "metadata": {
    "id": "nCfn7fuBHkBC"
   },
   "outputs": [],
   "source": [
    "with open('wiki_tf_idf.pkl', 'wb') as f:\n",
    "    pickle.dump(vec2, f)"
   ]
  },
  {
   "cell_type": "code",
   "execution_count": 39,
   "metadata": {
    "colab": {
     "base_uri": "https://localhost:8080/",
     "height": 177
    },
    "id": "A_EGL-iMHkBD",
    "outputId": "d7f03b84-1569-438d-90f0-9a334f1ca591"
   },
   "outputs": [
    {
     "data": {
      "text/html": [
       "<div>\n",
       "<style scoped>\n",
       "    .dataframe tbody tr th:only-of-type {\n",
       "        vertical-align: middle;\n",
       "    }\n",
       "\n",
       "    .dataframe tbody tr th {\n",
       "        vertical-align: top;\n",
       "    }\n",
       "\n",
       "    .dataframe thead th {\n",
       "        text-align: right;\n",
       "    }\n",
       "</style>\n",
       "<table border=\"1\" class=\"dataframe\">\n",
       "  <thead>\n",
       "    <tr style=\"text-align: right;\">\n",
       "      <th></th>\n",
       "      <th>title</th>\n",
       "      <th>tag</th>\n",
       "      <th>artist</th>\n",
       "      <th>year</th>\n",
       "      <th>views</th>\n",
       "      <th>features</th>\n",
       "      <th>lyrics</th>\n",
       "      <th>id</th>\n",
       "      <th>song_id</th>\n",
       "      <th>emotions</th>\n",
       "      <th>social_tags</th>\n",
       "      <th>tknzd_lyrics</th>\n",
       "    </tr>\n",
       "  </thead>\n",
       "  <tbody>\n",
       "    <tr>\n",
       "      <th>1779</th>\n",
       "      <td>DVNO</td>\n",
       "      <td>rock</td>\n",
       "      <td>Justice</td>\n",
       "      <td>2007</td>\n",
       "      <td>30010</td>\n",
       "      <td>{\"Mehdi Pinson\"}</td>\n",
       "      <td>[Verse 1]\\nIt's always the same\\nAlways ashame...</td>\n",
       "      <td>100497</td>\n",
       "      <td>TRNPKRK128F429831C</td>\n",
       "      <td>[(party, 13), (energetic, 1), (fun, 1), (sexy,...</td>\n",
       "      <td>[(electronic, 100), (dance, 67), (electro, 61)...</td>\n",
       "      <td>[its, always, the, same, always, ashamed, stor...</td>\n",
       "    </tr>\n",
       "  </tbody>\n",
       "</table>\n",
       "</div>"
      ],
      "text/plain": [
       "     title   tag   artist  year  views          features  \\\n",
       "1779  DVNO  rock  Justice  2007  30010  {\"Mehdi Pinson\"}   \n",
       "\n",
       "                                                 lyrics      id  \\\n",
       "1779  [Verse 1]\\nIt's always the same\\nAlways ashame...  100497   \n",
       "\n",
       "                 song_id                                           emotions  \\\n",
       "1779  TRNPKRK128F429831C  [(party, 13), (energetic, 1), (fun, 1), (sexy,...   \n",
       "\n",
       "                                            social_tags  \\\n",
       "1779  [(electronic, 100), (dance, 67), (electro, 61)...   \n",
       "\n",
       "                                           tknzd_lyrics  \n",
       "1779  [its, always, the, same, always, ashamed, stor...  "
      ]
     },
     "execution_count": 39,
     "metadata": {},
     "output_type": "execute_result"
    }
   ],
   "source": [
    "big_df.loc[big_df['title']=='DVNO']"
   ]
  },
  {
   "cell_type": "code",
   "execution_count": 2,
   "metadata": {},
   "outputs": [
    {
     "ename": "NameError",
     "evalue": "name 'vectorizer' is not defined",
     "output_type": "error",
     "traceback": [
      "\u001b[0;31m---------------------------------------------------------------------------\u001b[0m",
      "\u001b[0;31mNameError\u001b[0m                                 Traceback (most recent call last)",
      "\u001b[0;32m<ipython-input-2-69a894d92cd1>\u001b[0m in \u001b[0;36m<module>\u001b[0;34m\u001b[0m\n\u001b[0;32m----> 1\u001b[0;31m \u001b[0mvectorizer\u001b[0m\u001b[0;34m\u001b[0m\u001b[0;34m\u001b[0m\u001b[0m\n\u001b[0m",
      "\u001b[0;31mNameError\u001b[0m: name 'vectorizer' is not defined"
     ]
    }
   ],
   "source": [
    "vectorizer"
   ]
  },
  {
   "cell_type": "code",
   "execution_count": 8,
   "metadata": {},
   "outputs": [],
   "source": [
    "big_df = pd.read_csv('dataset/big_df_edited.csv')"
   ]
  },
  {
   "cell_type": "code",
   "execution_count": 14,
   "metadata": {},
   "outputs": [
    {
     "data": {
      "text/html": [
       "<div>\n",
       "<style scoped>\n",
       "    .dataframe tbody tr th:only-of-type {\n",
       "        vertical-align: middle;\n",
       "    }\n",
       "\n",
       "    .dataframe tbody tr th {\n",
       "        vertical-align: top;\n",
       "    }\n",
       "\n",
       "    .dataframe thead th {\n",
       "        text-align: right;\n",
       "    }\n",
       "</style>\n",
       "<table border=\"1\" class=\"dataframe\">\n",
       "  <thead>\n",
       "    <tr style=\"text-align: right;\">\n",
       "      <th></th>\n",
       "      <th>Unnamed: 0</th>\n",
       "      <th>title</th>\n",
       "      <th>tag</th>\n",
       "      <th>artist</th>\n",
       "      <th>year</th>\n",
       "      <th>views</th>\n",
       "      <th>features</th>\n",
       "      <th>lyrics</th>\n",
       "      <th>id</th>\n",
       "      <th>song_id</th>\n",
       "      <th>emotions</th>\n",
       "      <th>social_tags</th>\n",
       "      <th>tknzd_lyrics</th>\n",
       "    </tr>\n",
       "  </thead>\n",
       "  <tbody>\n",
       "    <tr>\n",
       "      <th>0</th>\n",
       "      <td>2</td>\n",
       "      <td>A Milli</td>\n",
       "      <td>rap</td>\n",
       "      <td>Lil Wayne</td>\n",
       "      <td>2008</td>\n",
       "      <td>1237174</td>\n",
       "      <td>{}</td>\n",
       "      <td>[Intro]\\nBangladesh\\nYoung Money!\\nYou dig?\\nM...</td>\n",
       "      <td>59</td>\n",
       "      <td>TRFASZI128F93229B7</td>\n",
       "      <td>[('party', 1)]</td>\n",
       "      <td>[('hip-hop', 100), ('rap', 87), ('lil wayne', ...</td>\n",
       "      <td>['bangladesh', 'young', 'money', 'you', 'dig',...</td>\n",
       "    </tr>\n",
       "    <tr>\n",
       "      <th>1</th>\n",
       "      <td>3</td>\n",
       "      <td>The Documentary</td>\n",
       "      <td>rap</td>\n",
       "      <td>The Game</td>\n",
       "      <td>2005</td>\n",
       "      <td>236542</td>\n",
       "      <td>{}</td>\n",
       "      <td>[Intro: Livin' tha Life (2003)]\\nBitch, I want...</td>\n",
       "      <td>63</td>\n",
       "      <td>TRECLHK128E0784A19</td>\n",
       "      <td>[('tragic', 7)]</td>\n",
       "      <td>[('rap', 100), ('hip-hop', 71), ('the game', 7...</td>\n",
       "      <td>['bitch', 'i', 'want', 'my', 'mother', 'fuckin...</td>\n",
       "    </tr>\n",
       "    <tr>\n",
       "      <th>2</th>\n",
       "      <td>4</td>\n",
       "      <td>My Name Is</td>\n",
       "      <td>rap</td>\n",
       "      <td>Eminem</td>\n",
       "      <td>1999</td>\n",
       "      <td>1464039</td>\n",
       "      <td>{}</td>\n",
       "      <td>[Produced by Dr. Dre]\\n\\n[Chorus: Eminem]\\nHi,...</td>\n",
       "      <td>68</td>\n",
       "      <td>TROVBAL12903CC4F1B</td>\n",
       "      <td>[('funny', 4), ('fun', 2), ('party', 1)]</td>\n",
       "      <td>[('rap', 100), ('hip-hop', 73), ('eminem', 65)...</td>\n",
       "      <td>['hi', 'my', 'name', 'is', 'what', 'my', 'name...</td>\n",
       "    </tr>\n",
       "    <tr>\n",
       "      <th>3</th>\n",
       "      <td>5</td>\n",
       "      <td>We Fly High</td>\n",
       "      <td>rap</td>\n",
       "      <td>Jim Jones</td>\n",
       "      <td>2006</td>\n",
       "      <td>63337</td>\n",
       "      <td>{}</td>\n",
       "      <td>[Intro: Sample &amp; Jim Jones]\\nI wear a mean dar...</td>\n",
       "      <td>80</td>\n",
       "      <td>TRTJQTZ128F92F4A64</td>\n",
       "      <td>[('party', 6), ('happy', 3)]</td>\n",
       "      <td>[('hip-hop', 100), ('rap', 93), ('hip hop', 50...</td>\n",
       "      <td>['i', 'wear', 'a', 'mean', 'dark', 'pair', 'of...</td>\n",
       "    </tr>\n",
       "    <tr>\n",
       "      <th>4</th>\n",
       "      <td>9</td>\n",
       "      <td>Keys Open Doors</td>\n",
       "      <td>rap</td>\n",
       "      <td>Clipse</td>\n",
       "      <td>2006</td>\n",
       "      <td>61909</td>\n",
       "      <td>{}</td>\n",
       "      <td>[Chorus: Pusha T]\\nKeys open doors, keys open ...</td>\n",
       "      <td>116</td>\n",
       "      <td>TRBSYSE128F42BBDCF</td>\n",
       "      <td>[('dark', 16), ('smooth', 8), ('tense', 8)]</td>\n",
       "      <td>[('hip-hop', 100), ('the neptunes', 58), ('nep...</td>\n",
       "      <td>['keys', 'open', 'doors', 'keys', 'open', 'doo...</td>\n",
       "    </tr>\n",
       "    <tr>\n",
       "      <th>...</th>\n",
       "      <td>...</td>\n",
       "      <td>...</td>\n",
       "      <td>...</td>\n",
       "      <td>...</td>\n",
       "      <td>...</td>\n",
       "      <td>...</td>\n",
       "      <td>...</td>\n",
       "      <td>...</td>\n",
       "      <td>...</td>\n",
       "      <td>...</td>\n",
       "      <td>...</td>\n",
       "      <td>...</td>\n",
       "      <td>...</td>\n",
       "    </tr>\n",
       "    <tr>\n",
       "      <th>34549</th>\n",
       "      <td>122569</td>\n",
       "      <td>Taste For Harmony</td>\n",
       "      <td>pop</td>\n",
       "      <td>Union Of Knives</td>\n",
       "      <td>2006</td>\n",
       "      <td>5</td>\n",
       "      <td>{}</td>\n",
       "      <td>Trust me\\nI know where I'm going\\nIt won't be\\...</td>\n",
       "      <td>7817131</td>\n",
       "      <td>TRCAWPX128F1479233</td>\n",
       "      <td>[('melancholic', 50)]</td>\n",
       "      <td>[('trylove', 100), ('love', 100), ('indie', 10...</td>\n",
       "      <td>['trust', 'me', 'i', 'know', 'where', 'im', 'g...</td>\n",
       "    </tr>\n",
       "    <tr>\n",
       "      <th>34550</th>\n",
       "      <td>122585</td>\n",
       "      <td>Gravity</td>\n",
       "      <td>pop</td>\n",
       "      <td>Brenda Russell</td>\n",
       "      <td>1988</td>\n",
       "      <td>2</td>\n",
       "      <td>{}</td>\n",
       "      <td>[Verse 1: Brenda]\\nIf it's love that brought u...</td>\n",
       "      <td>7840324</td>\n",
       "      <td>TRXCBHR128F42B226B</td>\n",
       "      <td>[('fun', 33)]</td>\n",
       "      <td>[('soul', 100), ('groovy', 33), ('fun', 33), (...</td>\n",
       "      <td>['if', 'its', 'love', 'that', 'brought', 'us',...</td>\n",
       "    </tr>\n",
       "    <tr>\n",
       "      <th>34551</th>\n",
       "      <td>122592</td>\n",
       "      <td>Floating Free</td>\n",
       "      <td>pop</td>\n",
       "      <td>Vibrasphere</td>\n",
       "      <td>2010</td>\n",
       "      <td>1</td>\n",
       "      <td>{}</td>\n",
       "      <td>I wanna do it\\nI'm gonna do it\\nI wanna do it\\...</td>\n",
       "      <td>7852356</td>\n",
       "      <td>TRDERZZ128F93350F5</td>\n",
       "      <td>[('sexy', 3), ('relax', 3)]</td>\n",
       "      <td>[('progressive trance', 100), ('psytrance', 83...</td>\n",
       "      <td>['i', 'wanna', 'do', 'it', 'im', 'gonna', 'do'...</td>\n",
       "    </tr>\n",
       "    <tr>\n",
       "      <th>34552</th>\n",
       "      <td>122606</td>\n",
       "      <td>Grey Matter</td>\n",
       "      <td>pop</td>\n",
       "      <td>Jewel</td>\n",
       "      <td>2001</td>\n",
       "      <td>8</td>\n",
       "      <td>{}</td>\n",
       "      <td>[Intro]\\nI hate you, I love you\\nLeave, don't ...</td>\n",
       "      <td>7870813</td>\n",
       "      <td>TRLMRUW128F9330A10</td>\n",
       "      <td>[('calm', 25)]</td>\n",
       "      <td>[('alternative', 100), ('pop', 50), ('love', 2...</td>\n",
       "      <td>['i', 'hate', 'you', 'i', 'love', 'you', 'leav...</td>\n",
       "    </tr>\n",
       "    <tr>\n",
       "      <th>34553</th>\n",
       "      <td>122608</td>\n",
       "      <td>Spitfire</td>\n",
       "      <td>pop</td>\n",
       "      <td>Bertine Zetlitz</td>\n",
       "      <td>2001</td>\n",
       "      <td>1</td>\n",
       "      <td>{}</td>\n",
       "      <td>Be careful little girl\\nBefore you rock his wo...</td>\n",
       "      <td>7874259</td>\n",
       "      <td>TRJZTLD128F4272833</td>\n",
       "      <td>[('dark', 50)]</td>\n",
       "      <td>[('weird', 100), ('ladies', 100), ('pop', 50),...</td>\n",
       "      <td>['be', 'careful', 'little', 'girl', 'before', ...</td>\n",
       "    </tr>\n",
       "  </tbody>\n",
       "</table>\n",
       "<p>34462 rows × 13 columns</p>\n",
       "</div>"
      ],
      "text/plain": [
       "       Unnamed: 0              title  tag           artist  year    views  \\\n",
       "0               2            A Milli  rap        Lil Wayne  2008  1237174   \n",
       "1               3    The Documentary  rap         The Game  2005   236542   \n",
       "2               4         My Name Is  rap           Eminem  1999  1464039   \n",
       "3               5        We Fly High  rap        Jim Jones  2006    63337   \n",
       "4               9    Keys Open Doors  rap           Clipse  2006    61909   \n",
       "...           ...                ...  ...              ...   ...      ...   \n",
       "34549      122569  Taste For Harmony  pop  Union Of Knives  2006        5   \n",
       "34550      122585            Gravity  pop   Brenda Russell  1988        2   \n",
       "34551      122592      Floating Free  pop      Vibrasphere  2010        1   \n",
       "34552      122606        Grey Matter  pop            Jewel  2001        8   \n",
       "34553      122608           Spitfire  pop  Bertine Zetlitz  2001        1   \n",
       "\n",
       "      features                                             lyrics       id  \\\n",
       "0           {}  [Intro]\\nBangladesh\\nYoung Money!\\nYou dig?\\nM...       59   \n",
       "1           {}  [Intro: Livin' tha Life (2003)]\\nBitch, I want...       63   \n",
       "2           {}  [Produced by Dr. Dre]\\n\\n[Chorus: Eminem]\\nHi,...       68   \n",
       "3           {}  [Intro: Sample & Jim Jones]\\nI wear a mean dar...       80   \n",
       "4           {}  [Chorus: Pusha T]\\nKeys open doors, keys open ...      116   \n",
       "...        ...                                                ...      ...   \n",
       "34549       {}  Trust me\\nI know where I'm going\\nIt won't be\\...  7817131   \n",
       "34550       {}  [Verse 1: Brenda]\\nIf it's love that brought u...  7840324   \n",
       "34551       {}  I wanna do it\\nI'm gonna do it\\nI wanna do it\\...  7852356   \n",
       "34552       {}  [Intro]\\nI hate you, I love you\\nLeave, don't ...  7870813   \n",
       "34553       {}  Be careful little girl\\nBefore you rock his wo...  7874259   \n",
       "\n",
       "                  song_id                                     emotions  \\\n",
       "0      TRFASZI128F93229B7                               [('party', 1)]   \n",
       "1      TRECLHK128E0784A19                              [('tragic', 7)]   \n",
       "2      TROVBAL12903CC4F1B     [('funny', 4), ('fun', 2), ('party', 1)]   \n",
       "3      TRTJQTZ128F92F4A64                 [('party', 6), ('happy', 3)]   \n",
       "4      TRBSYSE128F42BBDCF  [('dark', 16), ('smooth', 8), ('tense', 8)]   \n",
       "...                   ...                                          ...   \n",
       "34549  TRCAWPX128F1479233                        [('melancholic', 50)]   \n",
       "34550  TRXCBHR128F42B226B                                [('fun', 33)]   \n",
       "34551  TRDERZZ128F93350F5                  [('sexy', 3), ('relax', 3)]   \n",
       "34552  TRLMRUW128F9330A10                               [('calm', 25)]   \n",
       "34553  TRJZTLD128F4272833                               [('dark', 50)]   \n",
       "\n",
       "                                             social_tags  \\\n",
       "0      [('hip-hop', 100), ('rap', 87), ('lil wayne', ...   \n",
       "1      [('rap', 100), ('hip-hop', 71), ('the game', 7...   \n",
       "2      [('rap', 100), ('hip-hop', 73), ('eminem', 65)...   \n",
       "3      [('hip-hop', 100), ('rap', 93), ('hip hop', 50...   \n",
       "4      [('hip-hop', 100), ('the neptunes', 58), ('nep...   \n",
       "...                                                  ...   \n",
       "34549  [('trylove', 100), ('love', 100), ('indie', 10...   \n",
       "34550  [('soul', 100), ('groovy', 33), ('fun', 33), (...   \n",
       "34551  [('progressive trance', 100), ('psytrance', 83...   \n",
       "34552  [('alternative', 100), ('pop', 50), ('love', 2...   \n",
       "34553  [('weird', 100), ('ladies', 100), ('pop', 50),...   \n",
       "\n",
       "                                            tknzd_lyrics  \n",
       "0      ['bangladesh', 'young', 'money', 'you', 'dig',...  \n",
       "1      ['bitch', 'i', 'want', 'my', 'mother', 'fuckin...  \n",
       "2      ['hi', 'my', 'name', 'is', 'what', 'my', 'name...  \n",
       "3      ['i', 'wear', 'a', 'mean', 'dark', 'pair', 'of...  \n",
       "4      ['keys', 'open', 'doors', 'keys', 'open', 'doo...  \n",
       "...                                                  ...  \n",
       "34549  ['trust', 'me', 'i', 'know', 'where', 'im', 'g...  \n",
       "34550  ['if', 'its', 'love', 'that', 'brought', 'us',...  \n",
       "34551  ['i', 'wanna', 'do', 'it', 'im', 'gonna', 'do'...  \n",
       "34552  ['i', 'hate', 'you', 'i', 'love', 'you', 'leav...  \n",
       "34553  ['be', 'careful', 'little', 'girl', 'before', ...  \n",
       "\n",
       "[34462 rows x 13 columns]"
      ]
     },
     "execution_count": 14,
     "metadata": {},
     "output_type": "execute_result"
    }
   ],
   "source": [
    "big_df[big_df['tag'] != 'misc']"
   ]
  }
 ],
 "metadata": {
  "colab": {
   "provenance": []
  },
  "kernelspec": {
   "display_name": "Python 3 (ipykernel)",
   "language": "python",
   "name": "python3"
  },
  "language_info": {
   "codemirror_mode": {
    "name": "ipython",
    "version": 3
   },
   "file_extension": ".py",
   "mimetype": "text/x-python",
   "name": "python",
   "nbconvert_exporter": "python",
   "pygments_lexer": "ipython3",
   "version": "3.9.12"
  }
 },
 "nbformat": 4,
 "nbformat_minor": 4
}
