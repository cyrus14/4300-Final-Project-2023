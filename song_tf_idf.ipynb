{
 "cells": [
  {
   "cell_type": "code",
   "execution_count": 21,
   "metadata": {},
   "outputs": [],
   "source": [
    "import json\n",
    "import pandas as pd\n",
    "from collections import Counter\n",
    "import ast\n",
    "import numpy as np\n",
    "import matplotlib.pyplot as plt\n",
    "import pickle"
   ]
  },
  {
   "cell_type": "code",
   "execution_count": 4,
   "metadata": {},
   "outputs": [],
   "source": [
    "f = open('dataset/wiki_scraping/wiki_texts.json')\n",
    "wiki_texts = json.load(f)"
   ]
  },
  {
   "cell_type": "code",
   "execution_count": 5,
   "metadata": {},
   "outputs": [],
   "source": [
    "big_df = pd.read_csv('big_df.csv')"
   ]
  },
  {
   "cell_type": "code",
   "execution_count": 6,
   "metadata": {},
   "outputs": [],
   "source": [
    "big_df.drop(columns=['Unnamed: 0'], inplace=True)"
   ]
  },
  {
   "cell_type": "code",
   "execution_count": 7,
   "metadata": {},
   "outputs": [],
   "source": [
    "big_df['tknzd_lyrics'] = big_df['tknzd_lyrics'].apply(ast.literal_eval)\n",
    "big_df['emotions'] = big_df['emotions'].apply(ast.literal_eval)\n",
    "big_df['social_tags'] = big_df['social_tags'].apply(ast.literal_eval)"
   ]
  },
  {
   "cell_type": "code",
   "execution_count": 8,
   "metadata": {},
   "outputs": [],
   "source": [
    "drop_rows = []\n",
    "for row in big_df.iterrows():\n",
    "    if row[1]['emotions'] == []:\n",
    "        drop_rows.append(row[0])\n",
    "big_df.drop(drop_rows, inplace=True)"
   ]
  },
  {
   "cell_type": "code",
   "execution_count": 69,
   "metadata": {},
   "outputs": [
    {
     "data": {
      "text/html": [
       "<div>\n",
       "<style scoped>\n",
       "    .dataframe tbody tr th:only-of-type {\n",
       "        vertical-align: middle;\n",
       "    }\n",
       "\n",
       "    .dataframe tbody tr th {\n",
       "        vertical-align: top;\n",
       "    }\n",
       "\n",
       "    .dataframe thead th {\n",
       "        text-align: right;\n",
       "    }\n",
       "</style>\n",
       "<table border=\"1\" class=\"dataframe\">\n",
       "  <thead>\n",
       "    <tr style=\"text-align: right;\">\n",
       "      <th></th>\n",
       "      <th>title</th>\n",
       "      <th>tag</th>\n",
       "      <th>artist</th>\n",
       "      <th>year</th>\n",
       "      <th>views</th>\n",
       "      <th>features</th>\n",
       "      <th>lyrics</th>\n",
       "      <th>id</th>\n",
       "      <th>song_id</th>\n",
       "      <th>emotions</th>\n",
       "      <th>social_tags</th>\n",
       "      <th>tknzd_lyrics</th>\n",
       "    </tr>\n",
       "  </thead>\n",
       "  <tbody>\n",
       "    <tr>\n",
       "      <th>2</th>\n",
       "      <td>A Milli</td>\n",
       "      <td>rap</td>\n",
       "      <td>Lil Wayne</td>\n",
       "      <td>2008</td>\n",
       "      <td>1237174</td>\n",
       "      <td>{}</td>\n",
       "      <td>[Intro]\\nBangladesh\\nYoung Money!\\nYou dig?\\nM...</td>\n",
       "      <td>59</td>\n",
       "      <td>TRFASZI128F93229B7</td>\n",
       "      <td>[(party, 1)]</td>\n",
       "      <td>[(hip-hop, 100), (rap, 87), (lil wayne, 78), (...</td>\n",
       "      <td>[bangladesh, young, money, you, dig, mack, im,...</td>\n",
       "    </tr>\n",
       "    <tr>\n",
       "      <th>3</th>\n",
       "      <td>The Documentary</td>\n",
       "      <td>rap</td>\n",
       "      <td>The Game</td>\n",
       "      <td>2005</td>\n",
       "      <td>236542</td>\n",
       "      <td>{}</td>\n",
       "      <td>[Intro: Livin' tha Life (2003)]\\nBitch, I want...</td>\n",
       "      <td>63</td>\n",
       "      <td>TRECLHK128E0784A19</td>\n",
       "      <td>[(tragic, 7)]</td>\n",
       "      <td>[(rap, 100), (hip-hop, 71), (the game, 71), (t...</td>\n",
       "      <td>[bitch, i, want, my, mother, fuckin, money, ba...</td>\n",
       "    </tr>\n",
       "    <tr>\n",
       "      <th>4</th>\n",
       "      <td>My Name Is</td>\n",
       "      <td>rap</td>\n",
       "      <td>Eminem</td>\n",
       "      <td>1999</td>\n",
       "      <td>1464039</td>\n",
       "      <td>{}</td>\n",
       "      <td>[Produced by Dr. Dre]\\n\\n[Chorus: Eminem]\\nHi,...</td>\n",
       "      <td>68</td>\n",
       "      <td>TROVBAL12903CC4F1B</td>\n",
       "      <td>[(funny, 4), (fun, 2), (party, 1)]</td>\n",
       "      <td>[(rap, 100), (hip-hop, 73), (eminem, 65), (hip...</td>\n",
       "      <td>[hi, my, name, is, what, my, name, is, who, my...</td>\n",
       "    </tr>\n",
       "    <tr>\n",
       "      <th>5</th>\n",
       "      <td>We Fly High</td>\n",
       "      <td>rap</td>\n",
       "      <td>Jim Jones</td>\n",
       "      <td>2006</td>\n",
       "      <td>63337</td>\n",
       "      <td>{}</td>\n",
       "      <td>[Intro: Sample &amp; Jim Jones]\\nI wear a mean dar...</td>\n",
       "      <td>80</td>\n",
       "      <td>TRTJQTZ128F92F4A64</td>\n",
       "      <td>[(party, 6), (happy, 3)]</td>\n",
       "      <td>[(hip-hop, 100), (rap, 93), (hip hop, 50), (ba...</td>\n",
       "      <td>[i, wear, a, mean, dark, pair, of, shades, and...</td>\n",
       "    </tr>\n",
       "    <tr>\n",
       "      <th>9</th>\n",
       "      <td>Keys Open Doors</td>\n",
       "      <td>rap</td>\n",
       "      <td>Clipse</td>\n",
       "      <td>2006</td>\n",
       "      <td>61909</td>\n",
       "      <td>{}</td>\n",
       "      <td>[Chorus: Pusha T]\\nKeys open doors, keys open ...</td>\n",
       "      <td>116</td>\n",
       "      <td>TRBSYSE128F42BBDCF</td>\n",
       "      <td>[(dark, 16), (smooth, 8), (tense, 8)]</td>\n",
       "      <td>[(hip-hop, 100), (the neptunes, 58), (neptunes...</td>\n",
       "      <td>[keys, open, doors, keys, open, doors, keys, o...</td>\n",
       "    </tr>\n",
       "    <tr>\n",
       "      <th>...</th>\n",
       "      <td>...</td>\n",
       "      <td>...</td>\n",
       "      <td>...</td>\n",
       "      <td>...</td>\n",
       "      <td>...</td>\n",
       "      <td>...</td>\n",
       "      <td>...</td>\n",
       "      <td>...</td>\n",
       "      <td>...</td>\n",
       "      <td>...</td>\n",
       "      <td>...</td>\n",
       "      <td>...</td>\n",
       "    </tr>\n",
       "    <tr>\n",
       "      <th>122569</th>\n",
       "      <td>Taste For Harmony</td>\n",
       "      <td>pop</td>\n",
       "      <td>Union Of Knives</td>\n",
       "      <td>2006</td>\n",
       "      <td>5</td>\n",
       "      <td>{}</td>\n",
       "      <td>Trust me\\nI know where I'm going\\nIt won't be\\...</td>\n",
       "      <td>7817131</td>\n",
       "      <td>TRCAWPX128F1479233</td>\n",
       "      <td>[(melancholic, 50)]</td>\n",
       "      <td>[(trylove, 100), (love, 100), (indie, 100), (t...</td>\n",
       "      <td>[trust, me, i, know, where, im, going, it, won...</td>\n",
       "    </tr>\n",
       "    <tr>\n",
       "      <th>122585</th>\n",
       "      <td>Gravity</td>\n",
       "      <td>pop</td>\n",
       "      <td>Brenda Russell</td>\n",
       "      <td>1988</td>\n",
       "      <td>2</td>\n",
       "      <td>{}</td>\n",
       "      <td>[Verse 1: Brenda]\\nIf it's love that brought u...</td>\n",
       "      <td>7840324</td>\n",
       "      <td>TRXCBHR128F42B226B</td>\n",
       "      <td>[(fun, 33)]</td>\n",
       "      <td>[(soul, 100), (groovy, 33), (fun, 33), (love s...</td>\n",
       "      <td>[if, its, love, that, brought, us, together, w...</td>\n",
       "    </tr>\n",
       "    <tr>\n",
       "      <th>122592</th>\n",
       "      <td>Floating Free</td>\n",
       "      <td>pop</td>\n",
       "      <td>Vibrasphere</td>\n",
       "      <td>2010</td>\n",
       "      <td>1</td>\n",
       "      <td>{}</td>\n",
       "      <td>I wanna do it\\nI'm gonna do it\\nI wanna do it\\...</td>\n",
       "      <td>7852356</td>\n",
       "      <td>TRDERZZ128F93350F5</td>\n",
       "      <td>[(sexy, 3), (relax, 3)]</td>\n",
       "      <td>[(progressive trance, 100), (psytrance, 83), (...</td>\n",
       "      <td>[i, wanna, do, it, im, gonna, do, it, i, wanna...</td>\n",
       "    </tr>\n",
       "    <tr>\n",
       "      <th>122606</th>\n",
       "      <td>Grey Matter</td>\n",
       "      <td>pop</td>\n",
       "      <td>Jewel</td>\n",
       "      <td>2001</td>\n",
       "      <td>8</td>\n",
       "      <td>{}</td>\n",
       "      <td>[Intro]\\nI hate you, I love you\\nLeave, don't ...</td>\n",
       "      <td>7870813</td>\n",
       "      <td>TRLMRUW128F9330A10</td>\n",
       "      <td>[(calm, 25)]</td>\n",
       "      <td>[(alternative, 100), (pop, 50), (love, 25), (f...</td>\n",
       "      <td>[i, hate, you, i, love, you, leave, dont, go, ...</td>\n",
       "    </tr>\n",
       "    <tr>\n",
       "      <th>122608</th>\n",
       "      <td>Spitfire</td>\n",
       "      <td>pop</td>\n",
       "      <td>Bertine Zetlitz</td>\n",
       "      <td>2001</td>\n",
       "      <td>1</td>\n",
       "      <td>{}</td>\n",
       "      <td>Be careful little girl\\nBefore you rock his wo...</td>\n",
       "      <td>7874259</td>\n",
       "      <td>TRJZTLD128F4272833</td>\n",
       "      <td>[(dark, 50)]</td>\n",
       "      <td>[(weird, 100), (ladies, 100), (pop, 50), (fema...</td>\n",
       "      <td>[be, careful, little, girl, before, you, rock,...</td>\n",
       "    </tr>\n",
       "  </tbody>\n",
       "</table>\n",
       "<p>34554 rows × 12 columns</p>\n",
       "</div>"
      ],
      "text/plain": [
       "                    title  tag           artist  year    views features  \\\n",
       "2                 A Milli  rap        Lil Wayne  2008  1237174       {}   \n",
       "3         The Documentary  rap         The Game  2005   236542       {}   \n",
       "4              My Name Is  rap           Eminem  1999  1464039       {}   \n",
       "5             We Fly High  rap        Jim Jones  2006    63337       {}   \n",
       "9         Keys Open Doors  rap           Clipse  2006    61909       {}   \n",
       "...                   ...  ...              ...   ...      ...      ...   \n",
       "122569  Taste For Harmony  pop  Union Of Knives  2006        5       {}   \n",
       "122585            Gravity  pop   Brenda Russell  1988        2       {}   \n",
       "122592      Floating Free  pop      Vibrasphere  2010        1       {}   \n",
       "122606        Grey Matter  pop            Jewel  2001        8       {}   \n",
       "122608           Spitfire  pop  Bertine Zetlitz  2001        1       {}   \n",
       "\n",
       "                                                   lyrics       id  \\\n",
       "2       [Intro]\\nBangladesh\\nYoung Money!\\nYou dig?\\nM...       59   \n",
       "3       [Intro: Livin' tha Life (2003)]\\nBitch, I want...       63   \n",
       "4       [Produced by Dr. Dre]\\n\\n[Chorus: Eminem]\\nHi,...       68   \n",
       "5       [Intro: Sample & Jim Jones]\\nI wear a mean dar...       80   \n",
       "9       [Chorus: Pusha T]\\nKeys open doors, keys open ...      116   \n",
       "...                                                   ...      ...   \n",
       "122569  Trust me\\nI know where I'm going\\nIt won't be\\...  7817131   \n",
       "122585  [Verse 1: Brenda]\\nIf it's love that brought u...  7840324   \n",
       "122592  I wanna do it\\nI'm gonna do it\\nI wanna do it\\...  7852356   \n",
       "122606  [Intro]\\nI hate you, I love you\\nLeave, don't ...  7870813   \n",
       "122608  Be careful little girl\\nBefore you rock his wo...  7874259   \n",
       "\n",
       "                   song_id                               emotions  \\\n",
       "2       TRFASZI128F93229B7                           [(party, 1)]   \n",
       "3       TRECLHK128E0784A19                          [(tragic, 7)]   \n",
       "4       TROVBAL12903CC4F1B     [(funny, 4), (fun, 2), (party, 1)]   \n",
       "5       TRTJQTZ128F92F4A64               [(party, 6), (happy, 3)]   \n",
       "9       TRBSYSE128F42BBDCF  [(dark, 16), (smooth, 8), (tense, 8)]   \n",
       "...                    ...                                    ...   \n",
       "122569  TRCAWPX128F1479233                    [(melancholic, 50)]   \n",
       "122585  TRXCBHR128F42B226B                            [(fun, 33)]   \n",
       "122592  TRDERZZ128F93350F5                [(sexy, 3), (relax, 3)]   \n",
       "122606  TRLMRUW128F9330A10                           [(calm, 25)]   \n",
       "122608  TRJZTLD128F4272833                           [(dark, 50)]   \n",
       "\n",
       "                                              social_tags  \\\n",
       "2       [(hip-hop, 100), (rap, 87), (lil wayne, 78), (...   \n",
       "3       [(rap, 100), (hip-hop, 71), (the game, 71), (t...   \n",
       "4       [(rap, 100), (hip-hop, 73), (eminem, 65), (hip...   \n",
       "5       [(hip-hop, 100), (rap, 93), (hip hop, 50), (ba...   \n",
       "9       [(hip-hop, 100), (the neptunes, 58), (neptunes...   \n",
       "...                                                   ...   \n",
       "122569  [(trylove, 100), (love, 100), (indie, 100), (t...   \n",
       "122585  [(soul, 100), (groovy, 33), (fun, 33), (love s...   \n",
       "122592  [(progressive trance, 100), (psytrance, 83), (...   \n",
       "122606  [(alternative, 100), (pop, 50), (love, 25), (f...   \n",
       "122608  [(weird, 100), (ladies, 100), (pop, 50), (fema...   \n",
       "\n",
       "                                             tknzd_lyrics  \n",
       "2       [bangladesh, young, money, you, dig, mack, im,...  \n",
       "3       [bitch, i, want, my, mother, fuckin, money, ba...  \n",
       "4       [hi, my, name, is, what, my, name, is, who, my...  \n",
       "5       [i, wear, a, mean, dark, pair, of, shades, and...  \n",
       "9       [keys, open, doors, keys, open, doors, keys, o...  \n",
       "...                                                   ...  \n",
       "122569  [trust, me, i, know, where, im, going, it, won...  \n",
       "122585  [if, its, love, that, brought, us, together, w...  \n",
       "122592  [i, wanna, do, it, im, gonna, do, it, i, wanna...  \n",
       "122606  [i, hate, you, i, love, you, leave, dont, go, ...  \n",
       "122608  [be, careful, little, girl, before, you, rock,...  \n",
       "\n",
       "[34554 rows x 12 columns]"
      ]
     },
     "execution_count": 69,
     "metadata": {},
     "output_type": "execute_result"
    }
   ],
   "source": [
    "big_df"
   ]
  },
  {
   "cell_type": "code",
   "execution_count": 9,
   "metadata": {},
   "outputs": [
    {
     "name": "stdout",
     "output_type": "stream",
     "text": [
      "1000\n",
      "2000\n",
      "3000\n",
      "4000\n",
      "5000\n",
      "6000\n",
      "7000\n",
      "8000\n",
      "9000\n",
      "10000\n",
      "11000\n",
      "12000\n",
      "13000\n",
      "14000\n",
      "15000\n",
      "16000\n",
      "17000\n",
      "18000\n",
      "19000\n",
      "20000\n",
      "21000\n",
      "22000\n",
      "23000\n",
      "24000\n",
      "25000\n",
      "26000\n",
      "27000\n",
      "28000\n",
      "29000\n",
      "30000\n",
      "31000\n",
      "32000\n",
      "33000\n",
      "34000\n"
     ]
    }
   ],
   "source": [
    "all_words = Counter()\n",
    "c = 0\n",
    "for lyr in big_df['tknzd_lyrics']:\n",
    "    c+=1\n",
    "    if c %1000 == 0:\n",
    "        print(c)\n",
    "    all_words = all_words +  Counter(lyr)"
   ]
  },
  {
   "cell_type": "code",
   "execution_count": 10,
   "metadata": {},
   "outputs": [],
   "source": [
    "all_words2 = {}\n",
    "for w in all_words:\n",
    "    c = all_words[w]\n",
    "    if c>10 and c <47000:\n",
    "        all_words2[w] = c"
   ]
  },
  {
   "cell_type": "code",
   "execution_count": 11,
   "metadata": {},
   "outputs": [],
   "source": [
    "all_words = {}"
   ]
  },
  {
   "cell_type": "code",
   "execution_count": 12,
   "metadata": {},
   "outputs": [],
   "source": [
    "word_to_index = {w:i for i, w in enumerate(all_words2)}"
   ]
  },
  {
   "cell_type": "code",
   "execution_count": 13,
   "metadata": {},
   "outputs": [],
   "source": [
    "index_to_word = {i:w for i, w, in enumerate(all_words2)}"
   ]
  },
  {
   "cell_type": "code",
   "execution_count": 45,
   "metadata": {},
   "outputs": [],
   "source": [
    "song_tf_idf = np.zeros((big_df.shape[0], len(all_words2))) #i, j how many times word j appears in song i\n",
    "for i, lyr in enumerate(big_df['tknzd_lyrics']):\n",
    "    for wrd in lyr:\n",
    "        if wrd in word_to_index:\n",
    "            j = word_to_index[wrd]\n",
    "            song_tf_idf[i, j] += 1"
   ]
  },
  {
   "cell_type": "code",
   "execution_count": 46,
   "metadata": {},
   "outputs": [],
   "source": [
    "song_tf_idf = (song_tf_idf + 0.5) / (song_tf_idf.sum(axis=0) + 0.5)"
   ]
  },
  {
   "cell_type": "code",
   "execution_count": 47,
   "metadata": {},
   "outputs": [
    {
     "data": {
      "text/plain": [
       "array([[0.00104058, 0.00131703, 0.00182593, ..., 0.04347826, 0.04      ,\n",
       "        0.02702703],\n",
       "       [0.00020812, 0.00094073, 0.00060864, ..., 0.04347826, 0.04      ,\n",
       "        0.02702703],\n",
       "       [0.00020812, 0.00018815, 0.00060864, ..., 0.04347826, 0.04      ,\n",
       "        0.02702703],\n",
       "       ...,\n",
       "       [0.00020812, 0.00018815, 0.00060864, ..., 0.04347826, 0.04      ,\n",
       "        0.02702703],\n",
       "       [0.00020812, 0.00018815, 0.00060864, ..., 0.04347826, 0.04      ,\n",
       "        0.02702703],\n",
       "       [0.00020812, 0.00018815, 0.00060864, ..., 0.04347826, 0.04      ,\n",
       "        0.02702703]])"
      ]
     },
     "execution_count": 47,
     "metadata": {},
     "output_type": "execute_result"
    }
   ],
   "source": [
    "song_tf_idf"
   ]
  },
  {
   "cell_type": "code",
   "execution_count": 48,
   "metadata": {},
   "outputs": [],
   "source": [
    "with open('word_to_index.pkl', 'wb') as f:\n",
    "    pickle.dump(word_to_index, f)\n",
    "with open('index_to_word.pkl', 'wb') as f:\n",
    "    pickle.dump(index_to_word, f)"
   ]
  },
  {
   "cell_type": "code",
   "execution_count": 49,
   "metadata": {},
   "outputs": [],
   "source": [
    "with open('song_tf_idf.npy', 'wb') as f:\n",
    "    np.save(f, song_tf_idf)"
   ]
  },
  {
   "cell_type": "code",
   "execution_count": 70,
   "metadata": {},
   "outputs": [],
   "source": [
    "song_to_index = {s:i for i, s in enumerate(big_df['title'])}\n",
    "index_to_song = {i:s for i, s in enumerate(big_df['title'])}"
   ]
  },
  {
   "cell_type": "code",
   "execution_count": 71,
   "metadata": {},
   "outputs": [],
   "source": [
    "with open('song_to_index.pkl', 'wb') as f:\n",
    "    pickle.dump(song_to_index, f)\n",
    "with open('index_to_song.pkl', 'wb') as f:\n",
    "    pickle.dump(index_to_song, f)"
   ]
  },
  {
   "cell_type": "markdown",
   "metadata": {},
   "source": [
    "# wiki"
   ]
  },
  {
   "cell_type": "code",
   "execution_count": 64,
   "metadata": {},
   "outputs": [],
   "source": [
    "from dataset import wiki_scraping"
   ]
  },
  {
   "cell_type": "code",
   "execution_count": 65,
   "metadata": {},
   "outputs": [],
   "source": [
    "wiki_tf_idf = np.zeros((len(wiki_texts), len(all_words2)))\n",
    "for i, city in enumerate(wiki_texts.keys()):\n",
    "    txt = wiki_texts[city]\n",
    "    for wrd in txt:\n",
    "        if wrd in word_to_index:\n",
    "            j = word_to_index[wrd]\n",
    "            wiki_tf_idf[i, j] += 1"
   ]
  },
  {
   "cell_type": "code",
   "execution_count": 66,
   "metadata": {},
   "outputs": [],
   "source": [
    "wiki_tf_idf = (wiki_tf_idf + 0.5) / (wiki_tf_idf.sum(axis=0) + 0.5)"
   ]
  },
  {
   "cell_type": "code",
   "execution_count": 67,
   "metadata": {},
   "outputs": [],
   "source": [
    "loc_to_index = {cty:i for i, cty in enumerate(wiki_texts.keys())}"
   ]
  },
  {
   "cell_type": "code",
   "execution_count": 68,
   "metadata": {},
   "outputs": [
    {
     "data": {
      "text/plain": [
       "(44, 18502)"
      ]
     },
     "execution_count": 68,
     "metadata": {},
     "output_type": "execute_result"
    }
   ],
   "source": [
    "wiki_tf_idf.shape"
   ]
  }
 ],
 "metadata": {
  "kernelspec": {
   "display_name": "Python 3",
   "language": "python",
   "name": "python3"
  },
  "language_info": {
   "codemirror_mode": {
    "name": "ipython",
    "version": 3
   },
   "file_extension": ".py",
   "mimetype": "text/x-python",
   "name": "python",
   "nbconvert_exporter": "python",
   "pygments_lexer": "ipython3",
   "version": "3.8.5"
  }
 },
 "nbformat": 4,
 "nbformat_minor": 4
}
