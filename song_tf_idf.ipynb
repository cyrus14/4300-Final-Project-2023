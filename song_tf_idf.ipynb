{
 "cells": [
  {
   "cell_type": "code",
   "execution_count": 1,
   "metadata": {
    "id": "PpTskCj7HkA3"
   },
   "outputs": [],
   "source": [
    "import json\n",
    "import pandas as pd\n",
    "from collections import Counter\n",
    "import ast\n",
    "import numpy as np\n",
    "import matplotlib.pyplot as plt\n",
    "import pickle\n",
    "from sklearn.feature_extraction.text import TfidfVectorizer\n",
    "from sklearn.feature_extraction import text"
   ]
  },
  {
   "cell_type": "code",
   "execution_count": 3,
   "metadata": {
    "colab": {
     "base_uri": "https://localhost:8080/"
    },
    "id": "yKzRW8-yH8N0",
    "outputId": "800fc9c3-385c-4fae-fdcb-086634c242b2"
   },
   "outputs": [
    {
     "name": "stdout",
     "output_type": "stream",
     "text": [
      "Mounted at /content/drive\n"
     ]
    }
   ],
   "source": [
    "from google.colab import drive\n",
    "drive.mount('/content/drive')"
   ]
  },
  {
   "cell_type": "code",
   "execution_count": 4,
   "metadata": {
    "colab": {
     "base_uri": "https://localhost:8080/"
    },
    "id": "8dTX8z6nHzHi",
    "outputId": "ef7129c4-8364-48aa-9d19-7f1df7df6db4"
   },
   "outputs": [
    {
     "name": "stdout",
     "output_type": "stream",
     "text": [
      "/content/drive/MyDrive/apollocate/4300-Final-Project-2023\n"
     ]
    }
   ],
   "source": [
    "%cd /content/drive/MyDrive/apollocate/4300-Final-Project-2023/"
   ]
  },
  {
   "cell_type": "code",
   "execution_count": 3,
   "metadata": {
    "id": "G8l2-qRMHkA5"
   },
   "outputs": [],
   "source": [
    "f = open('backend/dataset/wiki_scraping/wiki_texts.json')\n",
    "wiki_texts = json.load(f)"
   ]
  },
  {
   "cell_type": "code",
   "execution_count": 4,
   "metadata": {
    "id": "C_2T8pyuHkA5"
   },
   "outputs": [],
   "source": [
    "big_df = pd.read_csv('backend/dataset/big_df_edited.csv')"
   ]
  },
  {
   "cell_type": "code",
   "execution_count": 5,
   "metadata": {
    "id": "w0NMqAZPHkA6"
   },
   "outputs": [],
   "source": [
    "big_df.drop(columns=['Unnamed: 0'], inplace=True)"
   ]
  },
  {
   "cell_type": "code",
   "execution_count": 6,
   "metadata": {
    "id": "-Sqbk-8PHkA6"
   },
   "outputs": [],
   "source": [
    "big_df['tknzd_lyrics'] = big_df['tknzd_lyrics'].apply(ast.literal_eval)\n",
    "big_df['emotions'] = big_df['emotions'].apply(ast.literal_eval)\n",
    "big_df['social_tags'] = big_df['social_tags'].apply(ast.literal_eval)"
   ]
  },
  {
   "cell_type": "code",
   "execution_count": 11,
   "metadata": {
    "id": "PMMRrmDEHkA6"
   },
   "outputs": [],
   "source": [
    "drop_rows = []\n",
    "for row in big_df.iterrows():\n",
    "    if row[1]['emotions'] == []:\n",
    "        drop_rows.append(row[0])\n",
    "big_df.drop(drop_rows, inplace=True)"
   ]
  },
  {
   "cell_type": "code",
   "execution_count": 13,
   "metadata": {
    "id": "AwilKJKUHkA6"
   },
   "outputs": [],
   "source": [
    "# my_stop_words = text.ENGLISH_STOP_WORDS.union({'city'})\n",
    "vectorizer = TfidfVectorizer(max_df = 0.8, min_df = 10, norm='l2', stop_words = list(my_stop_words))\n",
    "X = vectorizer.fit_transform(big_df['tknzd_lyrics'].apply(lambda x: \" \".join(x)))"
   ]
  },
  {
   "cell_type": "code",
   "execution_count": 14,
   "metadata": {},
   "outputs": [],
   "source": [
    "with open('vectorizer.pkl', 'wb') as f:\n",
    "    pickle.dump(vectorizer, f)"
   ]
  },
  {
   "cell_type": "code",
   "execution_count": 15,
   "metadata": {
    "id": "4OCZNzLdHkA6"
   },
   "outputs": [],
   "source": [
    "index_to_word = {i:v for i, v in enumerate(vectorizer.get_feature_names_out())}\n",
    "word_to_index = {v:i for i, v in enumerate(vectorizer.get_feature_names_out())}"
   ]
  },
  {
   "cell_type": "code",
   "execution_count": 16,
   "metadata": {
    "id": "wsOxHtGoHkA7"
   },
   "outputs": [],
   "source": [
    "with open('word_to_index.pkl', 'wb') as f:\n",
    "    pickle.dump(word_to_index, f)\n",
    "with open('index_to_word.pkl', 'wb') as f:\n",
    "    pickle.dump(index_to_word, f)"
   ]
  },
  {
   "cell_type": "code",
   "execution_count": 17,
   "metadata": {
    "id": "REZHOJMuHkA7"
   },
   "outputs": [],
   "source": [
    "with open('song_tf_idf.pickle', 'wb') as f:\n",
    "    pickle.dump(X, f)"
   ]
  },
  {
   "cell_type": "code",
   "execution_count": 18,
   "metadata": {
    "id": "CO2x8SSbHkA8"
   },
   "outputs": [],
   "source": [
    "song_to_index = {s:i for i, s in enumerate(big_df['title'])}\n",
    "index_to_song = {i:s for i, s in enumerate(big_df['title'])}"
   ]
  },
  {
   "cell_type": "code",
   "execution_count": 19,
   "metadata": {
    "id": "3IjdFFS6HkA8"
   },
   "outputs": [],
   "source": [
    "with open('song_to_index.pkl', 'wb') as f:\n",
    "    pickle.dump(song_to_index, f)\n",
    "with open('index_to_song.pkl', 'wb') as f:\n",
    "    pickle.dump(index_to_song, f)"
   ]
  },
  {
   "cell_type": "markdown",
   "metadata": {
    "id": "LmLArolrHkA8"
   },
   "source": [
    "# wiki"
   ]
  },
  {
   "cell_type": "code",
   "execution_count": 20,
   "metadata": {
    "id": "wgJvGb0EHkA9"
   },
   "outputs": [],
   "source": [
    "from dataset import wiki_scraping"
   ]
  },
  {
   "cell_type": "code",
   "execution_count": 22,
   "metadata": {
    "colab": {
     "base_uri": "https://localhost:8080/"
    },
    "id": "F5h5Ar7kONm4",
    "outputId": "9a72779f-1f95-4e4e-8423-87eda79e4b05"
   },
   "outputs": [
    {
     "name": "stdout",
     "output_type": "stream",
     "text": [
      "11191\n"
     ]
    }
   ],
   "source": [
    "print(len(wiki_texts['Tel Aviv']))"
   ]
  },
  {
   "cell_type": "code",
   "execution_count": 23,
   "metadata": {
    "id": "T6iaemrWHkA9"
   },
   "outputs": [],
   "source": [
    "wiki_corpus = []\n",
    "for ls in list(wiki_texts.values()):\n",
    "    wiki_corpus.append(\" \".join(ls))"
   ]
  },
  {
   "cell_type": "code",
   "execution_count": 24,
   "metadata": {
    "id": "PsTVTt4AHkA-"
   },
   "outputs": [],
   "source": [
    "vec2 = vectorizer.transform(wiki_corpus)\n",
    "vec2 = vec2.toarray()\n",
    "X = X.toarray()"
   ]
  },
  {
   "cell_type": "code",
   "execution_count": 25,
   "metadata": {
    "colab": {
     "base_uri": "https://localhost:8080/"
    },
    "id": "2xCg95_fHkA-",
    "outputId": "8a57df38-a198-4b72-ab6a-3db543fbc731"
   },
   "outputs": [
    {
     "data": {
      "text/plain": [
       "array([12.76056599, 21.72531696,  8.19793084,  9.00100552,  9.32252566,\n",
       "       10.03844417,  9.76060739,  3.37538411, 10.61707356, 11.88622367,\n",
       "       10.46762739,  9.5804043 ,  2.92019587, 19.97348177,  9.74265325,\n",
       "        9.45624746,  9.24074649,  9.27382606,  2.52462106, 10.36629091,\n",
       "        8.93393302,  9.10392665,  2.92501758, 11.13005259,  9.17498756,\n",
       "        8.83580635,  9.01964941, 16.56791844, 13.17944882, 11.22363697,\n",
       "        7.93065913, 15.53027504, 18.02373864, 13.92065519, 16.39143812,\n",
       "       17.22400158, 17.95251449, 18.12331534, 13.88649701, 20.67482374,\n",
       "       17.43832817, 20.20093963, 10.28426069,  9.28731319, 10.50562482,\n",
       "       19.59373312,  9.87494007])"
      ]
     },
     "execution_count": 25,
     "metadata": {},
     "output_type": "execute_result"
    }
   ],
   "source": [
    "vec2.sum(axis=1)"
   ]
  },
  {
   "cell_type": "code",
   "execution_count": 26,
   "metadata": {
    "colab": {
     "base_uri": "https://localhost:8080/"
    },
    "id": "CNyWbowGHkA_",
    "outputId": "f2e9fcec-45ad-4c96-fea6-6bc665e431dd"
   },
   "outputs": [
    {
     "name": "stdout",
     "output_type": "stream",
     "text": [
      "(47, 13784)\n",
      "(34554, 13784)\n"
     ]
    }
   ],
   "source": [
    "print(vec2.shape)\n",
    "print(X.shape)"
   ]
  },
  {
   "cell_type": "code",
   "execution_count": 27,
   "metadata": {
    "colab": {
     "base_uri": "https://localhost:8080/"
    },
    "id": "OEup-83KHkA_",
    "outputId": "c5d48888-86d2-4c7a-ad69-a61a3dcaa44c"
   },
   "outputs": [
    {
     "data": {
      "text/plain": [
       "array([0., 0., 0., ..., 0., 0., 0.])"
      ]
     },
     "execution_count": 27,
     "metadata": {},
     "output_type": "execute_result"
    }
   ],
   "source": [
    "vec2[2,:]"
   ]
  },
  {
   "cell_type": "code",
   "execution_count": 28,
   "metadata": {
    "id": "q6CgclQ4HkBA"
   },
   "outputs": [],
   "source": [
    "loc_to_index = {cty:i for i, cty in enumerate(wiki_texts.keys())}"
   ]
  },
  {
   "cell_type": "code",
   "execution_count": 29,
   "metadata": {
    "id": "k1ZHkbaUHkBA"
   },
   "outputs": [],
   "source": [
    "def cos_sim(city, song):\n",
    "    city_i = loc_to_index[city]\n",
    "    song_i = song_to_index[song]\n",
    "    city_vec = vec2[city_i, :]\n",
    "    song_vec = X[song_i, :]\n",
    "    denom = np.linalg.norm(city_vec) * np.linalg.norm(song_vec)\n",
    "    num = city_vec @ song_vec\n",
    "    return (num ) /  (denom )"
   ]
  },
  {
   "cell_type": "code",
   "execution_count": 30,
   "metadata": {
    "colab": {
     "base_uri": "https://localhost:8080/"
    },
    "id": "1aSmHFnuHkBA",
    "outputId": "99db59a4-93df-4003-f1f2-32dcab8c7aa5"
   },
   "outputs": [
    {
     "data": {
      "text/plain": [
       "(13784,)"
      ]
     },
     "execution_count": 30,
     "metadata": {},
     "output_type": "execute_result"
    }
   ],
   "source": [
    "vec2[2,:].shape"
   ]
  },
  {
   "cell_type": "code",
   "execution_count": 31,
   "metadata": {
    "id": "2_VoyvHGHkBA"
   },
   "outputs": [],
   "source": [
    "def best_songs_for_city(city):\n",
    "    best = []\n",
    "    for song in song_to_index:\n",
    "        sim = cos_sim(city, song)\n",
    "        best.append((song, sim))\n",
    "    srtd = sorted(best, key = lambda x: x[1], reverse=True)\n",
    "    for t in srtd[:10]:\n",
    "        print(\"Song: \", t[0], \"  Score: {:.3f}\".format(t[1]))"
   ]
  },
  {
   "cell_type": "code",
   "execution_count": 32,
   "metadata": {
    "colab": {
     "base_uri": "https://localhost:8080/"
    },
    "id": "3G2AdF-2HkBB",
    "outputId": "e53be0d4-54ac-4600-abbf-7c0d22d1ab43"
   },
   "outputs": [
    {
     "name": "stderr",
     "output_type": "stream",
     "text": [
      "<ipython-input-29-081fac839062>:8: RuntimeWarning: invalid value encountered in double_scalars\n",
      "  return (num ) /  (denom )\n"
     ]
    },
    {
     "name": "stdout",
     "output_type": "stream",
     "text": [
      "Song:  I Love NYC   Score: 0.707\n",
      "Song:  New York   Score: 0.685\n",
      "Song:  King Of New York   Score: 0.517\n",
      "Song:  New York City Cops   Score: 0.512\n",
      "Song:  The Incumbent   Score: 0.430\n",
      "Song:  Stranger Into Starman   Score: 0.333\n",
      "Song:  Cocaine In My Brain   Score: 0.318\n",
      "Song:  Feeling Good   Score: 0.298\n",
      "Song:  The World I Know   Score: 0.240\n",
      "Song:  New Noise   Score: 0.214\n"
     ]
    }
   ],
   "source": [
    "best_songs_for_city(\"New York City\")"
   ]
  },
  {
   "cell_type": "code",
   "execution_count": 33,
   "metadata": {
    "colab": {
     "base_uri": "https://localhost:8080/"
    },
    "id": "EHPdIHRbHkBB",
    "outputId": "6cfe4fdd-cbd8-4498-8309-6c54dbe67e6f"
   },
   "outputs": [
    {
     "name": "stderr",
     "output_type": "stream",
     "text": [
      "<ipython-input-29-081fac839062>:8: RuntimeWarning: invalid value encountered in double_scalars\n",
      "  return (num ) /  (denom )\n"
     ]
    },
    {
     "name": "stdout",
     "output_type": "stream",
     "text": [
      "Song:  London Bridge   Score: 0.762\n",
      "Song:  London Is The Place For Me   Score: 0.727\n",
      "Song:  London Calling   Score: 0.618\n",
      "Song:  Glamorous Glue   Score: 0.523\n",
      "Song:  London Loves   Score: 0.514\n",
      "Song:  Street Fighting Man   Score: 0.281\n",
      "Song:  Your Embrace   Score: 0.225\n",
      "Song:  The Vanishing   Score: 0.185\n",
      "Song:  Round Here   Score: 0.150\n",
      "Song:  Delaney   Score: 0.143\n"
     ]
    }
   ],
   "source": [
    "best_songs_for_city(\"London\")"
   ]
  },
  {
   "cell_type": "code",
   "execution_count": 34,
   "metadata": {
    "colab": {
     "base_uri": "https://localhost:8080/"
    },
    "id": "FUdyHbHkHkBC",
    "outputId": "3cf5fe2a-658a-4c6f-9ad3-0d2ed4c9d825"
   },
   "outputs": [
    {
     "name": "stderr",
     "output_type": "stream",
     "text": [
      "<ipython-input-29-081fac839062>:8: RuntimeWarning: invalid value encountered in double_scalars\n",
      "  return (num ) /  (denom )\n"
     ]
    },
    {
     "name": "stdout",
     "output_type": "stream",
     "text": [
      "Song:  Victime de la mode   Score: 0.259\n",
      "Song:  Redrum   Score: 0.209\n",
      "Song:  Red Velvet   Score: 0.126\n",
      "Song:  The Ballot or the Bullet   Score: 0.055\n",
      "Song:  Hitten   Score: 0.040\n",
      "Song:  100%   Score: 0.039\n",
      "Song:  Oh Jerusalem   Score: 0.037\n",
      "Song:  Poster Princess   Score: 0.037\n",
      "Song:  Home Life   Score: 0.035\n",
      "Song:  Intro   Score: 0.035\n"
     ]
    }
   ],
   "source": [
    "best_songs_for_city(\"Tel Aviv\")"
   ]
  },
  {
   "cell_type": "code",
   "execution_count": 35,
   "metadata": {
    "colab": {
     "base_uri": "https://localhost:8080/"
    },
    "id": "tg2mVO5vHkBC",
    "outputId": "7d256f8d-91cd-4e5a-ec9f-2b5fa3512ae7"
   },
   "outputs": [
    {
     "name": "stderr",
     "output_type": "stream",
     "text": [
      "<ipython-input-29-081fac839062>:8: RuntimeWarning: invalid value encountered in double_scalars\n",
      "  return (num ) /  (denom )\n"
     ]
    },
    {
     "name": "stdout",
     "output_type": "stream",
     "text": [
      "Song:  Tokyo Witch   Score: 0.280\n",
      "Song:  Panda Bear   Score: 0.163\n",
      "Song:  Never Ending Summer   Score: 0.142\n",
      "Song:  Award Tour   Score: 0.104\n",
      "Song:  Back 4 U   Score: 0.075\n",
      "Song:  Bodhisattva   Score: 0.072\n",
      "Song:  Impossible Germany   Score: 0.063\n",
      "Song:  Harajuku Girls   Score: 0.059\n",
      "Song:  Da Joint   Score: 0.055\n",
      "Song:  Losing My Edge   Score: 0.050\n"
     ]
    }
   ],
   "source": [
    "best_songs_for_city(\"Tokyo\")"
   ]
  },
  {
   "cell_type": "code",
   "execution_count": 36,
   "metadata": {
    "colab": {
     "base_uri": "https://localhost:8080/"
    },
    "id": "NZ5urYHpHkBC",
    "outputId": "d39bd0dc-5358-4d24-894f-e2f22ba40fe6"
   },
   "outputs": [
    {
     "name": "stderr",
     "output_type": "stream",
     "text": [
      "<ipython-input-29-081fac839062>:8: RuntimeWarning: invalid value encountered in double_scalars\n",
      "  return (num ) /  (denom )\n"
     ]
    },
    {
     "name": "stdout",
     "output_type": "stream",
     "text": [
      "Song:  Indian Girl   Score: 0.158\n",
      "Song:  Citysong   Score: 0.129\n",
      "Song:  The Ballot or the Bullet   Score: 0.124\n",
      "Song:  Fireworks   Score: 0.112\n",
      "Song:  30 Century Man   Score: 0.107\n",
      "Song:  21st Century Digital Boy   Score: 0.088\n",
      "Song:  Twentieth Century Fox   Score: 0.084\n",
      "Song:  Suburban Home   Score: 0.083\n",
      "Song:  The Kids   Score: 0.082\n",
      "Song:  Flux   Score: 0.080\n"
     ]
    }
   ],
   "source": [
    "best_songs_for_city(\"Mumbai\")"
   ]
  },
  {
   "cell_type": "code",
   "execution_count": 36,
   "metadata": {
    "colab": {
     "base_uri": "https://localhost:8080/"
    },
    "id": "xhqGyl5hHkBC",
    "outputId": "67f29405-d1f9-4fa7-9fad-4cb5b070be6d"
   },
   "outputs": [
    {
     "name": "stderr",
     "output_type": "stream",
     "text": [
      "<ipython-input-29-081fac839062>:8: RuntimeWarning: invalid value encountered in double_scalars\n",
      "  return (num ) /  (denom )\n"
     ]
    },
    {
     "name": "stdout",
     "output_type": "stream",
     "text": [
      "Song:  The Ballot or the Bullet   Score: 0.132\n",
      "Song:  Luton To Lisbon   Score: 0.130\n",
      "Song:  The World Is Mine   Score: 0.114\n",
      "Song:  Beechwood Park   Score: 0.110\n",
      "Song:  We Built This City   Score: 0.100\n",
      "Song:  Running The World   Score: 0.099\n",
      "Song:  Da Joint   Score: 0.098\n",
      "Song:  DVNO   Score: 0.095\n",
      "Song:  The Hemp Museum   Score: 0.095\n",
      "Song:  This Is How We Do It   Score: 0.092\n"
     ]
    }
   ],
   "source": [
    "best_songs_for_city(\"Seoul\")"
   ]
  },
  {
   "cell_type": "code",
   "execution_count": 35,
   "metadata": {
    "id": "nCfn7fuBHkBC"
   },
   "outputs": [],
   "source": [
    "with open('wiki_tf_idf.pkl', 'wb') as f:\n",
    "    pickle.dump(vec2, f)"
   ]
  },
  {
   "cell_type": "code",
   "execution_count": 39,
   "metadata": {
    "colab": {
     "base_uri": "https://localhost:8080/",
     "height": 177
    },
    "id": "A_EGL-iMHkBD",
    "outputId": "d7f03b84-1569-438d-90f0-9a334f1ca591"
   },
   "outputs": [
    {
     "data": {
      "text/html": [
       "<div>\n",
       "<style scoped>\n",
       "    .dataframe tbody tr th:only-of-type {\n",
       "        vertical-align: middle;\n",
       "    }\n",
       "\n",
       "    .dataframe tbody tr th {\n",
       "        vertical-align: top;\n",
       "    }\n",
       "\n",
       "    .dataframe thead th {\n",
       "        text-align: right;\n",
       "    }\n",
       "</style>\n",
       "<table border=\"1\" class=\"dataframe\">\n",
       "  <thead>\n",
       "    <tr style=\"text-align: right;\">\n",
       "      <th></th>\n",
       "      <th>title</th>\n",
       "      <th>tag</th>\n",
       "      <th>artist</th>\n",
       "      <th>year</th>\n",
       "      <th>views</th>\n",
       "      <th>features</th>\n",
       "      <th>lyrics</th>\n",
       "      <th>id</th>\n",
       "      <th>song_id</th>\n",
       "      <th>emotions</th>\n",
       "      <th>social_tags</th>\n",
       "      <th>tknzd_lyrics</th>\n",
       "    </tr>\n",
       "  </thead>\n",
       "  <tbody>\n",
       "    <tr>\n",
       "      <th>1779</th>\n",
       "      <td>DVNO</td>\n",
       "      <td>rock</td>\n",
       "      <td>Justice</td>\n",
       "      <td>2007</td>\n",
       "      <td>30010</td>\n",
       "      <td>{\"Mehdi Pinson\"}</td>\n",
       "      <td>[Verse 1]\\nIt's always the same\\nAlways ashame...</td>\n",
       "      <td>100497</td>\n",
       "      <td>TRNPKRK128F429831C</td>\n",
       "      <td>[(party, 13), (energetic, 1), (fun, 1), (sexy,...</td>\n",
       "      <td>[(electronic, 100), (dance, 67), (electro, 61)...</td>\n",
       "      <td>[its, always, the, same, always, ashamed, stor...</td>\n",
       "    </tr>\n",
       "  </tbody>\n",
       "</table>\n",
       "</div>"
      ],
      "text/plain": [
       "     title   tag   artist  year  views          features  \\\n",
       "1779  DVNO  rock  Justice  2007  30010  {\"Mehdi Pinson\"}   \n",
       "\n",
       "                                                 lyrics      id  \\\n",
       "1779  [Verse 1]\\nIt's always the same\\nAlways ashame...  100497   \n",
       "\n",
       "                 song_id                                           emotions  \\\n",
       "1779  TRNPKRK128F429831C  [(party, 13), (energetic, 1), (fun, 1), (sexy,...   \n",
       "\n",
       "                                            social_tags  \\\n",
       "1779  [(electronic, 100), (dance, 67), (electro, 61)...   \n",
       "\n",
       "                                           tknzd_lyrics  \n",
       "1779  [its, always, the, same, always, ashamed, stor...  "
      ]
     },
     "execution_count": 39,
     "metadata": {},
     "output_type": "execute_result"
    }
   ],
   "source": [
    "big_df.loc[big_df['title']=='DVNO']"
   ]
  },
  {
   "cell_type": "code",
   "execution_count": 2,
   "metadata": {},
   "outputs": [
    {
     "ename": "NameError",
     "evalue": "name 'vectorizer' is not defined",
     "output_type": "error",
     "traceback": [
      "\u001b[0;31m---------------------------------------------------------------------------\u001b[0m",
      "\u001b[0;31mNameError\u001b[0m                                 Traceback (most recent call last)",
      "\u001b[0;32m<ipython-input-2-69a894d92cd1>\u001b[0m in \u001b[0;36m<module>\u001b[0;34m\u001b[0m\n\u001b[0;32m----> 1\u001b[0;31m \u001b[0mvectorizer\u001b[0m\u001b[0;34m\u001b[0m\u001b[0;34m\u001b[0m\u001b[0m\n\u001b[0m",
      "\u001b[0;31mNameError\u001b[0m: name 'vectorizer' is not defined"
     ]
    }
   ],
   "source": [
    "vectorizer"
   ]
  },
  {
   "cell_type": "code",
   "execution_count": null,
   "metadata": {},
   "outputs": [],
   "source": []
  }
 ],
 "metadata": {
  "colab": {
   "provenance": []
  },
  "kernelspec": {
   "display_name": "Python 3",
   "language": "python",
   "name": "python3"
  },
  "language_info": {
   "codemirror_mode": {
    "name": "ipython",
    "version": 3
   },
   "file_extension": ".py",
   "mimetype": "text/x-python",
   "name": "python",
   "nbconvert_exporter": "python",
   "pygments_lexer": "ipython3",
   "version": "3.8.5"
  }
 },
 "nbformat": 4,
 "nbformat_minor": 4
}
