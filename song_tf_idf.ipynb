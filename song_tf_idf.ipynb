{
 "cells": [
  {
   "cell_type": "code",
   "execution_count": 37,
   "metadata": {},
   "outputs": [],
   "source": [
    "import json\n",
    "import pandas as pd\n",
    "from collections import Counter\n",
    "import ast\n",
    "import numpy as np\n",
    "import matplotlib.pyplot as plt\n",
    "import pickle\n",
    "from sklearn.feature_extraction.text import TfidfVectorizer"
   ]
  },
  {
   "cell_type": "code",
   "execution_count": 2,
   "metadata": {},
   "outputs": [],
   "source": [
    "f = open('dataset/wiki_scraping/wiki_texts.json')\n",
    "wiki_texts = json.load(f)"
   ]
  },
  {
   "cell_type": "code",
   "execution_count": 3,
   "metadata": {},
   "outputs": [],
   "source": [
    "big_df = pd.read_csv('big_df.csv')"
   ]
  },
  {
   "cell_type": "code",
   "execution_count": 4,
   "metadata": {},
   "outputs": [],
   "source": [
    "big_df.drop(columns=['Unnamed: 0'], inplace=True)"
   ]
  },
  {
   "cell_type": "code",
   "execution_count": 5,
   "metadata": {},
   "outputs": [],
   "source": [
    "big_df['tknzd_lyrics'] = big_df['tknzd_lyrics'].apply(ast.literal_eval)\n",
    "big_df['emotions'] = big_df['emotions'].apply(ast.literal_eval)\n",
    "big_df['social_tags'] = big_df['social_tags'].apply(ast.literal_eval)"
   ]
  },
  {
   "cell_type": "code",
   "execution_count": 6,
   "metadata": {},
   "outputs": [],
   "source": [
    "drop_rows = []\n",
    "for row in big_df.iterrows():\n",
    "    if row[1]['emotions'] == []:\n",
    "        drop_rows.append(row[0])\n",
    "big_df.drop(drop_rows, inplace=True)"
   ]
  },
  {
   "cell_type": "code",
   "execution_count": 114,
   "metadata": {},
   "outputs": [],
   "source": [
    "vectorizer = TfidfVectorizer(max_df = 0.8, min_df = 10, norm='l2', stop_words = 'english')\n",
    "X = vectorizer.fit_transform(big_df['tknzd_lyrics'].apply(lambda x: \" \".join(x)))"
   ]
  },
  {
   "cell_type": "code",
   "execution_count": 63,
   "metadata": {},
   "outputs": [],
   "source": [
    "index_to_word = {i:v for i, v in enumerate(vectorizer.get_feature_names_out())}\n",
    "word_to_index = {v:i for i, v in enumerate(vectorizer.get_feature_names_out())}"
   ]
  },
  {
   "cell_type": "code",
   "execution_count": 64,
   "metadata": {},
   "outputs": [],
   "source": [
    "with open('word_to_index.pkl', 'wb') as f:\n",
    "    pickle.dump(word_to_index, f)\n",
    "with open('index_to_word.pkl', 'wb') as f:\n",
    "    pickle.dump(index_to_word, f)"
   ]
  },
  {
   "cell_type": "code",
   "execution_count": 69,
   "metadata": {},
   "outputs": [],
   "source": [
    "with open('song_tf_idf.pickle', 'wb') as f:\n",
    "    pickle.dump(X, f)"
   ]
  },
  {
   "cell_type": "code",
   "execution_count": 66,
   "metadata": {},
   "outputs": [],
   "source": [
    "song_to_index = {s:i for i, s in enumerate(big_df['title'])}\n",
    "index_to_song = {i:s for i, s in enumerate(big_df['title'])}"
   ]
  },
  {
   "cell_type": "code",
   "execution_count": 67,
   "metadata": {},
   "outputs": [],
   "source": [
    "with open('song_to_index.pkl', 'wb') as f:\n",
    "    pickle.dump(song_to_index, f)\n",
    "with open('index_to_song.pkl', 'wb') as f:\n",
    "    pickle.dump(index_to_song, f)"
   ]
  },
  {
   "cell_type": "markdown",
   "metadata": {},
   "source": [
    "# wiki"
   ]
  },
  {
   "cell_type": "code",
   "execution_count": 90,
   "metadata": {},
   "outputs": [],
   "source": [
    "from dataset import wiki_scraping"
   ]
  },
  {
   "cell_type": "code",
   "execution_count": 115,
   "metadata": {},
   "outputs": [],
   "source": [
    "vec2 = vectorizer.transform(wiki_texts.keys())\n",
    "vec2 = vec2.toarray()\n",
    "X = X.toarray()"
   ]
  },
  {
   "cell_type": "code",
   "execution_count": 93,
   "metadata": {},
   "outputs": [],
   "source": [
    "loc_to_index = {cty:i for i, cty in enumerate(wiki_texts.keys())}"
   ]
  },
  {
   "cell_type": "code",
   "execution_count": 116,
   "metadata": {},
   "outputs": [],
   "source": [
    "def cos_sim(city, song):\n",
    "    city_i = loc_to_index[city]\n",
    "    song_i = song_to_index[song]\n",
    "    city_vec = vec2[city_i, :]\n",
    "    song_vec = X[song_i, :]\n",
    "    denom = np.linalg.norm(city_vec) * np.linalg.norm(song_vec)\n",
    "    num = city_vec @ song_vec\n",
    "    return (num ) /  (denom )"
   ]
  },
  {
   "cell_type": "code",
   "execution_count": 126,
   "metadata": {},
   "outputs": [
    {
     "name": "stderr",
     "output_type": "stream",
     "text": [
      "<ipython-input-116-081fac839062>:8: RuntimeWarning: invalid value encountered in double_scalars\n",
      "  return (num ) /  (denom )\n"
     ]
    }
   ],
   "source": [
    "best_matches = []\n",
    "for song in song_to_index:\n",
    "    sim = cos_sim(\"New York City\", song)\n",
    "    best_matches.append((song, sim))"
   ]
  },
  {
   "cell_type": "code",
   "execution_count": 127,
   "metadata": {},
   "outputs": [
    {
     "name": "stdout",
     "output_type": "stream",
     "text": [
      "New York City Top Songs\n",
      "Song:  I Love NYC   Score: 0.897926\n",
      "Song:  New York City Boy   Score: 0.754490\n",
      "Song:  New York   Score: 0.750671\n",
      "Song:  New York City Cops   Score: 0.699394\n",
      "Song:  King Of New York   Score: 0.519181\n",
      "Song:  New York Tendaberry   Score: 0.503772\n",
      "Song:  Sex City   Score: 0.435709\n",
      "Song:  Suffragette City   Score: 0.373751\n",
      "Song:  City Of Love   Score: 0.357172\n",
      "Song:  Moving To New York   Score: 0.347174\n"
     ]
    }
   ],
   "source": [
    "print(\"New York City Top Songs\")\n",
    "srtd = sorted(best_matches, key = lambda x: x[1], reverse=True)\n",
    "for t in srtd[:10]:\n",
    "    print(\"Song: \", t[0], \"  Score: {:.6f}\".format(t[1]))"
   ]
  },
  {
   "cell_type": "code",
   "execution_count": 135,
   "metadata": {},
   "outputs": [
    {
     "name": "stderr",
     "output_type": "stream",
     "text": [
      "<ipython-input-116-081fac839062>:8: RuntimeWarning: invalid value encountered in double_scalars\n",
      "  return (num ) /  (denom )\n"
     ]
    }
   ],
   "source": [
    "best_matches_london = []\n",
    "for song in song_to_index:\n",
    "    sim = cos_sim(\"London\", song)\n",
    "    best_matches_london.append((song, sim))"
   ]
  },
  {
   "cell_type": "code",
   "execution_count": 136,
   "metadata": {},
   "outputs": [
    {
     "name": "stdout",
     "output_type": "stream",
     "text": [
      "London Top Songs\n",
      "Song:  London Bridge   Score: 0.839286\n",
      "Song:  London Is The Place For Me   Score: 0.785101\n",
      "Song:  London Calling   Score: 0.677222\n",
      "Song:  London Bombs   Score: 0.644769\n",
      "Song:  The Angel Pool   Score: 0.622987\n",
      "Song:  Glamorous Glue   Score: 0.576287\n",
      "Song:  London Loves   Score: 0.567062\n",
      "Song:  London Skies   Score: 0.525954\n",
      "Song:  London Leatherboys   Score: 0.465345\n",
      "Song:  I Love London   Score: 0.434061\n"
     ]
    }
   ],
   "source": [
    "print(\"London Top Songs\")\n",
    "srtd = sorted(best_matches_london, key = lambda x: x[1], reverse=True)\n",
    "for t in srtd[:10]:\n",
    "    print(\"Song: \", t[0], \"  Score: {:.6f}\".format(t[1]))"
   ]
  },
  {
   "cell_type": "code",
   "execution_count": 139,
   "metadata": {},
   "outputs": [],
   "source": [
    "with open('wiki_tf_idf.pkl', 'wb') as f:\n",
    "    pickle.dump(X, f)"
   ]
  },
  {
   "cell_type": "code",
   "execution_count": 143,
   "metadata": {},
   "outputs": [
    {
     "data": {
      "text/plain": [
       "array([2.27070681, 4.7210389 , 3.65440345, ..., 5.10556192, 0.97849738,\n",
       "       2.11076308])"
      ]
     },
     "execution_count": 143,
     "metadata": {},
     "output_type": "execute_result"
    }
   ],
   "source": [
    "X.sum(axis=0)"
   ]
  },
  {
   "cell_type": "code",
   "execution_count": null,
   "metadata": {},
   "outputs": [],
   "source": []
  }
 ],
 "metadata": {
  "kernelspec": {
   "display_name": "Python 3",
   "language": "python",
   "name": "python3"
  },
  "language_info": {
   "codemirror_mode": {
    "name": "ipython",
    "version": 3
   },
   "file_extension": ".py",
   "mimetype": "text/x-python",
   "name": "python",
   "nbconvert_exporter": "python",
   "pygments_lexer": "ipython3",
   "version": "3.8.5"
  }
 },
 "nbformat": 4,
 "nbformat_minor": 4
}
