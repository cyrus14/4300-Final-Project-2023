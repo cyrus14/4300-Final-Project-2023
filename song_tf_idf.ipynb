{
 "cells": [
  {
   "cell_type": "code",
   "execution_count": 261,
   "metadata": {},
   "outputs": [],
   "source": [
    "import json\n",
    "import pandas as pd\n",
    "from collections import Counter\n",
    "import ast\n",
    "import numpy as np\n",
    "import matplotlib.pyplot as plt\n",
    "import pickle\n",
    "from sklearn.feature_extraction.text import TfidfVectorizer\n",
    "from sklearn.feature_extraction import text"
   ]
  },
  {
   "cell_type": "code",
   "execution_count": 2,
   "metadata": {},
   "outputs": [],
   "source": [
    "f = open('dataset/wiki_scraping/wiki_texts.json')\n",
    "wiki_texts = json.load(f)"
   ]
  },
  {
   "cell_type": "code",
   "execution_count": 3,
   "metadata": {},
   "outputs": [],
   "source": [
    "big_df = pd.read_csv('big_df.csv')"
   ]
  },
  {
   "cell_type": "code",
   "execution_count": 4,
   "metadata": {},
   "outputs": [],
   "source": [
    "big_df.drop(columns=['Unnamed: 0'], inplace=True)"
   ]
  },
  {
   "cell_type": "code",
   "execution_count": 5,
   "metadata": {},
   "outputs": [],
   "source": [
    "big_df['tknzd_lyrics'] = big_df['tknzd_lyrics'].apply(ast.literal_eval)\n",
    "big_df['emotions'] = big_df['emotions'].apply(ast.literal_eval)\n",
    "big_df['social_tags'] = big_df['social_tags'].apply(ast.literal_eval)"
   ]
  },
  {
   "cell_type": "code",
   "execution_count": 6,
   "metadata": {},
   "outputs": [],
   "source": [
    "drop_rows = []\n",
    "for row in big_df.iterrows():\n",
    "    if row[1]['emotions'] == []:\n",
    "        drop_rows.append(row[0])\n",
    "big_df.drop(drop_rows, inplace=True)"
   ]
  },
  {
   "cell_type": "code",
   "execution_count": 262,
   "metadata": {},
   "outputs": [],
   "source": [
    "my_stop_words = text.ENGLISH_STOP_WORDS.union({'city'})\n",
    "vectorizer = TfidfVectorizer(max_df = 0.8, min_df = 10, norm='l2', stop_words = my_stop_words)\n",
    "X = vectorizer.fit_transform(big_df['tknzd_lyrics'].apply(lambda x: \" \".join(x)))"
   ]
  },
  {
   "cell_type": "code",
   "execution_count": 263,
   "metadata": {},
   "outputs": [],
   "source": [
    "index_to_word = {i:v for i, v in enumerate(vectorizer.get_feature_names_out())}\n",
    "word_to_index = {v:i for i, v in enumerate(vectorizer.get_feature_names_out())}"
   ]
  },
  {
   "cell_type": "code",
   "execution_count": 64,
   "metadata": {},
   "outputs": [],
   "source": [
    "with open('word_to_index.pkl', 'wb') as f:\n",
    "    pickle.dump(word_to_index, f)\n",
    "with open('index_to_word.pkl', 'wb') as f:\n",
    "    pickle.dump(index_to_word, f)"
   ]
  },
  {
   "cell_type": "code",
   "execution_count": 281,
   "metadata": {},
   "outputs": [],
   "source": [
    "with open('song_tf_idf.pickle', 'wb') as f:\n",
    "    pickle.dump(X, f)"
   ]
  },
  {
   "cell_type": "code",
   "execution_count": 264,
   "metadata": {},
   "outputs": [],
   "source": [
    "song_to_index = {s:i for i, s in enumerate(big_df['title'])}\n",
    "index_to_song = {i:s for i, s in enumerate(big_df['title'])}"
   ]
  },
  {
   "cell_type": "code",
   "execution_count": 67,
   "metadata": {},
   "outputs": [],
   "source": [
    "with open('song_to_index.pkl', 'wb') as f:\n",
    "    pickle.dump(song_to_index, f)\n",
    "with open('index_to_song.pkl', 'wb') as f:\n",
    "    pickle.dump(index_to_song, f)"
   ]
  },
  {
   "cell_type": "markdown",
   "metadata": {},
   "source": [
    "# wiki"
   ]
  },
  {
   "cell_type": "code",
   "execution_count": 90,
   "metadata": {},
   "outputs": [],
   "source": [
    "from dataset import wiki_scraping"
   ]
  },
  {
   "cell_type": "code",
   "execution_count": 265,
   "metadata": {},
   "outputs": [],
   "source": [
    "wiki_corpus = []\n",
    "for ls in list(wiki_texts.values()):\n",
    "    wiki_corpus.append(\" \".join(ls))"
   ]
  },
  {
   "cell_type": "code",
   "execution_count": 266,
   "metadata": {},
   "outputs": [],
   "source": [
    "vec2 = vectorizer.transform(wiki_corpus)\n",
    "vec2 = vec2.toarray()\n",
    "X = X.toarray()"
   ]
  },
  {
   "cell_type": "code",
   "execution_count": 267,
   "metadata": {},
   "outputs": [
    {
     "data": {
      "text/plain": [
       "array([12.7484876 , 21.72531696,  7.906622  , 17.22400158, 10.24045599,\n",
       "       19.0786044 ])"
      ]
     },
     "execution_count": 267,
     "metadata": {},
     "output_type": "execute_result"
    }
   ],
   "source": [
    "vec2.sum(axis=1)"
   ]
  },
  {
   "cell_type": "code",
   "execution_count": 247,
   "metadata": {},
   "outputs": [
    {
     "name": "stdout",
     "output_type": "stream",
     "text": [
      "(6, 13785)\n",
      "(34554, 13785)\n"
     ]
    }
   ],
   "source": [
    "print(vec2.shape)\n",
    "print(X.shape)"
   ]
  },
  {
   "cell_type": "code",
   "execution_count": 248,
   "metadata": {},
   "outputs": [
    {
     "data": {
      "text/plain": [
       "array([0., 0., 0., ..., 0., 0., 0.])"
      ]
     },
     "execution_count": 248,
     "metadata": {},
     "output_type": "execute_result"
    }
   ],
   "source": [
    "vec2[2,:]"
   ]
  },
  {
   "cell_type": "code",
   "execution_count": 271,
   "metadata": {},
   "outputs": [
    {
     "data": {
      "text/plain": [
       "array([0., 0., 0., ..., 0., 0., 0.])"
      ]
     },
     "execution_count": 271,
     "metadata": {},
     "output_type": "execute_result"
    }
   ],
   "source": [
    "X=X.toarray()\n",
    "X[2,:]"
   ]
  },
  {
   "cell_type": "code",
   "execution_count": 268,
   "metadata": {},
   "outputs": [],
   "source": [
    "loc_to_index = {cty:i for i, cty in enumerate(wiki_texts.keys())}"
   ]
  },
  {
   "cell_type": "code",
   "execution_count": 251,
   "metadata": {},
   "outputs": [],
   "source": [
    "def cos_sim(city, song):\n",
    "    city_i = loc_to_index[city]\n",
    "    song_i = song_to_index[song]\n",
    "    city_vec = vec2[city_i, :]\n",
    "    song_vec = X[song_i, :]\n",
    "    denom = np.linalg.norm(city_vec) * np.linalg.norm(song_vec)\n",
    "    num = city_vec @ song_vec\n",
    "    return (num ) /  (denom )"
   ]
  },
  {
   "cell_type": "code",
   "execution_count": 252,
   "metadata": {},
   "outputs": [
    {
     "data": {
      "text/plain": [
       "(13785,)"
      ]
     },
     "execution_count": 252,
     "metadata": {},
     "output_type": "execute_result"
    }
   ],
   "source": [
    "vec2[2,:].shape"
   ]
  },
  {
   "cell_type": "code",
   "execution_count": 269,
   "metadata": {},
   "outputs": [],
   "source": [
    "def best_songs_for_city(city):\n",
    "    best = []\n",
    "    for song in song_to_index:\n",
    "        sim = cos_sim(city, song)\n",
    "        best.append((song, sim))\n",
    "    srtd = sorted(best, key = lambda x: x[1], reverse=True)\n",
    "    for t in srtd[:10]:\n",
    "        print(\"Song: \", t[0], \"  Score: {:.3f}\".format(t[1]))"
   ]
  },
  {
   "cell_type": "code",
   "execution_count": 272,
   "metadata": {},
   "outputs": [
    {
     "name": "stderr",
     "output_type": "stream",
     "text": [
      "<ipython-input-251-081fac839062>:8: RuntimeWarning: invalid value encountered in double_scalars\n",
      "  return (num ) /  (denom )\n"
     ]
    },
    {
     "name": "stdout",
     "output_type": "stream",
     "text": [
      "Song:  I Love NYC   Score: 0.707\n",
      "Song:  New York   Score: 0.686\n",
      "Song:  King Of New York   Score: 0.517\n",
      "Song:  New York City Cops   Score: 0.512\n",
      "Song:  Stranger Into Starman   Score: 0.333\n",
      "Song:  Cocaine In My Brain   Score: 0.319\n",
      "Song:  Feeling Good   Score: 0.298\n",
      "Song:  The World I Know   Score: 0.239\n",
      "Song:  New Noise   Score: 0.214\n",
      "Song:  Brand New Day   Score: 0.189\n"
     ]
    }
   ],
   "source": [
    "best_songs_for_city(\"New York City\")"
   ]
  },
  {
   "cell_type": "code",
   "execution_count": 273,
   "metadata": {},
   "outputs": [
    {
     "name": "stderr",
     "output_type": "stream",
     "text": [
      "<ipython-input-251-081fac839062>:8: RuntimeWarning: invalid value encountered in double_scalars\n",
      "  return (num ) /  (denom )\n"
     ]
    },
    {
     "name": "stdout",
     "output_type": "stream",
     "text": [
      "Song:  London Bridge   Score: 0.761\n",
      "Song:  London Is The Place For Me   Score: 0.727\n",
      "Song:  London Calling   Score: 0.617\n",
      "Song:  Glamorous Glue   Score: 0.523\n",
      "Song:  London Loves   Score: 0.514\n",
      "Song:  Street Fighting Man   Score: 0.280\n",
      "Song:  Your Embrace   Score: 0.225\n",
      "Song:  The Vanishing   Score: 0.185\n",
      "Song:  Round Here   Score: 0.149\n",
      "Song:  Delaney   Score: 0.143\n"
     ]
    }
   ],
   "source": [
    "best_songs_for_city(\"London\")"
   ]
  },
  {
   "cell_type": "code",
   "execution_count": 274,
   "metadata": {},
   "outputs": [
    {
     "name": "stderr",
     "output_type": "stream",
     "text": [
      "<ipython-input-251-081fac839062>:8: RuntimeWarning: invalid value encountered in double_scalars\n",
      "  return (num ) /  (denom )\n"
     ]
    },
    {
     "name": "stdout",
     "output_type": "stream",
     "text": [
      "Song:  I Love NYC   Score: 0.180\n",
      "Song:  North American Scum   Score: 0.168\n",
      "Song:  North To Alaska   Score: 0.165\n",
      "Song:  New York   Score: 0.158\n",
      "Song:  King Of New York   Score: 0.138\n",
      "Song:  The Ballot or the Bullet   Score: 0.133\n",
      "Song:  New York City Cops   Score: 0.122\n",
      "Song:  Looking for Nothing   Score: 0.119\n",
      "Song:  Shadowplay   Score: 0.118\n",
      "Song:  Downtown   Score: 0.118\n"
     ]
    }
   ],
   "source": [
    "best_songs_for_city(\"Toronto\")"
   ]
  },
  {
   "cell_type": "code",
   "execution_count": 275,
   "metadata": {},
   "outputs": [
    {
     "name": "stderr",
     "output_type": "stream",
     "text": [
      "<ipython-input-251-081fac839062>:8: RuntimeWarning: invalid value encountered in double_scalars\n",
      "  return (num ) /  (denom )\n"
     ]
    },
    {
     "name": "stdout",
     "output_type": "stream",
     "text": [
      "Song:  Tokyo Witch   Score: 0.280\n",
      "Song:  Panda Bear   Score: 0.163\n",
      "Song:  Never Ending Summer   Score: 0.142\n",
      "Song:  Award Tour   Score: 0.104\n",
      "Song:  Back 4 U   Score: 0.075\n",
      "Song:  Bodhisattva   Score: 0.072\n",
      "Song:  Impossible Germany   Score: 0.063\n",
      "Song:  Harajuku Girls   Score: 0.059\n",
      "Song:  Da Joint   Score: 0.055\n",
      "Song:  Losing My Edge   Score: 0.050\n"
     ]
    }
   ],
   "source": [
    "best_songs_for_city(\"Tokyo\")"
   ]
  },
  {
   "cell_type": "code",
   "execution_count": 276,
   "metadata": {},
   "outputs": [
    {
     "name": "stderr",
     "output_type": "stream",
     "text": [
      "<ipython-input-251-081fac839062>:8: RuntimeWarning: invalid value encountered in double_scalars\n",
      "  return (num ) /  (denom )\n"
     ]
    },
    {
     "name": "stdout",
     "output_type": "stream",
     "text": [
      "Song:  Indian Girl   Score: 0.158\n",
      "Song:  Citysong   Score: 0.129\n",
      "Song:  The Ballot or the Bullet   Score: 0.124\n",
      "Song:  Fireworks   Score: 0.112\n",
      "Song:  30 Century Man   Score: 0.107\n",
      "Song:  21st Century Digital Boy   Score: 0.088\n",
      "Song:  Twentieth Century Fox   Score: 0.084\n",
      "Song:  Suburban Home   Score: 0.083\n",
      "Song:  The Kids   Score: 0.082\n",
      "Song:  Flux   Score: 0.080\n"
     ]
    }
   ],
   "source": [
    "best_songs_for_city(\"Mumbai\")"
   ]
  },
  {
   "cell_type": "code",
   "execution_count": 277,
   "metadata": {},
   "outputs": [
    {
     "name": "stderr",
     "output_type": "stream",
     "text": [
      "<ipython-input-251-081fac839062>:8: RuntimeWarning: invalid value encountered in double_scalars\n",
      "  return (num ) /  (denom )\n"
     ]
    },
    {
     "name": "stdout",
     "output_type": "stream",
     "text": [
      "Song:  Island Home   Score: 0.174\n",
      "Song:  Total Life Forever   Score: 0.164\n",
      "Song:  The Ballot or the Bullet   Score: 0.150\n",
      "Song:  Rock Island Line   Score: 0.140\n",
      "Song:  Square Biz   Score: 0.139\n",
      "Song:  Square Dance   Score: 0.126\n",
      "Song:  Jackson Square   Score: 0.125\n",
      "Song:  Island   Score: 0.122\n",
      "Song:  30 Century Man   Score: 0.117\n",
      "Song:  21st Century Life   Score: 0.114\n"
     ]
    }
   ],
   "source": [
    "best_songs_for_city(\"Budapest\")"
   ]
  },
  {
   "cell_type": "code",
   "execution_count": 280,
   "metadata": {},
   "outputs": [],
   "source": [
    "with open('wiki_tf_idf.pkl', 'wb') as f:\n",
    "    pickle.dump(vec2, f)"
   ]
  },
  {
   "cell_type": "code",
   "execution_count": 278,
   "metadata": {},
   "outputs": [
    {
     "data": {
      "text/html": [
       "<div>\n",
       "<style scoped>\n",
       "    .dataframe tbody tr th:only-of-type {\n",
       "        vertical-align: middle;\n",
       "    }\n",
       "\n",
       "    .dataframe tbody tr th {\n",
       "        vertical-align: top;\n",
       "    }\n",
       "\n",
       "    .dataframe thead th {\n",
       "        text-align: right;\n",
       "    }\n",
       "</style>\n",
       "<table border=\"1\" class=\"dataframe\">\n",
       "  <thead>\n",
       "    <tr style=\"text-align: right;\">\n",
       "      <th></th>\n",
       "      <th>title</th>\n",
       "      <th>tag</th>\n",
       "      <th>artist</th>\n",
       "      <th>year</th>\n",
       "      <th>views</th>\n",
       "      <th>features</th>\n",
       "      <th>lyrics</th>\n",
       "      <th>id</th>\n",
       "      <th>song_id</th>\n",
       "      <th>emotions</th>\n",
       "      <th>social_tags</th>\n",
       "      <th>tknzd_lyrics</th>\n",
       "    </tr>\n",
       "  </thead>\n",
       "  <tbody>\n",
       "    <tr>\n",
       "      <th>27228</th>\n",
       "      <td>Island Home</td>\n",
       "      <td>pop</td>\n",
       "      <td>Christine Anu</td>\n",
       "      <td>1995</td>\n",
       "      <td>1286</td>\n",
       "      <td>{}</td>\n",
       "      <td>Six years ive been in the city\\nAnd everynight...</td>\n",
       "      <td>854752</td>\n",
       "      <td>TRLWWET128F422729C</td>\n",
       "      <td>[(intense, 50)]</td>\n",
       "      <td>[(90s, 100), (australian, 100), (chillout, 50)...</td>\n",
       "      <td>[six, years, ive, been, in, the, city, and, ev...</td>\n",
       "    </tr>\n",
       "  </tbody>\n",
       "</table>\n",
       "</div>"
      ],
      "text/plain": [
       "             title  tag         artist  year  views features  \\\n",
       "27228  Island Home  pop  Christine Anu  1995   1286       {}   \n",
       "\n",
       "                                                  lyrics      id  \\\n",
       "27228  Six years ive been in the city\\nAnd everynight...  854752   \n",
       "\n",
       "                  song_id         emotions  \\\n",
       "27228  TRLWWET128F422729C  [(intense, 50)]   \n",
       "\n",
       "                                             social_tags  \\\n",
       "27228  [(90s, 100), (australian, 100), (chillout, 50)...   \n",
       "\n",
       "                                            tknzd_lyrics  \n",
       "27228  [six, years, ive, been, in, the, city, and, ev...  "
      ]
     },
     "execution_count": 278,
     "metadata": {},
     "output_type": "execute_result"
    }
   ],
   "source": [
    "big_df.loc[big_df['title']=='Island Home']"
   ]
  },
  {
   "cell_type": "code",
   "execution_count": 282,
   "metadata": {},
   "outputs": [
    {
     "name": "stdout",
     "output_type": "stream",
     "text": [
      "12329\n"
     ]
    }
   ],
   "source": [
    "print(len(wiki_texts['Toronto']))"
   ]
  },
  {
   "cell_type": "code",
   "execution_count": 283,
   "metadata": {},
   "outputs": [
    {
     "data": {
      "text/plain": [
       "dict_keys(['New York City', 'Budapest', 'Tokyo', 'Mumbai', 'London', 'Toronto'])"
      ]
     },
     "execution_count": 283,
     "metadata": {},
     "output_type": "execute_result"
    }
   ],
   "source": [
    "wiki_texts.keys()"
   ]
  },
  {
   "cell_type": "code",
   "execution_count": null,
   "metadata": {},
   "outputs": [],
   "source": []
  }
 ],
 "metadata": {
  "kernelspec": {
   "display_name": "Python 3",
   "language": "python",
   "name": "python3"
  },
  "language_info": {
   "codemirror_mode": {
    "name": "ipython",
    "version": 3
   },
   "file_extension": ".py",
   "mimetype": "text/x-python",
   "name": "python",
   "nbconvert_exporter": "python",
   "pygments_lexer": "ipython3",
   "version": "3.8.5"
  }
 },
 "nbformat": 4,
 "nbformat_minor": 4
}
