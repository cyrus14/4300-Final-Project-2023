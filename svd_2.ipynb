{
 "cells": [
  {
   "cell_type": "code",
   "execution_count": 46,
   "metadata": {},
   "outputs": [],
   "source": [
    "import pickle\n",
    "import numpy as np\n",
    "import matplotlib.pyplot as plt\n",
    "import pandas as pd\n",
    "import json\n",
    "from sklearn.preprocessing import normalize\n",
    "from scipy.sparse.linalg import svds\n",
    "import ast\n",
    "from scipy.sparse.linalg import svds\n",
    "%matplotlib inline"
   ]
  },
  {
   "cell_type": "code",
   "execution_count": 2,
   "metadata": {},
   "outputs": [],
   "source": [
    "file = open(\"song_tf_idf.pickle\",'rb')\n",
    "song_tf_idf = pickle.load(file)\n",
    "\n",
    "file = open(\"wiki_tf_idf.pkl\",'rb')\n",
    "wiki_tf_idf = pickle.load(file)"
   ]
  },
  {
   "cell_type": "code",
   "execution_count": 3,
   "metadata": {},
   "outputs": [],
   "source": [
    "file = open(\"word_to_index.pkl\",'rb')\n",
    "word_to_index = pickle.load(file)\n",
    "\n",
    "file = open(\"index_to_word.pkl\",'rb')\n",
    "index_to_word = pickle.load(file)"
   ]
  },
  {
   "cell_type": "code",
   "execution_count": 105,
   "metadata": {},
   "outputs": [],
   "source": [
    "file = open(\"vectorizer.pkl\",'rb')\n",
    "vectorizer = pickle.load(file)"
   ]
  },
  {
   "cell_type": "code",
   "execution_count": 5,
   "metadata": {},
   "outputs": [],
   "source": [
    "big_df = pd.read_csv('big_df.csv')"
   ]
  },
  {
   "cell_type": "code",
   "execution_count": 21,
   "metadata": {},
   "outputs": [],
   "source": [
    "big_df.drop(columns=['Unnamed: 0'], inplace=True)"
   ]
  },
  {
   "cell_type": "code",
   "execution_count": 10,
   "metadata": {},
   "outputs": [],
   "source": [
    "big_df['emotions'] = big_df['emotions'].apply(ast.literal_eval)"
   ]
  },
  {
   "cell_type": "code",
   "execution_count": 22,
   "metadata": {},
   "outputs": [],
   "source": [
    "drop_rows = []\n",
    "for row in big_df.iterrows():\n",
    "    if row[1]['emotions'] == []:\n",
    "        drop_rows.append(row[0])\n",
    "big_df.drop(drop_rows, inplace=True)"
   ]
  },
  {
   "cell_type": "code",
   "execution_count": 25,
   "metadata": {},
   "outputs": [],
   "source": [
    "big_df['emotions'] = big_df['emotions'].apply(lambda x: [tup[0] for tup in x])"
   ]
  },
  {
   "cell_type": "code",
   "execution_count": 32,
   "metadata": {},
   "outputs": [],
   "source": [
    "unique_tags = set([j for sub in big_df['emotions'].values for j in sub])\n",
    "tag_to_index = {t:i for i, t in enumerate(unique_tags)}\n",
    "index_to_tag = {i:t for i, t in enumerate(unique_tags)}"
   ]
  },
  {
   "cell_type": "code",
   "execution_count": 40,
   "metadata": {},
   "outputs": [],
   "source": [
    "song_tag_mat = np.zeros((big_df.shape[0], len(unique_tags)))\n",
    "for i in range(big_df.shape[0]):\n",
    "    tags = big_df['emotions'].iloc[i]\n",
    "    for t in tags:\n",
    "        j = tag_to_index[t]\n",
    "        song_tag_mat[i, j] = 1"
   ]
  },
  {
   "cell_type": "code",
   "execution_count": 43,
   "metadata": {},
   "outputs": [],
   "source": [
    "#song_mat_norm = song_tag_mat / song_tag_mat.sum(axis = 0)"
   ]
  },
  {
   "cell_type": "code",
   "execution_count": 50,
   "metadata": {},
   "outputs": [],
   "source": [
    "# do SVD with a very large k (we usually use 100), just for the sake of getting many sorted singular values (aka importances)\n",
    "u,s,v_trans = svds(song_tag_mat, k=100)"
   ]
  },
  {
   "cell_type": "code",
   "execution_count": 51,
   "metadata": {},
   "outputs": [
    {
     "data": {
      "image/png": "[encoded data removed]",
      "text/plain": [
       "<Figure size 432x288 with 1 Axes>"
      ]
     },
     "metadata": {
      "needs_background": "light"
     },
     "output_type": "display_data"
    }
   ],
   "source": [
    "plt.plot(s[::-1])\n",
    "plt.xlabel(\"Singular value number\")\n",
    "plt.ylabel(\"Singular value\")\n",
    "plt.show()"
   ]
  },
  {
   "cell_type": "code",
   "execution_count": 92,
   "metadata": {},
   "outputs": [],
   "source": [
    "N_FEATS = 10"
   ]
  },
  {
   "cell_type": "code",
   "execution_count": 93,
   "metadata": {},
   "outputs": [],
   "source": [
    "docs_compressed, s, words_compressed = svds(song_tag_mat, k=N_FEATS)\n",
    "words_compressed = words_compressed.transpose()"
   ]
  },
  {
   "cell_type": "code",
   "execution_count": 94,
   "metadata": {},
   "outputs": [],
   "source": [
    "words_compressed_normed = normalize(words_compressed, axis = 1)"
   ]
  },
  {
   "cell_type": "code",
   "execution_count": 95,
   "metadata": {},
   "outputs": [],
   "source": [
    "def closest_words(word_in, words_representation_in, k = 10):\n",
    "    if word_in not in tag_to_index: return \"Not in vocab.\"\n",
    "    sims = words_representation_in.dot(words_representation_in[tag_to_index[word_in],:])\n",
    "    asort = np.argsort(-sims)[:k+1]\n",
    "    return [(index_to_tag[i],sims[i]) for i in asort[1:]]"
   ]
  },
  {
   "cell_type": "code",
   "execution_count": 96,
   "metadata": {},
   "outputs": [],
   "source": [
    "td_matrix_np = song_tag_mat.transpose()\n",
    "td_matrix_np = normalize(td_matrix_np)"
   ]
  },
  {
   "cell_type": "code",
   "execution_count": 104,
   "metadata": {},
   "outputs": [
    {
     "name": "stdout",
     "output_type": "stream",
     "text": [
      "Using SVD:\n",
      "annoying, 0.889\n",
      "exciting, 0.880\n",
      "thrill, 0.780\n",
      "lively, 0.780\n",
      "gleeful, 0.770\n",
      "playful, 0.760\n",
      "anxious, 0.757\n",
      "boisterous, 0.749\n",
      "rambunctious, 0.744\n",
      "fierce, 0.742\n",
      "\n"
     ]
    }
   ],
   "source": [
    "word = 'energetic'\n",
    "print(\"Using SVD:\")\n",
    "for w, sim in closest_words(word, words_compressed_normed):\n",
    "    try:\n",
    "        print(\"{}, {:.3f}\".format(w, sim))\n",
    "    except:\n",
    "        print(\"word not found\")\n",
    "print()"
   ]
  },
  {
   "cell_type": "code",
   "execution_count": 98,
   "metadata": {},
   "outputs": [
    {
     "name": "stdout",
     "output_type": "stream",
     "text": [
      "Top words in dimension 0\n",
      "['romantic', 'melancholic', 'dark', 'mellow', 'energetic', 'fun', 'depressive', 'intense', 'smooth', 'aggressive']\n",
      "\n",
      "Top words in dimension 1\n",
      "['melancholy', 'romantic', 'party', 'smooth', 'fun', 'bittersweet', 'sexy', 'heartbreak', 'soft', 'heartbreaking']\n",
      "\n",
      "Top words in dimension 2\n",
      "['happy', 'party', 'dark', 'sexy', 'melancholy', 'dreamy', 'energetic', 'mellow', 'intense', 'joyful']\n",
      "\n",
      "Top words in dimension 3\n",
      "['happy', 'fun', 'sexy', 'melancholy', 'dark', 'melancholic', 'dreamy', 'funny', 'intense', 'humor']\n",
      "\n",
      "Top words in dimension 4\n",
      "['melancholy', 'party', 'melancholic', 'dreamy', 'dark', 'relax', 'relaxing', 'calm', 'intense', 'soothing']\n",
      "\n",
      "Top words in dimension 5\n",
      "['relax', 'romantic', 'relaxing', 'happy', 'soft', 'smooth', 'calm', 'dreamy', 'soothing', 'peaceful']\n",
      "\n",
      "Top words in dimension 6\n",
      "['happy', 'fun', 'melancholy', 'sad', 'mellow', 'party', 'melancholic', 'funny', 'energetic', 'cheerful']\n",
      "\n",
      "Top words in dimension 7\n",
      "['sad', 'melancholy', 'melancholic', 'dark', 'sexy', 'party', 'fun', 'energetic', 'depressing', 'intense']\n",
      "\n",
      "Top words in dimension 8\n",
      "['fun', 'party', 'happy', 'sexy', 'energetic', 'funny', 'smooth', 'playful', 'cheerful', 'silly']\n",
      "\n",
      "Top words in dimension 9\n",
      "['unconcerned', 'anguished', 'enraged', 'sobbing', 'marching', 'untroubled', 'feverish', 'revolt', 'unfortunate', 'weeping']\n",
      "\n"
     ]
    }
   ],
   "source": [
    "for i in range(N_FEATS):\n",
    "    print(\"Top words in dimension\", i)\n",
    "    dimension_col = words_compressed[:,i].squeeze()\n",
    "    asort = np.argsort(-dimension_col)\n",
    "    print([index_to_tag[i] for i in asort[:10]])\n",
    "    print()"
   ]
  },
  {
   "cell_type": "code",
   "execution_count": 126,
   "metadata": {},
   "outputs": [],
   "source": [
    "query = \"happy calm peaceful\"\n",
    "query_tagf = np.zeros((1,len(unique_tags)))\n",
    "for wrd in query.split():\n",
    "    if wrd in unique_tags:\n",
    "        i = tag_to_index[wrd]\n",
    "        query_tagf[0,i] += 1"
   ]
  },
  {
   "cell_type": "code",
   "execution_count": 135,
   "metadata": {},
   "outputs": [],
   "source": [
    "docs_compressed_normed = normalize(docs_compressed, axis=1)"
   ]
  },
  {
   "cell_type": "code",
   "execution_count": 177,
   "metadata": {},
   "outputs": [],
   "source": [
    "def closest_songs_to_query(query_vec_in, k = 5):\n",
    "    sims = normalize(query_vec_in).dot(docs_compressed_normed.T)[0]\n",
    "    asort = np.argsort(-sims)[:k+1]\n",
    "    return [(i, big_df['title'].iloc[i],sims[i]) for i in asort[0:]]"
   ]
  },
  {
   "cell_type": "code",
   "execution_count": 178,
   "metadata": {},
   "outputs": [],
   "source": [
    "def match_on_emotion_query(query):\n",
    "    query_tagf = np.zeros((1,len(unique_tags)))\n",
    "    for wrd in query.split():\n",
    "        if wrd in unique_tags:\n",
    "            i = tag_to_index[wrd]\n",
    "            query_tagf[0,i] += 1\n",
    "    query_vec = query_tagf @ words_compressed\n",
    "    closest = closest_songs_to_query(query_vec)\n",
    "    print(\"Closest songs to query: {}\".format(query))\n",
    "    for i, proj, sim in closest_songs_to_query(query_vec):\n",
    "        print(\"{}, {:.2f}\".format(proj, sim))"
   ]
  },
  {
   "cell_type": "code",
   "execution_count": 179,
   "metadata": {},
   "outputs": [
    {
     "name": "stdout",
     "output_type": "stream",
     "text": [
      "Closest songs to query: happy peaceful\n",
      "Hippopotamus, 0.99\n",
      "Phantasies, 0.99\n",
      "Mighty Man, 0.99\n",
      "Doobie, 0.99\n",
      "The Church Channel, 0.99\n",
      "Tiger Is Not A Bird, 0.99\n"
     ]
    }
   ],
   "source": [
    "match_on_emotion_query(\"happy peaceful\")"
   ]
  },
  {
   "cell_type": "code",
   "execution_count": 180,
   "metadata": {},
   "outputs": [
    {
     "name": "stdout",
     "output_type": "stream",
     "text": [
      "Closest songs to query: excited angry\n",
      "Terror, 0.99\n",
      "Spitfall, 0.99\n",
      "Home, 0.99\n",
      "Suffocate, 0.99\n",
      "Operation, 0.99\n",
      "The Futile, 0.99\n"
     ]
    }
   ],
   "source": [
    "match_on_emotion_query(\"excited angry\")"
   ]
  },
  {
   "cell_type": "code",
   "execution_count": 181,
   "metadata": {},
   "outputs": [
    {
     "name": "stdout",
     "output_type": "stream",
     "text": [
      "Closest songs to query: excited angry angry\n",
      "Suffocate, 0.99\n",
      "Terror, 0.99\n",
      "Operation, 0.99\n",
      "Spitfall, 0.99\n",
      "The Futile, 0.99\n",
      "Home, 0.99\n"
     ]
    }
   ],
   "source": [
    "match_on_emotion_query(\"excited angry angry\")"
   ]
  },
  {
   "cell_type": "code",
   "execution_count": 182,
   "metadata": {},
   "outputs": [
    {
     "name": "stdout",
     "output_type": "stream",
     "text": [
      "Closest songs to query: sad sad sad\n",
      "Song About an Angel, 0.99\n",
      "Stab My Back, 0.99\n",
      "Fitter Happier, 0.99\n",
      "Kingsport Town, 0.99\n",
      "Hannah Hold On, 0.99\n",
      "Miserable, 0.99\n"
     ]
    }
   ],
   "source": [
    "match_on_emotion_query(\"sad sad sad\")"
   ]
  },
  {
   "cell_type": "code",
   "execution_count": null,
   "metadata": {},
   "outputs": [],
   "source": []
  }
 ],
 "metadata": {
  "kernelspec": {
   "display_name": "Python 3",
   "language": "python",
   "name": "python3"
  },
  "language_info": {
   "codemirror_mode": {
    "name": "ipython",
    "version": 3
   },
   "file_extension": ".py",
   "mimetype": "text/x-python",
   "name": "python",
   "nbconvert_exporter": "python",
   "pygments_lexer": "ipython3",
   "version": "3.8.5"
  }
 },
 "nbformat": 4,
 "nbformat_minor": 4
}
