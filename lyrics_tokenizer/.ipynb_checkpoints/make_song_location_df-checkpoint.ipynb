{
 "cells": [
  {
   "cell_type": "code",
   "execution_count": 27,
   "metadata": {},
   "outputs": [],
   "source": [
    "import pandas as pd\n",
    "import numpy as np\n",
    "import re"
   ]
  },
  {
   "cell_type": "code",
   "execution_count": 2,
   "metadata": {},
   "outputs": [],
   "source": [
    "lyric_df = pd.read_csv('shortened_tokenized_lyrics.csv')"
   ]
  },
  {
   "cell_type": "code",
   "execution_count": 3,
   "metadata": {},
   "outputs": [
    {
     "name": "stdout",
     "output_type": "stream",
     "text": [
      "/Users/samuelmeisner/Desktop/4300/4300-Final-Project-2023\n"
     ]
    }
   ],
   "source": [
    "%cd .."
   ]
  },
  {
   "cell_type": "code",
   "execution_count": 4,
   "metadata": {},
   "outputs": [],
   "source": [
    "import wiki_scraping\n",
    "from  wiki_scraping import wiki_articles_to_include"
   ]
  },
  {
   "cell_type": "code",
   "execution_count": 78,
   "metadata": {},
   "outputs": [],
   "source": [
    "lyric_df.drop(columns=['Unnamed: 0', 'lyrics'],inplace=True)"
   ]
  },
  {
   "cell_type": "code",
   "execution_count": 6,
   "metadata": {},
   "outputs": [],
   "source": [
    "lyr_loc_df = np.zeros((len(lyric_df), len(wiki_articles_to_include.titles)))"
   ]
  },
  {
   "cell_type": "code",
   "execution_count": 28,
   "metadata": {},
   "outputs": [],
   "source": [
    "def tokenize(text): #taken from CS 4300\n",
    "    return [x for x in re.findall(r\"[a-z]+\", text.lower()) if x != \"\"]\n",
    "\n",
    "def find_in_song(lyrics, loc_name):\n",
    "    for s in tokenize(loc_name):\n",
    "        if s not in lyrics:\n",
    "            return 0\n",
    "    return 1"
   ]
  },
  {
   "cell_type": "code",
   "execution_count": 29,
   "metadata": {},
   "outputs": [],
   "source": [
    "for i, location in enumerate(wiki_articles_to_include.titles):\n",
    "    lyr_loc_df[:, i] = lyric_df['tknzd_lyrics'].apply(lambda x: find_in_song(x, location))"
   ]
  },
  {
   "cell_type": "code",
   "execution_count": 33,
   "metadata": {},
   "outputs": [],
   "source": [
    "location_to_index = {l:i for i, l in enumerate(wiki_articles_to_include.titles)}\n",
    "index_to_location = {i:l for i, l in enumerate(wiki_articles_to_include.titles)}\n",
    "\n",
    "song_to_index = {s:i for i, s in enumerate(lyric_df['title'])}\n",
    "index_to_song = {i:s for i, s in enumerate(lyric_df['title'])}"
   ]
  },
  {
   "cell_type": "code",
   "execution_count": 74,
   "metadata": {},
   "outputs": [],
   "source": [
    "def search(query_city, df):\n",
    "    c_i = location_to_index[query_city]\n",
    "    sngs = lyr_loc_df[:,c_i]\n",
    "    results = pd.DataFrame()\n",
    "    for i in  np.where(sngs==1)[0]:\n",
    "        #song_title = index_to_song[i]\n",
    "        results = results.append(lyric_df.iloc[i])\n",
    "        results = results.sort_values(by='views', ascending=False)\n",
    "    return results[:10].reset_index(drop=True)"
   ]
  },
  {
   "cell_type": "code",
   "execution_count": 86,
   "metadata": {},
   "outputs": [
    {
     "data": {
      "text/html": [
       "<div>\n",
       "<style scoped>\n",
       "    .dataframe tbody tr th:only-of-type {\n",
       "        vertical-align: middle;\n",
       "    }\n",
       "\n",
       "    .dataframe tbody tr th {\n",
       "        vertical-align: top;\n",
       "    }\n",
       "\n",
       "    .dataframe thead th {\n",
       "        text-align: right;\n",
       "    }\n",
       "</style>\n",
       "<table border=\"1\" class=\"dataframe\">\n",
       "  <thead>\n",
       "    <tr style=\"text-align: right;\">\n",
       "      <th></th>\n",
       "      <th>artist</th>\n",
       "      <th>features</th>\n",
       "      <th>id</th>\n",
       "      <th>tag</th>\n",
       "      <th>title</th>\n",
       "      <th>tknzd_lyrics</th>\n",
       "      <th>views</th>\n",
       "      <th>year</th>\n",
       "    </tr>\n",
       "  </thead>\n",
       "  <tbody>\n",
       "    <tr>\n",
       "      <th>0</th>\n",
       "      <td>Fivio Foreign, Kanye West &amp; Alicia Keys</td>\n",
       "      <td>{\"Fivio Foreign / Kanye West &amp; Alicia Keys\"}</td>\n",
       "      <td>7666675.0</td>\n",
       "      <td>rap</td>\n",
       "      <td>City of Gods</td>\n",
       "      <td>['new', 'york', 'city', 'please', 'go', 'easy'...</td>\n",
       "      <td>359266.0</td>\n",
       "      <td>2022.0</td>\n",
       "    </tr>\n",
       "    <tr>\n",
       "      <th>1</th>\n",
       "      <td>Logic</td>\n",
       "      <td>{\"Lucy Rose\"}</td>\n",
       "      <td>3976867.0</td>\n",
       "      <td>rap</td>\n",
       "      <td>Thank You</td>\n",
       "      <td>['this', 'concludes', 'the', 'program', 'damn'...</td>\n",
       "      <td>59105.0</td>\n",
       "      <td>2018.0</td>\n",
       "    </tr>\n",
       "    <tr>\n",
       "      <th>2</th>\n",
       "      <td>Thievery Corporation</td>\n",
       "      <td>{\"Racquel Jones\"}</td>\n",
       "      <td>2998674.0</td>\n",
       "      <td>rap</td>\n",
       "      <td>Letter to the Editor</td>\n",
       "      <td>['letter', 'to', 'the', 'editor', 'pocket', 'f...</td>\n",
       "      <td>15397.0</td>\n",
       "      <td>2017.0</td>\n",
       "    </tr>\n",
       "    <tr>\n",
       "      <th>3</th>\n",
       "      <td>Rick Ross</td>\n",
       "      <td>{}</td>\n",
       "      <td>2307162.0</td>\n",
       "      <td>rap</td>\n",
       "      <td>Work</td>\n",
       "      <td>['do', 'your', 'job', 'and', 'imma', 'do', 'mi...</td>\n",
       "      <td>13437.0</td>\n",
       "      <td>2015.0</td>\n",
       "    </tr>\n",
       "    <tr>\n",
       "      <th>4</th>\n",
       "      <td>Nicki Minaj</td>\n",
       "      <td>{\"Fivio Foreign\"}</td>\n",
       "      <td>7835158.0</td>\n",
       "      <td>rap</td>\n",
       "      <td>We Go Up Extended</td>\n",
       "      <td>['o', 'm', 'j', 'bo', 'e', 'ale', 'dojeba', 'e...</td>\n",
       "      <td>13073.0</td>\n",
       "      <td>2022.0</td>\n",
       "    </tr>\n",
       "    <tr>\n",
       "      <th>5</th>\n",
       "      <td>Ludacris</td>\n",
       "      <td>{T.I.}</td>\n",
       "      <td>29570.0</td>\n",
       "      <td>rap</td>\n",
       "      <td>Wish You Would</td>\n",
       "      <td>['ti', 'here', 'we', 'go', 'surprise', 'nigga'...</td>\n",
       "      <td>7589.0</td>\n",
       "      <td>2008.0</td>\n",
       "    </tr>\n",
       "    <tr>\n",
       "      <th>6</th>\n",
       "      <td>James Bay</td>\n",
       "      <td>{}</td>\n",
       "      <td>7800441.0</td>\n",
       "      <td>pop</td>\n",
       "      <td>Give Me The Reason</td>\n",
       "      <td>['give', 'me', 'the', 'reason', 'am', 'i', 'st...</td>\n",
       "      <td>6249.0</td>\n",
       "      <td>2022.0</td>\n",
       "    </tr>\n",
       "    <tr>\n",
       "      <th>7</th>\n",
       "      <td>Hannah Rae</td>\n",
       "      <td>{}</td>\n",
       "      <td>578524.0</td>\n",
       "      <td>misc</td>\n",
       "      <td>Blackfish Transcript</td>\n",
       "      <td>['cnn', 'return', 'to', 'transcripts', 'main',...</td>\n",
       "      <td>6141.0</td>\n",
       "      <td>2014.0</td>\n",
       "    </tr>\n",
       "    <tr>\n",
       "      <th>8</th>\n",
       "      <td>Climax Blues Band</td>\n",
       "      <td>{}</td>\n",
       "      <td>644083.0</td>\n",
       "      <td>rock</td>\n",
       "      <td>Couldnt Get It Right</td>\n",
       "      <td>['time', 'was', 'drifting', 'this', 'rocker', ...</td>\n",
       "      <td>6094.0</td>\n",
       "      <td>1976.0</td>\n",
       "    </tr>\n",
       "    <tr>\n",
       "      <th>9</th>\n",
       "      <td>Wheeler Walker Jr.</td>\n",
       "      <td>{}</td>\n",
       "      <td>7763463.0</td>\n",
       "      <td>country</td>\n",
       "      <td>Fucked By A Country Boy</td>\n",
       "      <td>['hey', 'bitch', 'from', 'new', 'york', 'city'...</td>\n",
       "      <td>5072.0</td>\n",
       "      <td>2022.0</td>\n",
       "    </tr>\n",
       "  </tbody>\n",
       "</table>\n",
       "</div>"
      ],
      "text/plain": [
       "                                    artist  \\\n",
       "0  Fivio Foreign, Kanye West & Alicia Keys   \n",
       "1                                    Logic   \n",
       "2                     Thievery Corporation   \n",
       "3                                Rick Ross   \n",
       "4                              Nicki Minaj   \n",
       "5                                 Ludacris   \n",
       "6                                James Bay   \n",
       "7                               Hannah Rae   \n",
       "8                        Climax Blues Band   \n",
       "9                       Wheeler Walker Jr.   \n",
       "\n",
       "                                       features         id      tag  \\\n",
       "0  {\"Fivio Foreign / Kanye West & Alicia Keys\"}  7666675.0      rap   \n",
       "1                                 {\"Lucy Rose\"}  3976867.0      rap   \n",
       "2                             {\"Racquel Jones\"}  2998674.0      rap   \n",
       "3                                            {}  2307162.0      rap   \n",
       "4                             {\"Fivio Foreign\"}  7835158.0      rap   \n",
       "5                                        {T.I.}    29570.0      rap   \n",
       "6                                            {}  7800441.0      pop   \n",
       "7                                            {}   578524.0     misc   \n",
       "8                                            {}   644083.0     rock   \n",
       "9                                            {}  7763463.0  country   \n",
       "\n",
       "                     title                                       tknzd_lyrics  \\\n",
       "0             City of Gods  ['new', 'york', 'city', 'please', 'go', 'easy'...   \n",
       "1                Thank You  ['this', 'concludes', 'the', 'program', 'damn'...   \n",
       "2     Letter to the Editor  ['letter', 'to', 'the', 'editor', 'pocket', 'f...   \n",
       "3                     Work  ['do', 'your', 'job', 'and', 'imma', 'do', 'mi...   \n",
       "4        We Go Up Extended  ['o', 'm', 'j', 'bo', 'e', 'ale', 'dojeba', 'e...   \n",
       "5           Wish You Would  ['ti', 'here', 'we', 'go', 'surprise', 'nigga'...   \n",
       "6       Give Me The Reason  ['give', 'me', 'the', 'reason', 'am', 'i', 'st...   \n",
       "7     Blackfish Transcript  ['cnn', 'return', 'to', 'transcripts', 'main',...   \n",
       "8     Couldnt Get It Right  ['time', 'was', 'drifting', 'this', 'rocker', ...   \n",
       "9  Fucked By A Country Boy  ['hey', 'bitch', 'from', 'new', 'york', 'city'...   \n",
       "\n",
       "      views    year  \n",
       "0  359266.0  2022.0  \n",
       "1   59105.0  2018.0  \n",
       "2   15397.0  2017.0  \n",
       "3   13437.0  2015.0  \n",
       "4   13073.0  2022.0  \n",
       "5    7589.0  2008.0  \n",
       "6    6249.0  2022.0  \n",
       "7    6141.0  2014.0  \n",
       "8    6094.0  1976.0  \n",
       "9    5072.0  2022.0  "
      ]
     },
     "execution_count": 86,
     "metadata": {},
     "output_type": "execute_result"
    }
   ],
   "source": [
    "search('New York City', lyr_loc_df)    "
   ]
  },
  {
   "cell_type": "code",
   "execution_count": 92,
   "metadata": {},
   "outputs": [],
   "source": [
    "lyr_loc_pd = pd.DataFrame(lyr_loc_df, columns = wiki_articles_to_include.titles)\n",
    "lyr_loc_pd[\"Title\"] = lyric_df['title']"
   ]
  },
  {
   "cell_type": "code",
   "execution_count": 94,
   "metadata": {},
   "outputs": [],
   "source": [
    "lyr_loc_pd.to_csv('songs_locations_df.csv')"
   ]
  },
  {
   "cell_type": "code",
   "execution_count": 45,
   "metadata": {},
   "outputs": [],
   "source": [
    "#wasabi = pd.read_csv('wasabi_songs.csv', error_bad_lines=False, warn_bad_lines=False)"
   ]
  },
  {
   "cell_type": "code",
   "execution_count": 7,
   "metadata": {},
   "outputs": [],
   "source": [
    "#wasabi.head()"
   ]
  },
  {
   "cell_type": "code",
   "execution_count": 95,
   "metadata": {},
   "outputs": [],
   "source": [
    "#wasabi.shape"
   ]
  },
  {
   "cell_type": "code",
   "execution_count": null,
   "metadata": {},
   "outputs": [],
   "source": []
  }
 ],
 "metadata": {
  "kernelspec": {
   "display_name": "Python 3",
   "language": "python",
   "name": "python3"
  },
  "language_info": {
   "codemirror_mode": {
    "name": "ipython",
    "version": 3
   },
   "file_extension": ".py",
   "mimetype": "text/x-python",
   "name": "python",
   "nbconvert_exporter": "python",
   "pygments_lexer": "ipython3",
   "version": "3.8.5"
  }
 },
 "nbformat": 4,
 "nbformat_minor": 4
}
