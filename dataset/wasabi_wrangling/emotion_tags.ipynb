{
 "cells": [
  {
   "cell_type": "code",
   "execution_count": 1,
   "metadata": {},
   "outputs": [],
   "source": [
    "import pickle as pkl\n",
    "import pandas as pd\n",
    "with open(\"lastfm_id_to_emotion_tags.pickle\", \"rb\") as f:\n",
    "    emotion_tags = pkl.load(f)\n",
    "with open(\"lastfm_id_to_social_tags.pickle\", \"rb\") as f:\n",
    "    social_tags = pkl.load(f)\n"
   ]
  },
  {
   "cell_type": "code",
   "execution_count": 2,
   "metadata": {},
   "outputs": [],
   "source": [
    "with open(\"unique_tracks.txt\") as f:\n",
    "    lines = f.readlines()"
   ]
  },
  {
   "cell_type": "code",
   "execution_count": 3,
   "metadata": {},
   "outputs": [],
   "source": [
    "df = {'song_id':[],'title':[], 'artist':[], 'emotions':[], 'social_tags':[]}\n",
    "for i, l in enumerate(lines):\n",
    "    track = l[:l.find('<')]\n",
    "    if track in social_tags:\n",
    "        df['song_id'].append(track)\n",
    "        s1 = l.rfind('>') + 1\n",
    "        df['title'].append(l[s1:-1])\n",
    "        s2 = l[:s1-5].rfind('>')\n",
    "        df['artist'].append(l[s2+1:s1-5])\n",
    "        df['social_tags'].append(social_tags[track])\n",
    "        if track in emotion_tags:\n",
    "            df['emotions'].append(emotion_tags[track])\n",
    "        else:\n",
    "            df['emotions'].append([])"
   ]
  },
  {
   "cell_type": "code",
   "execution_count": 4,
   "metadata": {},
   "outputs": [],
   "source": [
    "df = pd.DataFrame(df)"
   ]
  },
  {
   "cell_type": "code",
   "execution_count": 5,
   "metadata": {},
   "outputs": [
    {
     "data": {
      "text/html": [
       "<div>\n",
       "<style scoped>\n",
       "    .dataframe tbody tr th:only-of-type {\n",
       "        vertical-align: middle;\n",
       "    }\n",
       "\n",
       "    .dataframe tbody tr th {\n",
       "        vertical-align: top;\n",
       "    }\n",
       "\n",
       "    .dataframe thead th {\n",
       "        text-align: right;\n",
       "    }\n",
       "</style>\n",
       "<table border=\"1\" class=\"dataframe\">\n",
       "  <thead>\n",
       "    <tr style=\"text-align: right;\">\n",
       "      <th></th>\n",
       "      <th>song_id</th>\n",
       "      <th>title</th>\n",
       "      <th>artist</th>\n",
       "      <th>emotions</th>\n",
       "      <th>social_tags</th>\n",
       "    </tr>\n",
       "  </thead>\n",
       "  <tbody>\n",
       "    <tr>\n",
       "      <th>0</th>\n",
       "      <td>TRMMMYQ128F932D901</td>\n",
       "      <td>Silent Night</td>\n",
       "      <td>Faster Pussy cat</td>\n",
       "      <td>[]</td>\n",
       "      <td>[(christmas, 100), (psychedelic, 66), (weird, ...</td>\n",
       "    </tr>\n",
       "    <tr>\n",
       "      <th>1</th>\n",
       "      <td>TRMMMRX128F93187D9</td>\n",
       "      <td>No One Could Ever</td>\n",
       "      <td>Hudson Mohawke</td>\n",
       "      <td>[]</td>\n",
       "      <td>[(chipmunks on synths, 100), (instrumental hip...</td>\n",
       "    </tr>\n",
       "    <tr>\n",
       "      <th>2</th>\n",
       "      <td>TRMMMXJ12903CBF111</td>\n",
       "      <td>El hijo del pueblo</td>\n",
       "      <td>Jorge Negrete</td>\n",
       "      <td>[]</td>\n",
       "      <td>[(ranchera, 100), (el hijo del pueblo, 100), (...</td>\n",
       "    </tr>\n",
       "    <tr>\n",
       "      <th>3</th>\n",
       "      <td>TRMMMBW128F4260CAE</td>\n",
       "      <td>Pilots</td>\n",
       "      <td>Tiger Lou</td>\n",
       "      <td>[]</td>\n",
       "      <td>[(getragen, 100)]</td>\n",
       "    </tr>\n",
       "    <tr>\n",
       "      <th>4</th>\n",
       "      <td>TRMMMXI128F4285A3F</td>\n",
       "      <td>N Gana</td>\n",
       "      <td>Waldemar Bastos</td>\n",
       "      <td>[]</td>\n",
       "      <td>[(africa, 100), (chillout, 50), (favorit, 50),...</td>\n",
       "    </tr>\n",
       "    <tr>\n",
       "      <th>...</th>\n",
       "      <td>...</td>\n",
       "      <td>...</td>\n",
       "      <td>...</td>\n",
       "      <td>...</td>\n",
       "      <td>...</td>\n",
       "    </tr>\n",
       "    <tr>\n",
       "      <th>444178</th>\n",
       "      <td>TRYYYVJ128F4258203</td>\n",
       "      <td>Ether</td>\n",
       "      <td>Transmission0</td>\n",
       "      <td>[]</td>\n",
       "      <td>[(instrumental, 100), (atmospheric, 100), (exp...</td>\n",
       "    </tr>\n",
       "    <tr>\n",
       "      <th>444179</th>\n",
       "      <td>TRYYYHG128F9343EFB</td>\n",
       "      <td>Chill</td>\n",
       "      <td>Jazz Addixx</td>\n",
       "      <td>[]</td>\n",
       "      <td>[(hip hop, 100), (jazzy hip hop, 100), (trip-h...</td>\n",
       "    </tr>\n",
       "    <tr>\n",
       "      <th>444180</th>\n",
       "      <td>TRYYYYS12903D0605A</td>\n",
       "      <td>Way Down</td>\n",
       "      <td>Taylor Hawkins &amp; The Coattail Riders</td>\n",
       "      <td>[]</td>\n",
       "      <td>[(garage rock, 100), (010s, 100), (hard rock, ...</td>\n",
       "    </tr>\n",
       "    <tr>\n",
       "      <th>444181</th>\n",
       "      <td>TRYYYZM128F428E804</td>\n",
       "      <td>Inequality Street</td>\n",
       "      <td>SKYCLAD</td>\n",
       "      <td>[]</td>\n",
       "      <td>[(folk metal, 100), (metal, 33), (englisch, 25...</td>\n",
       "    </tr>\n",
       "    <tr>\n",
       "      <th>444182</th>\n",
       "      <td>TRYYYON128F932585A</td>\n",
       "      <td>Taurus (Keenhouse Remix)</td>\n",
       "      <td>Loose Shus</td>\n",
       "      <td>[]</td>\n",
       "      <td>[(house, 100), (electronic, 33), (robo-disco, ...</td>\n",
       "    </tr>\n",
       "  </tbody>\n",
       "</table>\n",
       "<p>444183 rows × 5 columns</p>\n",
       "</div>"
      ],
      "text/plain": [
       "                   song_id                     title  \\\n",
       "0       TRMMMYQ128F932D901              Silent Night   \n",
       "1       TRMMMRX128F93187D9         No One Could Ever   \n",
       "2       TRMMMXJ12903CBF111        El hijo del pueblo   \n",
       "3       TRMMMBW128F4260CAE                    Pilots   \n",
       "4       TRMMMXI128F4285A3F                    N Gana   \n",
       "...                    ...                       ...   \n",
       "444178  TRYYYVJ128F4258203                     Ether   \n",
       "444179  TRYYYHG128F9343EFB                     Chill   \n",
       "444180  TRYYYYS12903D0605A                  Way Down   \n",
       "444181  TRYYYZM128F428E804         Inequality Street   \n",
       "444182  TRYYYON128F932585A  Taurus (Keenhouse Remix)   \n",
       "\n",
       "                                      artist emotions  \\\n",
       "0                           Faster Pussy cat       []   \n",
       "1                             Hudson Mohawke       []   \n",
       "2                              Jorge Negrete       []   \n",
       "3                                  Tiger Lou       []   \n",
       "4                            Waldemar Bastos       []   \n",
       "...                                      ...      ...   \n",
       "444178                         Transmission0       []   \n",
       "444179                           Jazz Addixx       []   \n",
       "444180  Taylor Hawkins & The Coattail Riders       []   \n",
       "444181                               SKYCLAD       []   \n",
       "444182                            Loose Shus       []   \n",
       "\n",
       "                                              social_tags  \n",
       "0       [(christmas, 100), (psychedelic, 66), (weird, ...  \n",
       "1       [(chipmunks on synths, 100), (instrumental hip...  \n",
       "2       [(ranchera, 100), (el hijo del pueblo, 100), (...  \n",
       "3                                       [(getragen, 100)]  \n",
       "4       [(africa, 100), (chillout, 50), (favorit, 50),...  \n",
       "...                                                   ...  \n",
       "444178  [(instrumental, 100), (atmospheric, 100), (exp...  \n",
       "444179  [(hip hop, 100), (jazzy hip hop, 100), (trip-h...  \n",
       "444180  [(garage rock, 100), (010s, 100), (hard rock, ...  \n",
       "444181  [(folk metal, 100), (metal, 33), (englisch, 25...  \n",
       "444182  [(house, 100), (electronic, 33), (robo-disco, ...  \n",
       "\n",
       "[444183 rows x 5 columns]"
      ]
     },
     "execution_count": 5,
     "metadata": {},
     "output_type": "execute_result"
    }
   ],
   "source": [
    "df"
   ]
  },
  {
   "cell_type": "code",
   "execution_count": 6,
   "metadata": {},
   "outputs": [],
   "source": [
    "emotions_dict = {}\n",
    "for ls in df['emotions']:\n",
    "    for tup in ls:\n",
    "        if tup[0] in emotions_dict:\n",
    "            emotions_dict[tup[0]] += 1\n",
    "        else:\n",
    "            emotions_dict[tup[0]] = 1"
   ]
  },
  {
   "cell_type": "code",
   "execution_count": 7,
   "metadata": {},
   "outputs": [],
   "source": [
    "social_tags_dict = {}\n",
    "for ls in df['social_tags']:\n",
    "    for tup in ls:\n",
    "        if tup[0] in social_tags_dict:\n",
    "            social_tags_dict[tup[0]] += 1\n",
    "        else:\n",
    "            social_tags_dict[tup[0]] = 1"
   ]
  },
  {
   "cell_type": "code",
   "execution_count": 8,
   "metadata": {},
   "outputs": [
    {
     "data": {
      "text/plain": [
       "521761"
      ]
     },
     "execution_count": 8,
     "metadata": {},
     "output_type": "execute_result"
    }
   ],
   "source": [
    "len(social_tags_dict)"
   ]
  },
  {
   "cell_type": "code",
   "execution_count": 12,
   "metadata": {},
   "outputs": [],
   "source": [
    "df.to_csv('social_tags_df.csv')"
   ]
  },
  {
   "cell_type": "code",
   "execution_count": 9,
   "metadata": {},
   "outputs": [],
   "source": [
    "#sorted(social_tags_dict.items(), key = lambda x:x[1], reverse=True)"
   ]
  },
  {
   "cell_type": "code",
   "execution_count": 10,
   "metadata": {},
   "outputs": [],
   "source": [
    "# lyrics_df = pd.read_csv('lyrics_tokenizer/shortened_tokenized_lyrics.csv')\n",
    "# lyrics_df.drop(columns=['Unnamed: 0'],inplace=True)"
   ]
  },
  {
   "cell_type": "code",
   "execution_count": 14,
   "metadata": {},
   "outputs": [],
   "source": [
    "# IF WE WANT TO GET MORE MATCHES:\n",
    "\n",
    "# lyrics_df['title_clean'] = lyrics_df['title'].str.lower().str.replace(' ', '')\n",
    "# lyrics_df['artist_clean'] = lyrics_df['artist'].str.lower().str.replace(' ', '')\n",
    "# df['title_clean'] = df['title'].str.lower().str.replace(' ', '')\n",
    "# df['artist_clean'] = df['artist'].str.lower().str.replace(' ', '')\n"
   ]
  },
  {
   "cell_type": "code",
   "execution_count": 13,
   "metadata": {},
   "outputs": [],
   "source": [
    "# lyrics_df.merge(df, on=['title_clean', 'artist_clean'], how='inner')"
   ]
  },
  {
   "cell_type": "code",
   "execution_count": null,
   "metadata": {},
   "outputs": [],
   "source": []
  }
 ],
 "metadata": {
  "kernelspec": {
   "display_name": "Python 3 (ipykernel)",
   "language": "python",
   "name": "python3"
  },
  "language_info": {
   "codemirror_mode": {
    "name": "ipython",
    "version": 3
   },
   "file_extension": ".py",
   "mimetype": "text/x-python",
   "name": "python",
   "nbconvert_exporter": "python",
   "pygments_lexer": "ipython3",
   "version": "3.9.12"
  }
 },
 "nbformat": 4,
 "nbformat_minor": 4
}
