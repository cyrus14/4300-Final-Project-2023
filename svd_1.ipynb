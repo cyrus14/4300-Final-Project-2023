{
 "cells": [
  {
   "cell_type": "code",
   "execution_count": 103,
   "metadata": {},
   "outputs": [],
   "source": [
    "import pickle\n",
    "import numpy as np\n",
    "import matplotlib.pyplot as plt\n",
    "import pandas as pd\n",
    "import json\n",
    "%matplotlib inline"
   ]
  },
  {
   "cell_type": "code",
   "execution_count": 15,
   "metadata": {},
   "outputs": [],
   "source": [
    "file = open(\"song_tf_idf.pickle\",'rb')\n",
    "song_tf_idf = pickle.load(file)\n",
    "\n",
    "file = open(\"wiki_tf_idf.pkl\",'rb')\n",
    "wiki_tf_idf = pickle.load(file)"
   ]
  },
  {
   "cell_type": "code",
   "execution_count": 135,
   "metadata": {},
   "outputs": [],
   "source": [
    "svd_tf_idf = np.append(song_tf_idf.toarray(), wiki_tf_idf, axis=0)"
   ]
  },
  {
   "cell_type": "code",
   "execution_count": 136,
   "metadata": {},
   "outputs": [],
   "source": [
    "from scipy.sparse.linalg import svds\n",
    "# do SVD with a very large k (we usually use 100), just for the sake of getting many sorted singular values (aka importances)\n",
    "u,s,v_trans = svds(svd_tf_idf, k=100)"
   ]
  },
  {
   "cell_type": "code",
   "execution_count": 137,
   "metadata": {},
   "outputs": [
    {
     "name": "stdout",
     "output_type": "stream",
     "text": [
      "(34560, 100)\n",
      "(100,)\n",
      "(100, 13784)\n"
     ]
    }
   ],
   "source": [
    "print(u.shape)\n",
    "print(s.shape)\n",
    "print(v_trans.shape)"
   ]
  },
  {
   "cell_type": "code",
   "execution_count": 138,
   "metadata": {},
   "outputs": [
    {
     "data": {
      "image/png": "[encoded data removed]",
      "text/plain": [
       "<Figure size 432x288 with 1 Axes>"
      ]
     },
     "metadata": {
      "needs_background": "light"
     },
     "output_type": "display_data"
    }
   ],
   "source": [
    "plt.plot(s[::-1])\n",
    "plt.xlabel(\"Singular value number\")\n",
    "plt.ylabel(\"Singular value\")\n",
    "plt.show()"
   ]
  },
  {
   "cell_type": "code",
   "execution_count": 141,
   "metadata": {},
   "outputs": [],
   "source": [
    "docs_compressed, s, words_compressed = svds(svd_tf_idf, k=40)\n",
    "words_compressed = words_compressed.transpose()"
   ]
  },
  {
   "cell_type": "code",
   "execution_count": 142,
   "metadata": {},
   "outputs": [
    {
     "name": "stdout",
     "output_type": "stream",
     "text": [
      "(13784, 40)\n",
      "(34560, 40)\n"
     ]
    }
   ],
   "source": [
    "print(words_compressed.shape)\n",
    "print(docs_compressed.shape)"
   ]
  },
  {
   "cell_type": "code",
   "execution_count": 82,
   "metadata": {},
   "outputs": [],
   "source": [
    "file = open(\"word_to_index.pkl\",'rb')\n",
    "word_to_index = pickle.load(file)\n",
    "\n",
    "file = open(\"index_to_word.pkl\",'rb')\n",
    "index_to_word = pickle.load(file)"
   ]
  },
  {
   "cell_type": "code",
   "execution_count": 143,
   "metadata": {},
   "outputs": [],
   "source": [
    "from sklearn.preprocessing import normalize\n",
    "words_compressed_normed = normalize(words_compressed, axis = 1)"
   ]
  },
  {
   "cell_type": "code",
   "execution_count": 144,
   "metadata": {},
   "outputs": [],
   "source": [
    "# cosine similarity\n",
    "def closest_words(word_in, words_representation_in, k = 10):\n",
    "    if word_in not in word_to_index: return \"Not in vocab.\"\n",
    "    sims = words_representation_in.dot(words_representation_in[word_to_index[word_in],:])\n",
    "    asort = np.argsort(-sims)[:k+1]\n",
    "    return [(index_to_word[i],sims[i]) for i in asort[1:]]"
   ]
  },
  {
   "cell_type": "code",
   "execution_count": 146,
   "metadata": {},
   "outputs": [],
   "source": [
    "td_matrix_np = svd_tf_idf.transpose()\n",
    "td_matrix_np = normalize(td_matrix_np)"
   ]
  },
  {
   "cell_type": "code",
   "execution_count": 153,
   "metadata": {},
   "outputs": [
    {
     "name": "stdout",
     "output_type": "stream",
     "text": [
      "Using SVD:\n",
      "chicken, 0.856\n",
      "slamming, 0.845\n",
      "nut, 0.838\n",
      "slugs, 0.835\n",
      "bust, 0.834\n",
      "hints, 0.829\n",
      "joining, 0.820\n",
      "mc, 0.816\n",
      "shite, 0.812\n",
      "coppers, 0.810\n",
      "\n"
     ]
    }
   ],
   "source": [
    "word = 'barbecue'\n",
    "print(\"Using SVD:\")\n",
    "for w, sim in closest_words(word, words_compressed_normed):\n",
    "    try:\n",
    "        print(\"{}, {:.3f}\".format(w, sim))\n",
    "    except:\n",
    "        print(\"word not found\")\n",
    "print()"
   ]
  },
  {
   "cell_type": "code",
   "execution_count": 56,
   "metadata": {},
   "outputs": [],
   "source": [
    "big_df = pd.read_csv('big_df.csv')"
   ]
  },
  {
   "cell_type": "code",
   "execution_count": 87,
   "metadata": {},
   "outputs": [],
   "source": [
    "docs_compressed_normed = normalize(docs_compressed)\n",
    "\n",
    "# this is basically the same cosine similarity code that we used before, just with some changes to\n",
    "# the returned output format to let us print out the documents in a sensible way\n",
    "def closest_projects(project_index_in, project_repr_in, k = 5):\n",
    "    sims = project_repr_in.dot(project_repr_in[project_index_in,:])\n",
    "    asort = np.argsort(-sims)[:k+1]\n",
    "    return [(big_df['title'].iloc[i],sims[i]) for i in asort[1:]]"
   ]
  },
  {
   "cell_type": "code",
   "execution_count": 155,
   "metadata": {},
   "outputs": [],
   "source": [
    "td_matrix_np = svd_tf_idf\n",
    "td_matrix_np = normalize(td_matrix_np)"
   ]
  },
  {
   "cell_type": "code",
   "execution_count": 156,
   "metadata": {},
   "outputs": [
    {
     "name": "stdout",
     "output_type": "stream",
     "text": [
      "INPUT SONG: Fly In\n",
      "CLOSEST SONGS w SVD:\n",
      "\n",
      "Glen Close:0.870\n",
      "Houstatlantavegas:0.865\n",
      "Set It Off:0.862\n",
      "Jimmy James:0.857\n",
      "Thisisme:0.845\n",
      "\n",
      "Using term-document matrix:\n",
      "Everything Is Borrowed:0.490\n",
      "Never Believe You Now:0.460\n",
      "Crashing Down:0.386\n",
      "One Mic:0.365\n",
      "Buffalo Bill:0.348\n",
      "\n",
      "--------------------------------------------------------\n",
      "\n",
      "INPUT SONG: Money On My Mind\n",
      "CLOSEST SONGS w SVD:\n",
      "\n",
      "Dust Devil:0.846\n",
      "Sanon Sinulle:0.835\n",
      "Keely Aimee:0.832\n",
      "Visionz:0.825\n",
      "Rugged Ruff:0.821\n",
      "\n",
      "Using term-document matrix:\n",
      "Houstatlantavegas:0.294\n",
      "Nuff Fire:0.273\n",
      "Dust Devil:0.247\n",
      "Role Model:0.242\n",
      "Still Countin My Cash:0.240\n",
      "\n",
      "--------------------------------------------------------\n",
      "\n"
     ]
    }
   ],
   "source": [
    "for i in range(2):\n",
    "    print(\"INPUT SONG: \"+big_df['title'].iloc[i])\n",
    "    print(\"CLOSEST SONGS w SVD:\\n\")\n",
    "    for title, score in closest_projects(i, docs_compressed_normed):\n",
    "        print(\"{}:{:.3f}\".format(title, score))\n",
    "    print()\n",
    "    print(\"Using term-document matrix:\")\n",
    "    for title, score in closest_projects(i, td_matrix_np):\n",
    "        print(\"{}:{:.3f}\".format(title, score))\n",
    "    print()\n",
    "    print(\"--------------------------------------------------------\\n\")"
   ]
  },
  {
   "cell_type": "code",
   "execution_count": 104,
   "metadata": {},
   "outputs": [],
   "source": [
    "from dataset import wiki_scraping\n",
    "f = open('dataset/wiki_scraping/wiki_texts.json')\n",
    "wiki_texts = json.load(f)\n",
    "loc_to_index = {cty:i for i, cty in enumerate(wiki_texts.keys())}"
   ]
  },
  {
   "cell_type": "code",
   "execution_count": 162,
   "metadata": {},
   "outputs": [
    {
     "name": "stdout",
     "output_type": "stream",
     "text": [
      "INPUT WIKI: New York City\n",
      "CLOSEST SONGS w SVD:\n",
      "\n",
      "Ne Te Tue Pas:0.710\n",
      "Bad Obsession:0.703\n",
      "Liar:0.699\n",
      "Hangover Song:0.697\n",
      "Anders als gedacht:0.689\n",
      "\n",
      "Using term-document matrix:\n",
      "Houstatlantavegas:0.294\n",
      "Nuff Fire:0.273\n",
      "Dust Devil:0.247\n",
      "Role Model:0.242\n",
      "Still Countin My Cash:0.240\n",
      "\n",
      "--------------------------------------------------------\n",
      "\n",
      "INPUT WIKI: Budapest\n",
      "CLOSEST SONGS w SVD:\n",
      "\n",
      "Bleed Forever:0.810\n",
      "Wormholes:0.790\n",
      "The World Is Mine:0.789\n",
      "Pledging My Time:0.788\n",
      "Space Olympics:0.768\n",
      "\n",
      "Using term-document matrix:\n",
      "Houstatlantavegas:0.294\n",
      "Nuff Fire:0.273\n",
      "Dust Devil:0.247\n",
      "Role Model:0.242\n",
      "Still Countin My Cash:0.240\n",
      "\n",
      "--------------------------------------------------------\n",
      "\n",
      "INPUT WIKI: Tokyo\n",
      "CLOSEST SONGS w SVD:\n",
      "\n",
      "Letters Never Sent:0.920\n",
      "Heart of Chambers:0.905\n",
      "América 21:0.899\n",
      "Rainbows End:0.877\n",
      "The Elements:0.856\n",
      "\n",
      "Using term-document matrix:\n",
      "Houstatlantavegas:0.294\n",
      "Nuff Fire:0.273\n",
      "Dust Devil:0.247\n",
      "Role Model:0.242\n",
      "Still Countin My Cash:0.240\n",
      "\n",
      "--------------------------------------------------------\n",
      "\n",
      "INPUT WIKI: Mumbai\n",
      "CLOSEST SONGS w SVD:\n",
      "\n",
      "Interstate 8:0.726\n",
      "Little Black Cloud:0.717\n",
      "Better Than This:0.709\n",
      "Por Eso Si Te Vas:0.707\n",
      "Two Feet Of Topsoil:0.690\n",
      "\n",
      "Using term-document matrix:\n",
      "Houstatlantavegas:0.294\n",
      "Nuff Fire:0.273\n",
      "Dust Devil:0.247\n",
      "Role Model:0.242\n",
      "Still Countin My Cash:0.240\n",
      "\n",
      "--------------------------------------------------------\n",
      "\n",
      "INPUT WIKI: London\n",
      "CLOSEST SONGS w SVD:\n",
      "\n",
      "Jenny:0.916\n",
      "Heroine:0.883\n",
      "School Spirit Skit 1:0.860\n",
      "Pretty Girl:0.847\n",
      "Country Boy:0.842\n",
      "\n",
      "Using term-document matrix:\n",
      "Houstatlantavegas:0.294\n",
      "Nuff Fire:0.273\n",
      "Dust Devil:0.247\n",
      "Role Model:0.242\n",
      "Still Countin My Cash:0.240\n",
      "\n",
      "--------------------------------------------------------\n",
      "\n",
      "INPUT WIKI: Toronto\n",
      "CLOSEST SONGS w SVD:\n",
      "\n",
      "Every Part Of Me:0.843\n",
      "Don Knotts:0.775\n",
      "Holiday:0.709\n",
      "Island:0.702\n",
      "Bounce:0.698\n",
      "\n",
      "Using term-document matrix:\n",
      "Houstatlantavegas:0.294\n",
      "Nuff Fire:0.273\n",
      "Dust Devil:0.247\n",
      "Role Model:0.242\n",
      "Still Countin My Cash:0.240\n",
      "\n",
      "--------------------------------------------------------\n",
      "\n"
     ]
    }
   ],
   "source": [
    "def closest_songs_to_wiki(loc, k = 5):\n",
    "    sims = docs_compressed_normed.dot(docs_compressed_normed[-(loc_to_index[loc] + 1), :])\n",
    "    asort = np.argsort(-sims)[:k+1]\n",
    "    return [(big_df['title'].iloc[i],sims[i]) for i in asort[1:]]\n",
    "\n",
    "for k in wiki_texts.keys():\n",
    "    print(\"INPUT WIKI: \"+k)\n",
    "    print(\"CLOSEST SONGS w SVD:\\n\")\n",
    "    for title, score in closest_songs_to_wiki(k, k=5):\n",
    "        print(\"{}:{:.3f}\".format(title, score))\n",
    "    print()\n",
    "    print(\"Using term-document matrix:\")\n",
    "    for title, score in closest_projects(i, td_matrix_np):\n",
    "        print(\"{}:{:.3f}\".format(title, score))\n",
    "    print()\n",
    "    print(\"--------------------------------------------------------\\n\")"
   ]
  },
  {
   "cell_type": "code",
   "execution_count": 163,
   "metadata": {},
   "outputs": [
    {
     "data": {
      "text/html": [
       "<div>\n",
       "<style scoped>\n",
       "    .dataframe tbody tr th:only-of-type {\n",
       "        vertical-align: middle;\n",
       "    }\n",
       "\n",
       "    .dataframe tbody tr th {\n",
       "        vertical-align: top;\n",
       "    }\n",
       "\n",
       "    .dataframe thead th {\n",
       "        text-align: right;\n",
       "    }\n",
       "</style>\n",
       "<table border=\"1\" class=\"dataframe\">\n",
       "  <thead>\n",
       "    <tr style=\"text-align: right;\">\n",
       "      <th></th>\n",
       "      <th>Unnamed: 0</th>\n",
       "      <th>title</th>\n",
       "      <th>tag</th>\n",
       "      <th>artist</th>\n",
       "      <th>year</th>\n",
       "      <th>views</th>\n",
       "      <th>features</th>\n",
       "      <th>lyrics</th>\n",
       "      <th>id</th>\n",
       "      <th>song_id</th>\n",
       "      <th>emotions</th>\n",
       "      <th>social_tags</th>\n",
       "      <th>tknzd_lyrics</th>\n",
       "    </tr>\n",
       "  </thead>\n",
       "  <tbody>\n",
       "    <tr>\n",
       "      <th>11216</th>\n",
       "      <td>11216</td>\n",
       "      <td>Ne Te Tue Pas</td>\n",
       "      <td>rap</td>\n",
       "      <td>Don Choa</td>\n",
       "      <td>2007</td>\n",
       "      <td>2852</td>\n",
       "      <td>{}</td>\n",
       "      <td>[Couplet 1]\\nLe passé est mort mais c'est son ...</td>\n",
       "      <td>354998</td>\n",
       "      <td>TRMWJVZ128F92F286D</td>\n",
       "      <td>[]</td>\n",
       "      <td>[('rap francais', 100), ('conscious hip-hop', ...</td>\n",
       "      <td>['le', 'pass', 'est', 'mort', 'mais', 'cest', ...</td>\n",
       "    </tr>\n",
       "  </tbody>\n",
       "</table>\n",
       "</div>"
      ],
      "text/plain": [
       "       Unnamed: 0          title  tag    artist  year  views features  \\\n",
       "11216       11216  Ne Te Tue Pas  rap  Don Choa  2007   2852       {}   \n",
       "\n",
       "                                                  lyrics      id  \\\n",
       "11216  [Couplet 1]\\nLe passé est mort mais c'est son ...  354998   \n",
       "\n",
       "                  song_id emotions  \\\n",
       "11216  TRMWJVZ128F92F286D       []   \n",
       "\n",
       "                                             social_tags  \\\n",
       "11216  [('rap francais', 100), ('conscious hip-hop', ...   \n",
       "\n",
       "                                            tknzd_lyrics  \n",
       "11216  ['le', 'pass', 'est', 'mort', 'mais', 'cest', ...  "
      ]
     },
     "execution_count": 163,
     "metadata": {},
     "output_type": "execute_result"
    }
   ],
   "source": [
    "big_df.loc[big_df['title']==\"Ne Te Tue Pas\"]"
   ]
  },
  {
   "cell_type": "code",
   "execution_count": 164,
   "metadata": {},
   "outputs": [],
   "source": [
    "# Once again, basically the same cosine similarity code, but mixing two different matrices\n",
    "def closest_songs_to_word(word_in, k = 5):\n",
    "    if word_in not in word_to_index: return \"Not in vocab.\"\n",
    "    sims = docs_compressed_normed.dot(words_compressed_normed[word_to_index[word_in],:])\n",
    "    asort = np.argsort(-sims)[:k+1]\n",
    "    return [(big_df['title'].iloc[i], big_df['artist'].iloc[i],sims[i]) for i in asort[1:]]"
   ]
  },
  {
   "cell_type": "code",
   "execution_count": 166,
   "metadata": {},
   "outputs": [
    {
     "name": "stdout",
     "output_type": "stream",
     "text": [
      "Top Matches\n",
      "\n",
      "I Need This, Chris Brown, 0.2131\n",
      "Breathe Into Me, Red, 0.2117\n",
      "Before and After, Lyrics Born, 0.2098\n",
      "I Gots Ta Get Over, Compton's Most Wanted, 0.2092\n",
      "I Want You, Kiss, 0.2074\n"
     ]
    }
   ],
   "source": [
    "print(\"Top Matches\\n\")\n",
    "for title, artist, sim in closest_songs_to_word(\"georgia\"):\n",
    "    print(\"{}, {}, {:.4f}\".format(title, artist, sim))"
   ]
  },
  {
   "cell_type": "code",
   "execution_count": 167,
   "metadata": {},
   "outputs": [
    {
     "name": "stdout",
     "output_type": "stream",
     "text": [
      "Top words in dimension 0\n",
      "['works', 'majority', 'hombres', 'televisions', 'lonesome', 'therere', 'wondrous', 'saxophone', 'nigh', 'waitin']\n",
      "\n",
      "Top words in dimension 1\n",
      "['lies', 'hombres', 'feeds', 'tonic', 'televisions', 'gosto', 'works', 'il', 'jusquau', 'sheriff']\n",
      "\n",
      "Top words in dimension 2\n",
      "['televisions', 'dawns', 'liian', 'wax', 'nigh', 'combing', 'iv', 'gira', 'tonic', 'lies']\n",
      "\n",
      "Top words in dimension 3\n",
      "['lies', 'iv', 'tonic', 'gira', 'works', 'liian', 'oo', 'believe', 'lonesome', 'hombres']\n",
      "\n",
      "Top words in dimension 4\n",
      "['gone', 'iv', 'jusquau', 'hearse', 'gira', 'dawns', 'feeds', 'sheriff', 'saxophone', 'lonesome']\n",
      "\n",
      "Top words in dimension 5\n",
      "['wax', 'gosto', 'oo', 'jusquau', 'eyelids', 'works', 'donner', 'hearse', 'tonic', 'dawns']\n",
      "\n",
      "Top words in dimension 6\n",
      "['oo', 'jusquau', 'televisions', 'gone', 'hearse', 'iv', 'hombres', 'lonesome', 'dictionary', 'wondrous']\n",
      "\n",
      "Top words in dimension 7\n",
      "['dawns', 'nigh', 'oo', 'che', 'gonna', 'nome', 'czas', 'dey', 'ikke', 'feeds']\n",
      "\n",
      "Top words in dimension 8\n",
      "['che', 'nome', 'dey', 'ikke', 'czas', 'lazy', 'wax', 'lyrics', 'tonic', 'physique']\n",
      "\n",
      "Top words in dimension 9\n",
      "['jusquau', 'majority', 'tonic', 'feeds', 'iv', 'hex', 'hombres', 'baby', 'litter', 'gonna']\n",
      "\n",
      "Top words in dimension 10\n",
      "['gira', 'sheriff', 'feeds', 'tonic', 'oo', 'nigh', 'away', 'timber', 'donner', 'hombres']\n",
      "\n",
      "Top words in dimension 11\n",
      "['gira', 'works', 'majority', 'televisions', 'lies', 'feeds', 'sheriff', 'believe', 'gonna', 'mammy']\n",
      "\n",
      "Top words in dimension 12\n",
      "['saxophone', 'tonic', 'good', 'televisions', 'gosto', 'hearse', 'rig', 'feeds', 'eyelids', 'heap']\n",
      "\n",
      "Top words in dimension 13\n",
      "['jusquau', 'nee', 'gira', 'sheriff', 'litter', 'dawns', 'combing', 'majority', 'tonic', 'works']\n",
      "\n",
      "Top words in dimension 14\n",
      "['myth', 'czas', 'nee', 'dawns', 'works', 'lies', 'che', 'mammy', 'dey', 'gira']\n",
      "\n",
      "Top words in dimension 15\n",
      "['away', 'il', 'timber', 'liian', 'gosto', 'knots', 'rump', 'hex', 'nee', 'fantasy']\n",
      "\n",
      "Top words in dimension 16\n",
      "['iv', 'wann', 'hex', 'nee', 'feeds', 'gosto', 'il', 'tonic', 'nigh', 'eyelids']\n",
      "\n",
      "Top words in dimension 17\n",
      "['gone', 'donner', 'feeds', 'il', 'majority', 'tonic', 'nigh', 'gonna', 'nee', 'rig']\n",
      "\n",
      "Top words in dimension 18\n",
      "['il', 'saxophone', 'donner', 'youngest', 'feeds', 'nee', 'wax', 'gosto', 'jusquau', 'iv']\n",
      "\n",
      "Top words in dimension 19\n",
      "['feeds', 'away', 'gosto', 'wax', 'iv', 'nee', 'majority', 'gone', 'youths', 'fantasy']\n",
      "\n"
     ]
    }
   ],
   "source": [
    "for i in range(20):\n",
    "    print(\"Top words in dimension\", i)\n",
    "    dimension_col = words_compressed[:,i].squeeze()\n",
    "    asort = np.argsort(-dimension_col)\n",
    "    print([index_to_word[i] for i in asort[:10]])\n",
    "    print()"
   ]
  },
  {
   "cell_type": "code",
   "execution_count": null,
   "metadata": {},
   "outputs": [],
   "source": []
  }
 ],
 "metadata": {
  "kernelspec": {
   "display_name": "Python 3",
   "language": "python",
   "name": "python3"
  },
  "language_info": {
   "codemirror_mode": {
    "name": "ipython",
    "version": 3
   },
   "file_extension": ".py",
   "mimetype": "text/x-python",
   "name": "python",
   "nbconvert_exporter": "python",
   "pygments_lexer": "ipython3",
   "version": "3.8.5"
  }
 },
 "nbformat": 4,
 "nbformat_minor": 4
}
