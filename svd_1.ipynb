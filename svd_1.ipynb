{
 "cells": [
  {
   "cell_type": "code",
   "execution_count": 103,
   "metadata": {},
   "outputs": [],
   "source": [
    "import pickle\n",
    "import numpy as np\n",
    "import matplotlib.pyplot as plt\n",
    "import pandas as pd\n",
    "import json\n",
    "%matplotlib inline"
   ]
  },
  {
   "cell_type": "code",
   "execution_count": 15,
   "metadata": {},
   "outputs": [],
   "source": [
    "file = open(\"song_tf_idf.pickle\",'rb')\n",
    "song_tf_idf = pickle.load(file)\n",
    "\n",
    "file = open(\"wiki_tf_idf.pkl\",'rb')\n",
    "wiki_tf_idf = pickle.load(file)"
   ]
  },
  {
   "cell_type": "code",
   "execution_count": 16,
   "metadata": {},
   "outputs": [],
   "source": [
    "from scipy.sparse.linalg import svds\n",
    "# do SVD with a very large k (we usually use 100), just for the sake of getting many sorted singular values (aka importances)\n",
    "u,s,v_trans = svds(song_tf_idf, k=100)"
   ]
  },
  {
   "cell_type": "code",
   "execution_count": 17,
   "metadata": {},
   "outputs": [
    {
     "name": "stdout",
     "output_type": "stream",
     "text": [
      "(34554, 100)\n",
      "(100,)\n",
      "(100, 13784)\n"
     ]
    }
   ],
   "source": [
    "print(u.shape)\n",
    "print(s.shape)\n",
    "print(v_trans.shape)"
   ]
  },
  {
   "cell_type": "code",
   "execution_count": 18,
   "metadata": {},
   "outputs": [
    {
     "data": {
      "image/png": "[encoded data removed]",
      "text/plain": [
       "<Figure size 432x288 with 1 Axes>"
      ]
     },
     "metadata": {
      "needs_background": "light"
     },
     "output_type": "display_data"
    }
   ],
   "source": [
    "plt.plot(s[::-1])\n",
    "plt.xlabel(\"Singular value number\")\n",
    "plt.ylabel(\"Singular value\")\n",
    "plt.show()"
   ]
  },
  {
   "cell_type": "code",
   "execution_count": 80,
   "metadata": {},
   "outputs": [],
   "source": [
    "docs_compressed, s, words_compressed = svds(song_tf_idf, k=40)\n",
    "words_compressed = words_compressed.transpose()"
   ]
  },
  {
   "cell_type": "code",
   "execution_count": 81,
   "metadata": {},
   "outputs": [
    {
     "name": "stdout",
     "output_type": "stream",
     "text": [
      "(13784, 40)\n",
      "(34554, 40)\n"
     ]
    }
   ],
   "source": [
    "print(words_compressed.shape)\n",
    "print(docs_compressed.shape)"
   ]
  },
  {
   "cell_type": "code",
   "execution_count": 82,
   "metadata": {},
   "outputs": [],
   "source": [
    "file = open(\"word_to_index.pkl\",'rb')\n",
    "word_to_index = pickle.load(file)\n",
    "\n",
    "file = open(\"index_to_word.pkl\",'rb')\n",
    "index_to_word = pickle.load(file)"
   ]
  },
  {
   "cell_type": "code",
   "execution_count": 83,
   "metadata": {},
   "outputs": [],
   "source": [
    "from sklearn.preprocessing import normalize\n",
    "words_compressed_normed = normalize(words_compressed, axis = 1)"
   ]
  },
  {
   "cell_type": "code",
   "execution_count": 84,
   "metadata": {},
   "outputs": [],
   "source": [
    "# cosine similarity\n",
    "def closest_words(word_in, words_representation_in, k = 10):\n",
    "    if word_in not in word_to_index: return \"Not in vocab.\"\n",
    "    sims = words_representation_in.dot(words_representation_in[word_to_index[word_in],:])\n",
    "    asort = np.argsort(-sims)[:k+1]\n",
    "    return [(index_to_word[i],sims[i]) for i in asort[1:]]"
   ]
  },
  {
   "cell_type": "code",
   "execution_count": 85,
   "metadata": {},
   "outputs": [],
   "source": [
    "td_matrix_np = song_tf_idf.transpose().toarray()\n",
    "td_matrix_np = normalize(td_matrix_np)"
   ]
  },
  {
   "cell_type": "code",
   "execution_count": 86,
   "metadata": {},
   "outputs": [
    {
     "name": "stdout",
     "output_type": "stream",
     "text": [
      "Using SVD:\n",
      "mcdonalds, 0.966\n",
      "crew, 0.953\n",
      "ransom, 0.950\n",
      "nigga, 0.947\n",
      "microwave, 0.947\n",
      "rapper, 0.945\n",
      "mickey, 0.944\n",
      "wach, 0.942\n",
      "embracing, 0.935\n",
      "lyrical, 0.933\n",
      "\n"
     ]
    }
   ],
   "source": [
    "word = 'miami'\n",
    "print(\"Using SVD:\")\n",
    "for w, sim in closest_words(word, words_compressed_normed):\n",
    "    try:\n",
    "        print(\"{}, {:.3f}\".format(w, sim))\n",
    "    except:\n",
    "        print(\"word not found\")\n",
    "print()"
   ]
  },
  {
   "cell_type": "code",
   "execution_count": 56,
   "metadata": {},
   "outputs": [],
   "source": [
    "big_df = pd.read_csv('big_df.csv')"
   ]
  },
  {
   "cell_type": "code",
   "execution_count": 87,
   "metadata": {},
   "outputs": [],
   "source": [
    "docs_compressed_normed = normalize(docs_compressed)\n",
    "\n",
    "# this is basically the same cosine similarity code that we used before, just with some changes to\n",
    "# the returned output format to let us print out the documents in a sensible way\n",
    "def closest_projects(project_index_in, project_repr_in, k = 5):\n",
    "    sims = project_repr_in.dot(project_repr_in[project_index_in,:])\n",
    "    asort = np.argsort(-sims)[:k+1]\n",
    "    return [(big_df['title'].iloc[i],sims[i]) for i in asort[1:]]"
   ]
  },
  {
   "cell_type": "code",
   "execution_count": 88,
   "metadata": {},
   "outputs": [],
   "source": [
    "td_matrix_np = song_tf_idf.toarray()\n",
    "td_matrix_np = normalize(td_matrix_np)"
   ]
  },
  {
   "cell_type": "code",
   "execution_count": 96,
   "metadata": {},
   "outputs": [
    {
     "name": "stdout",
     "output_type": "stream",
     "text": [
      "INPUT SONG: Keys Open Doors\n",
      "CLOSEST SONGS w SVD:\n",
      "\n",
      "Get Low:0.813\n",
      "I Told You So:0.796\n",
      "Kung Fu:0.791\n",
      "Concrete Jungle:0.783\n",
      "Nobody Like You Lord:0.776\n",
      "\n",
      "Using term-document matrix:\n",
      "Cemetery Row:0.569\n",
      "Break Your Frame:0.479\n",
      "What It Is:0.466\n",
      "Get Low:0.447\n",
      "Bleed American:0.444\n",
      "\n",
      "--------------------------------------------------------\n",
      "\n"
     ]
    }
   ],
   "source": [
    "for i in range(9, 10):\n",
    "    print(\"INPUT SONG: \"+big_df['title'].iloc[i])\n",
    "    print(\"CLOSEST SONGS w SVD:\\n\")\n",
    "    for title, score in closest_projects(i, docs_compressed_normed):\n",
    "        print(\"{}:{:.3f}\".format(title, score))\n",
    "    print()\n",
    "    print(\"Using term-document matrix:\")\n",
    "    for title, score in closest_projects(i, td_matrix_np):\n",
    "        print(\"{}:{:.3f}\".format(title, score))\n",
    "    print()\n",
    "    print(\"--------------------------------------------------------\\n\")"
   ]
  },
  {
   "cell_type": "code",
   "execution_count": 104,
   "metadata": {},
   "outputs": [],
   "source": [
    "from dataset import wiki_scraping\n",
    "f = open('dataset/wiki_scraping/wiki_texts.json')\n",
    "wiki_texts = json.load(f)\n",
    "loc_to_index = {cty:i for i, cty in enumerate(wiki_texts.keys())}"
   ]
  },
  {
   "cell_type": "code",
   "execution_count": 109,
   "metadata": {},
   "outputs": [
    {
     "name": "stdout",
     "output_type": "stream",
     "text": [
      "INPUT WIKI: New York City\n",
      "CLOSEST SONGS w SVD:\n",
      "\n"
     ]
    },
    {
     "ename": "ValueError",
     "evalue": "shapes (34554,40) and (13784,) not aligned: 40 (dim 1) != 13784 (dim 0)",
     "output_type": "error",
     "traceback": [
      "\u001b[0;31m---------------------------------------------------------------------------\u001b[0m",
      "\u001b[0;31mValueError\u001b[0m                                Traceback (most recent call last)",
      "\u001b[0;32m<ipython-input-109-a51b082db092>\u001b[0m in \u001b[0;36m<module>\u001b[0;34m\u001b[0m\n\u001b[1;32m      7\u001b[0m     \u001b[0mprint\u001b[0m\u001b[0;34m(\u001b[0m\u001b[0;34m\"INPUT WIKI: \"\u001b[0m\u001b[0;34m+\u001b[0m\u001b[0mk\u001b[0m\u001b[0;34m)\u001b[0m\u001b[0;34m\u001b[0m\u001b[0;34m\u001b[0m\u001b[0m\n\u001b[1;32m      8\u001b[0m     \u001b[0mprint\u001b[0m\u001b[0;34m(\u001b[0m\u001b[0;34m\"CLOSEST SONGS w SVD:\\n\"\u001b[0m\u001b[0;34m)\u001b[0m\u001b[0;34m\u001b[0m\u001b[0;34m\u001b[0m\u001b[0m\n\u001b[0;32m----> 9\u001b[0;31m     \u001b[0;32mfor\u001b[0m \u001b[0mtitle\u001b[0m\u001b[0;34m,\u001b[0m \u001b[0mscore\u001b[0m \u001b[0;32min\u001b[0m \u001b[0mclosest_songs_to_wiki\u001b[0m\u001b[0;34m(\u001b[0m\u001b[0mk\u001b[0m\u001b[0;34m,\u001b[0m \u001b[0mk\u001b[0m\u001b[0;34m=\u001b[0m\u001b[0;36m5\u001b[0m\u001b[0;34m)\u001b[0m\u001b[0;34m:\u001b[0m\u001b[0;34m\u001b[0m\u001b[0;34m\u001b[0m\u001b[0m\n\u001b[0m\u001b[1;32m     10\u001b[0m         \u001b[0mprint\u001b[0m\u001b[0;34m(\u001b[0m\u001b[0;34m\"{}:{:.3f}\"\u001b[0m\u001b[0;34m.\u001b[0m\u001b[0mformat\u001b[0m\u001b[0;34m(\u001b[0m\u001b[0mtitle\u001b[0m\u001b[0;34m,\u001b[0m \u001b[0mscore\u001b[0m\u001b[0;34m)\u001b[0m\u001b[0;34m)\u001b[0m\u001b[0;34m\u001b[0m\u001b[0;34m\u001b[0m\u001b[0m\n\u001b[1;32m     11\u001b[0m     \u001b[0mprint\u001b[0m\u001b[0;34m(\u001b[0m\u001b[0;34m)\u001b[0m\u001b[0;34m\u001b[0m\u001b[0;34m\u001b[0m\u001b[0m\n",
      "\u001b[0;32m<ipython-input-109-a51b082db092>\u001b[0m in \u001b[0;36mclosest_songs_to_wiki\u001b[0;34m(loc, k)\u001b[0m\n\u001b[1;32m      1\u001b[0m \u001b[0;32mdef\u001b[0m \u001b[0mclosest_songs_to_wiki\u001b[0m\u001b[0;34m(\u001b[0m\u001b[0mloc\u001b[0m\u001b[0;34m,\u001b[0m \u001b[0mk\u001b[0m \u001b[0;34m=\u001b[0m \u001b[0;36m5\u001b[0m\u001b[0;34m)\u001b[0m\u001b[0;34m:\u001b[0m\u001b[0;34m\u001b[0m\u001b[0;34m\u001b[0m\u001b[0m\n\u001b[0;32m----> 2\u001b[0;31m     \u001b[0msims\u001b[0m \u001b[0;34m=\u001b[0m \u001b[0mdocs_compressed_normed\u001b[0m\u001b[0;34m.\u001b[0m\u001b[0mdot\u001b[0m\u001b[0;34m(\u001b[0m\u001b[0mwiki_tf_idf\u001b[0m\u001b[0;34m[\u001b[0m\u001b[0mloc_to_index\u001b[0m\u001b[0;34m[\u001b[0m\u001b[0mloc\u001b[0m\u001b[0;34m]\u001b[0m\u001b[0;34m,\u001b[0m \u001b[0;34m:\u001b[0m\u001b[0;34m]\u001b[0m\u001b[0;34m)\u001b[0m\u001b[0;34m\u001b[0m\u001b[0;34m\u001b[0m\u001b[0m\n\u001b[0m\u001b[1;32m      3\u001b[0m     \u001b[0masort\u001b[0m \u001b[0;34m=\u001b[0m \u001b[0mnp\u001b[0m\u001b[0;34m.\u001b[0m\u001b[0margsort\u001b[0m\u001b[0;34m(\u001b[0m\u001b[0;34m-\u001b[0m\u001b[0msims\u001b[0m\u001b[0;34m)\u001b[0m\u001b[0;34m[\u001b[0m\u001b[0;34m:\u001b[0m\u001b[0mk\u001b[0m\u001b[0;34m+\u001b[0m\u001b[0;36m1\u001b[0m\u001b[0;34m]\u001b[0m\u001b[0;34m\u001b[0m\u001b[0;34m\u001b[0m\u001b[0m\n\u001b[1;32m      4\u001b[0m     \u001b[0;32mreturn\u001b[0m \u001b[0;34m[\u001b[0m\u001b[0;34m(\u001b[0m\u001b[0mbig_df\u001b[0m\u001b[0;34m[\u001b[0m\u001b[0;34m'title'\u001b[0m\u001b[0;34m]\u001b[0m\u001b[0;34m.\u001b[0m\u001b[0miloc\u001b[0m\u001b[0;34m[\u001b[0m\u001b[0mi\u001b[0m\u001b[0;34m]\u001b[0m\u001b[0;34m,\u001b[0m\u001b[0msims\u001b[0m\u001b[0;34m[\u001b[0m\u001b[0mi\u001b[0m\u001b[0;34m]\u001b[0m\u001b[0;34m)\u001b[0m \u001b[0;32mfor\u001b[0m \u001b[0mi\u001b[0m \u001b[0;32min\u001b[0m \u001b[0masort\u001b[0m\u001b[0;34m[\u001b[0m\u001b[0;36m1\u001b[0m\u001b[0;34m:\u001b[0m\u001b[0;34m]\u001b[0m\u001b[0;34m]\u001b[0m\u001b[0;34m\u001b[0m\u001b[0;34m\u001b[0m\u001b[0m\n\u001b[1;32m      5\u001b[0m \u001b[0;34m\u001b[0m\u001b[0m\n",
      "\u001b[0;31mValueError\u001b[0m: shapes (34554,40) and (13784,) not aligned: 40 (dim 1) != 13784 (dim 0)"
     ]
    }
   ],
   "source": [
    "def closest_songs_to_wiki(loc, k = 5):\n",
    "    sims = docs_compressed_normed.dot(wiki_tf_idf[loc_to_index[loc], :])\n",
    "    asort = np.argsort(-sims)[:k+1]\n",
    "    return [(big_df['title'].iloc[i],sims[i]) for i in asort[1:]]\n",
    "\n",
    "for k in wiki_texts.keys():\n",
    "    print(\"INPUT WIKI: \"+k)\n",
    "    print(\"CLOSEST SONGS w SVD:\\n\")\n",
    "    for title, score in closest_songs_to_wiki(k, k=5):\n",
    "        print(\"{}:{:.3f}\".format(title, score))\n",
    "    print()\n",
    "    print(\"Using term-document matrix:\")\n",
    "    for title, score in closest_projects(i, td_matrix_np):\n",
    "        print(\"{}:{:.3f}\".format(title, score))\n",
    "    print()\n",
    "    print(\"--------------------------------------------------------\\n\")"
   ]
  },
  {
   "cell_type": "code",
   "execution_count": 90,
   "metadata": {},
   "outputs": [],
   "source": [
    "# Once again, basically the same cosine similarity code, but mixing two different matrices\n",
    "def closest_songs_to_word(word_in, k = 5):\n",
    "    if word_in not in word_to_index: return \"Not in vocab.\"\n",
    "    sims = docs_compressed_normed.dot(words_compressed_normed[word_to_index[word_in],:])\n",
    "    asort = np.argsort(-sims)[:k+1]\n",
    "    return [(big_df['title'].iloc[i], big_df['artist'].iloc[i],sims[i]) for i in asort[1:]]"
   ]
  },
  {
   "cell_type": "code",
   "execution_count": 94,
   "metadata": {},
   "outputs": [
    {
     "name": "stdout",
     "output_type": "stream",
     "text": [
      "Top Matches\n",
      "\n",
      "A Little Too Not Over You, David Archuleta, 0.7674\n",
      "Wishing Well, Jessica Andrews, 0.7673\n",
      "The Christmas Song, Johnny Mathis, 0.7596\n",
      "Runaway, Cascada, 0.7522\n",
      "Phonebill Song, Hole, 0.7519\n"
     ]
    }
   ],
   "source": [
    "print(\"Top Matches\\n\")\n",
    "for title, artist, sim in closest_songs_to_word(\"london\"):\n",
    "    print(\"{}, {}, {:.4f}\".format(title, artist, sim))"
   ]
  },
  {
   "cell_type": "code",
   "execution_count": 92,
   "metadata": {},
   "outputs": [
    {
     "name": "stdout",
     "output_type": "stream",
     "text": [
      "Top words in dimension 0\n",
      "['sai', 'things', 'hearse', 'tonic', 'lies', 'dictionary', 'gonna', 'litter', 'sheriff', 'wax']\n",
      "\n",
      "Top words in dimension 1\n",
      "['majority', 'nigh', 'hearse', 'iv', 'rig', 'believe', 'lonesome', 'things', 'icy', 'thing']\n",
      "\n",
      "Top words in dimension 2\n",
      "['televisions', 'dawns', 'liian', 'wax', 'nigh', 'combing', 'iv', 'gira', 'tonic', 'lies']\n",
      "\n",
      "Top words in dimension 3\n",
      "['televisions', 'nigh', 'hearse', 'gosto', 'litter', 'eyelids', 'nee', 'mammy', 'heap', 'feeds']\n",
      "\n",
      "Top words in dimension 4\n",
      "['gone', 'iv', 'jusquau', 'hearse', 'gira', 'dawns', 'feeds', 'sheriff', 'saxophone', 'lonesome']\n",
      "\n",
      "Top words in dimension 5\n",
      "['wax', 'gosto', 'oo', 'jusquau', 'eyelids', 'works', 'donner', 'hearse', 'tonic', 'dawns']\n",
      "\n",
      "Top words in dimension 6\n",
      "['oo', 'jusquau', 'televisions', 'gone', 'hearse', 'iv', 'hombres', 'lonesome', 'dictionary', 'wondrous']\n",
      "\n",
      "Top words in dimension 7\n",
      "['wax', 'gira', 'hearse', 'nee', 'tonic', 'sheriff', 'away', 'works', 'myth', 'therere']\n",
      "\n",
      "Top words in dimension 8\n",
      "['che', 'nome', 'dey', 'ikke', 'czas', 'lazy', 'wax', 'lyrics', 'tonic', 'physique']\n",
      "\n",
      "Top words in dimension 9\n",
      "['nee', 'gira', 'oo', 'saxophone', 'liian', 'dawns', 'nigh', 'wax', 'timber', 'sheriff']\n",
      "\n",
      "Top words in dimension 10\n",
      "['nee', 'lies', 'believe', 'jusquau', 'liv', 'works', 'gone', 'dawns', 'hex', 'baby']\n",
      "\n",
      "Top words in dimension 11\n",
      "['tonic', 'nigh', 'nee', 'liian', 'jusquau', 'rig', 'hombres', 'wax', 'lonesome', 'myth']\n",
      "\n",
      "Top words in dimension 12\n",
      "['wax', 'hombres', 'dawns', 'lonesome', 'donner', 'gira', 'youngest', 'nee', 'timber', 'litter']\n",
      "\n",
      "Top words in dimension 13\n",
      "['liian', 'iv', 'wax', 'myth', 'baby', 'wann', 'lonesome', 'youngest', 'wannabe', 'saxophone']\n",
      "\n",
      "Top words in dimension 14\n",
      "['myth', 'czas', 'nee', 'dawns', 'works', 'lies', 'che', 'mammy', 'dey', 'gira']\n",
      "\n",
      "Top words in dimension 15\n",
      "['wax', 'saxophone', 'nigh', 'hombres', 'therere', 'tonic', 'televisions', 'good', 'dawns', 'works']\n",
      "\n",
      "Top words in dimension 16\n",
      "['iv', 'wann', 'hex', 'nee', 'feeds', 'gosto', 'il', 'tonic', 'nigh', 'eyelids']\n",
      "\n",
      "Top words in dimension 17\n",
      "['gone', 'donner', 'feeds', 'il', 'majority', 'tonic', 'nigh', 'gonna', 'nee', 'rig']\n",
      "\n",
      "Top words in dimension 18\n",
      "['il', 'saxophone', 'donner', 'youngest', 'feeds', 'nee', 'wax', 'gosto', 'jusquau', 'iv']\n",
      "\n",
      "Top words in dimension 19\n",
      "['feeds', 'away', 'gosto', 'wax', 'iv', 'nee', 'majority', 'gone', 'youths', 'fantasy']\n",
      "\n"
     ]
    }
   ],
   "source": [
    "for i in range(20):\n",
    "    print(\"Top words in dimension\", i)\n",
    "    dimension_col = words_compressed[:,i].squeeze()\n",
    "    asort = np.argsort(-dimension_col)\n",
    "    print([index_to_word[i] for i in asort[:10]])\n",
    "    print()"
   ]
  },
  {
   "cell_type": "code",
   "execution_count": null,
   "metadata": {},
   "outputs": [],
   "source": []
  }
 ],
 "metadata": {
  "kernelspec": {
   "display_name": "Python 3",
   "language": "python",
   "name": "python3"
  },
  "language_info": {
   "codemirror_mode": {
    "name": "ipython",
    "version": 3
   },
   "file_extension": ".py",
   "mimetype": "text/x-python",
   "name": "python",
   "nbconvert_exporter": "python",
   "pygments_lexer": "ipython3",
   "version": "3.8.5"
  }
 },
 "nbformat": 4,
 "nbformat_minor": 4
}
