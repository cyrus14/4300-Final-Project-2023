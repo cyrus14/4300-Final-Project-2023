{
 "cells": [
  {
   "cell_type": "code",
   "execution_count": 1,
   "id": "58363a30-4558-46a8-ad6a-1d30682178e0",
   "metadata": {},
   "outputs": [],
   "source": [
    "import numpy as np\n",
    "import pickle\n",
    "from scipy.sparse.linalg import svds\n",
    "from sklearn.preprocessing import normalize\n"
   ]
  },
  {
   "cell_type": "code",
   "execution_count": 2,
   "id": "a9f1c64d-4ee6-49fe-ab83-e4dba44ad767",
   "metadata": {},
   "outputs": [
    {
     "name": "stderr",
     "output_type": "stream",
     "text": [
      "/var/folders/tm/w_ghk37d14lgh4dy7_rf03240000gn/T/ipykernel_66996/1033784489.py:2: DeprecationWarning: Please use `csr_matrix` from the `scipy.sparse` namespace, the `scipy.sparse.csr` namespace is deprecated.\n",
      "  song_tf_idf = pickle.load(f)\n"
     ]
    }
   ],
   "source": [
    "with open('backend/song_tf_idf.pkl', 'rb') as f:\n",
    "    song_tf_idf = pickle.load(f)\n",
    "with open('backend/wiki_tf_idf.pkl', 'rb') as f:\n",
    "    wiki_tf_idf = pickle.load(f)"
   ]
  },
  {
   "cell_type": "code",
   "execution_count": 3,
   "id": "e6ab031e-c36d-421a-af65-9c2c7facad41",
   "metadata": {},
   "outputs": [],
   "source": [
    "song_tf_idf = song_tf_idf.toarray()"
   ]
  },
  {
   "cell_type": "code",
   "execution_count": 4,
   "id": "c1e1c38d-cdf2-4cfa-8a41-7335ac09b60b",
   "metadata": {},
   "outputs": [],
   "source": [
    "full_tf_idf = np.concatenate([song_tf_idf, wiki_tf_idf], axis=0)"
   ]
  },
  {
   "cell_type": "markdown",
   "id": "8b9e5721-19c2-4fd0-b052-33b9f4df6783",
   "metadata": {},
   "source": [
    "# Full SVD attempt"
   ]
  },
  {
   "cell_type": "code",
   "execution_count": 5,
   "id": "ebcc5803-92f3-46cb-ada5-8e81dc644173",
   "metadata": {},
   "outputs": [
    {
     "data": {
      "text/plain": [
       "(34509, 13250)"
      ]
     },
     "execution_count": 5,
     "metadata": {},
     "output_type": "execute_result"
    }
   ],
   "source": [
    "full_tf_idf.shape"
   ]
  },
  {
   "cell_type": "code",
   "execution_count": 6,
   "id": "0abcdff7-b761-415c-86a4-ac9b1ecff4fd",
   "metadata": {},
   "outputs": [
    {
     "data": {
      "text/plain": [
       "(34462, 13250)"
      ]
     },
     "execution_count": 6,
     "metadata": {},
     "output_type": "execute_result"
    }
   ],
   "source": [
    "song_tf_idf.shape"
   ]
  },
  {
   "cell_type": "code",
   "execution_count": 7,
   "id": "c93dafc2-6878-4b52-8053-4b46075cccc8",
   "metadata": {},
   "outputs": [
    {
     "data": {
      "text/plain": [
       "(47, 13250)"
      ]
     },
     "execution_count": 7,
     "metadata": {},
     "output_type": "execute_result"
    }
   ],
   "source": [
    "wiki_tf_idf.shape"
   ]
  },
  {
   "cell_type": "code",
   "execution_count": 63,
   "id": "14bdbdd8-c64a-41e7-908f-3f52afbb0756",
   "metadata": {},
   "outputs": [],
   "source": [
    "N_FEATS = 40\n",
    "uw, sw, vwt = svds(full_tf_idf, k=N_FEATS)"
   ]
  },
  {
   "cell_type": "code",
   "execution_count": 64,
   "id": "7e0649e5-206d-4e97-b7d1-c6ebb457ad14",
   "metadata": {},
   "outputs": [],
   "source": [
    "uw = normalize(uw, axis=1)"
   ]
  },
  {
   "cell_type": "code",
   "execution_count": 65,
   "id": "6a1663bf-b6a4-4c3c-89f2-e126a64acc68",
   "metadata": {},
   "outputs": [
    {
     "data": {
      "text/plain": [
       "((34509, 40), (40,), (40, 13250))"
      ]
     },
     "execution_count": 65,
     "metadata": {},
     "output_type": "execute_result"
    }
   ],
   "source": [
    "uw.shape, sw.shape, vwt.shape"
   ]
  },
  {
   "cell_type": "code",
   "execution_count": 66,
   "id": "0bd63449-f3de-45e9-95a3-121eaa140789",
   "metadata": {},
   "outputs": [],
   "source": [
    "# shat = (song_tf_idf @vwt.T) * sw\n",
    "wiki_k = uw[-len(wiki_tf_idf):,:]"
   ]
  },
  {
   "cell_type": "code",
   "execution_count": 67,
   "id": "4848ae93-7296-41ac-b36d-d00cb051baf3",
   "metadata": {},
   "outputs": [
    {
     "data": {
      "text/plain": [
       "(47, 40)"
      ]
     },
     "execution_count": 67,
     "metadata": {},
     "output_type": "execute_result"
    }
   ],
   "source": [
    "wiki_k.shape"
   ]
  },
  {
   "cell_type": "code",
   "execution_count": 68,
   "id": "171ea2b5-8812-49f8-a074-816053098a19",
   "metadata": {},
   "outputs": [],
   "source": [
    "song_k = uw[:-len(wiki_tf_idf),:]"
   ]
  },
  {
   "cell_type": "code",
   "execution_count": 56,
   "id": "cb3c7780-7907-4760-9a0f-d983a6164c9a",
   "metadata": {},
   "outputs": [],
   "source": [
    "with open('backend/song_to_index.pkl', 'rb') as f:\n",
    "    song_to_index = pickle.load(f)\n",
    "import pandas as pd\n",
    "big_df = pd.read_csv('backend/dataset/big_df_edited.csv')\n"
   ]
  },
  {
   "cell_type": "code",
   "execution_count": 79,
   "id": "882b9fc2-18c7-4c5f-bf1d-e13f91a964fa",
   "metadata": {},
   "outputs": [],
   "source": [
    "top = np.argsort(wiki_k[-2] @ vwt)[:10]"
   ]
  },
  {
   "cell_type": "code",
   "execution_count": 80,
   "id": "d5eeb965-4213-4861-859d-6ff7bcbec717",
   "metadata": {},
   "outputs": [
    {
     "data": {
      "text/html": [
       "<div>\n",
       "<style scoped>\n",
       "    .dataframe tbody tr th:only-of-type {\n",
       "        vertical-align: middle;\n",
       "    }\n",
       "\n",
       "    .dataframe tbody tr th {\n",
       "        vertical-align: top;\n",
       "    }\n",
       "\n",
       "    .dataframe thead th {\n",
       "        text-align: right;\n",
       "    }\n",
       "</style>\n",
       "<table border=\"1\" class=\"dataframe\">\n",
       "  <thead>\n",
       "    <tr style=\"text-align: right;\">\n",
       "      <th></th>\n",
       "      <th>Unnamed: 0</th>\n",
       "      <th>title</th>\n",
       "      <th>tag</th>\n",
       "      <th>artist</th>\n",
       "      <th>year</th>\n",
       "      <th>views</th>\n",
       "      <th>features</th>\n",
       "      <th>lyrics</th>\n",
       "      <th>id</th>\n",
       "      <th>song_id</th>\n",
       "      <th>emotions</th>\n",
       "      <th>social_tags</th>\n",
       "      <th>tknzd_lyrics</th>\n",
       "      <th>log_views</th>\n",
       "      <th>norm_views</th>\n",
       "    </tr>\n",
       "  </thead>\n",
       "  <tbody>\n",
       "    <tr>\n",
       "      <th>3910</th>\n",
       "      <td>3936</td>\n",
       "      <td>The Impossible</td>\n",
       "      <td>pop</td>\n",
       "      <td>Mariah Carey</td>\n",
       "      <td>2009</td>\n",
       "      <td>6442</td>\n",
       "      <td>{}</td>\n",
       "      <td>[Verse 1]\\nWe were two little people wrapped u...</td>\n",
       "      <td>204560</td>\n",
       "      <td>TRCVKVH12903CB7452</td>\n",
       "      <td>['relax', 'warm', 'relaxing', 'sexy']</td>\n",
       "      <td>[('soul', 100), ('rnb', 100), ('mariah carey',...</td>\n",
       "      <td>['we', 'were', 'two', 'little', 'people', 'wra...</td>\n",
       "      <td>8.770750</td>\n",
       "      <td>0.546808</td>\n",
       "    </tr>\n",
       "    <tr>\n",
       "      <th>4846</th>\n",
       "      <td>4873</td>\n",
       "      <td>Bandoliers</td>\n",
       "      <td>rock</td>\n",
       "      <td>Them Crooked Vultures</td>\n",
       "      <td>2009</td>\n",
       "      <td>8481</td>\n",
       "      <td>{}</td>\n",
       "      <td>[Verse 1]\\nOh, it's too late\\nI got hit by the...</td>\n",
       "      <td>263021</td>\n",
       "      <td>TRNATXG128F932FE1D</td>\n",
       "      <td>['melancholic']</td>\n",
       "      <td>[('rock', 100), ('alternative rock', 64), ('ha...</td>\n",
       "      <td>['oh', 'its', 'too', 'late', 'i', 'got', 'hit'...</td>\n",
       "      <td>9.045702</td>\n",
       "      <td>0.563950</td>\n",
       "    </tr>\n",
       "    <tr>\n",
       "      <th>5397</th>\n",
       "      <td>5425</td>\n",
       "      <td>Who Did You Think I Was</td>\n",
       "      <td>rock</td>\n",
       "      <td>John Mayer Trio</td>\n",
       "      <td>2005</td>\n",
       "      <td>9240</td>\n",
       "      <td>{}</td>\n",
       "      <td>[Verse 1]\\nI got half a smile and zero shame\\n...</td>\n",
       "      <td>332565</td>\n",
       "      <td>TRWMWSM128F42ACE15</td>\n",
       "      <td>['fun', 'happy']</td>\n",
       "      <td>[('blues rock', 100), ('blues', 100), ('rock',...</td>\n",
       "      <td>['i', 'got', 'half', 'a', 'smile', 'and', 'zer...</td>\n",
       "      <td>9.131405</td>\n",
       "      <td>0.569293</td>\n",
       "    </tr>\n",
       "    <tr>\n",
       "      <th>3266</th>\n",
       "      <td>3291</td>\n",
       "      <td>Powertrip</td>\n",
       "      <td>rock</td>\n",
       "      <td>Monster Magnet</td>\n",
       "      <td>1998</td>\n",
       "      <td>5598</td>\n",
       "      <td>{}</td>\n",
       "      <td>Who's gonna teach you how to dance?\\nWho's gon...</td>\n",
       "      <td>190098</td>\n",
       "      <td>TRHVECA128E07920E4</td>\n",
       "      <td>['angry']</td>\n",
       "      <td>[('stoner rock', 100), ('rock', 70), ('hard ro...</td>\n",
       "      <td>['whos', 'gonna', 'teach', 'you', 'how', 'to',...</td>\n",
       "      <td>8.630343</td>\n",
       "      <td>0.538055</td>\n",
       "    </tr>\n",
       "    <tr>\n",
       "      <th>1987</th>\n",
       "      <td>1996</td>\n",
       "      <td>Lucretia</td>\n",
       "      <td>rock</td>\n",
       "      <td>Megadeth</td>\n",
       "      <td>1990</td>\n",
       "      <td>22286</td>\n",
       "      <td>{}</td>\n",
       "      <td>[Verse 1]\\nSitting up late at night\\nI tiptoe ...</td>\n",
       "      <td>109949</td>\n",
       "      <td>TRRYYVR128F145ACE7</td>\n",
       "      <td>['aggressive']</td>\n",
       "      <td>[('thrash metal', 100), ('metal', 48), ('heavy...</td>\n",
       "      <td>['sitting', 'up', 'late', 'at', 'night', 'i', ...</td>\n",
       "      <td>10.011759</td>\n",
       "      <td>0.624178</td>\n",
       "    </tr>\n",
       "    <tr>\n",
       "      <th>5892</th>\n",
       "      <td>5921</td>\n",
       "      <td>Outrage</td>\n",
       "      <td>rock</td>\n",
       "      <td>Capital Lights</td>\n",
       "      <td>2008</td>\n",
       "      <td>3688</td>\n",
       "      <td>{}</td>\n",
       "      <td>[Verse 1]\\nI'll take the blame for you for tak...</td>\n",
       "      <td>363116</td>\n",
       "      <td>TRFDWKB128F4228F8C</td>\n",
       "      <td>['fun']</td>\n",
       "      <td>[('christian rock', 100), ('pop punk', 44), ('...</td>\n",
       "      <td>['ill', 'take', 'the', 'blame', 'for', 'you', ...</td>\n",
       "      <td>8.213111</td>\n",
       "      <td>0.512043</td>\n",
       "    </tr>\n",
       "    <tr>\n",
       "      <th>5643</th>\n",
       "      <td>5672</td>\n",
       "      <td>Marla</td>\n",
       "      <td>rock</td>\n",
       "      <td>Grizzly Bear</td>\n",
       "      <td>2006</td>\n",
       "      <td>3118</td>\n",
       "      <td>{}</td>\n",
       "      <td>I've looked everywhere Mr. Forbes\\nBut I can't...</td>\n",
       "      <td>343969</td>\n",
       "      <td>TRWXGNI128F92FEA92</td>\n",
       "      <td>['quiet', 'sadness', 'mellow', 'sad', 'calm', ...</td>\n",
       "      <td>[('indie', 100), ('grand old dusty victorian m...</td>\n",
       "      <td>['ive', 'looked', 'everywhere', 'mr', 'forbes'...</td>\n",
       "      <td>8.045268</td>\n",
       "      <td>0.501578</td>\n",
       "    </tr>\n",
       "    <tr>\n",
       "      <th>4068</th>\n",
       "      <td>4094</td>\n",
       "      <td>I Swear</td>\n",
       "      <td>rock</td>\n",
       "      <td>Marc Anthony</td>\n",
       "      <td>2004</td>\n",
       "      <td>624</td>\n",
       "      <td>{}</td>\n",
       "      <td>[Verse 1]\\nI have never seen an angel standing...</td>\n",
       "      <td>206793</td>\n",
       "      <td>TRGREHP128F9304202</td>\n",
       "      <td>['sexy', 'romantic', 'sad']</td>\n",
       "      <td>[('latin', 100), ('sexy', 100), ('kara dioguar...</td>\n",
       "      <td>['i', 'have', 'never', 'seen', 'an', 'angel', ...</td>\n",
       "      <td>6.437752</td>\n",
       "      <td>0.401359</td>\n",
       "    </tr>\n",
       "    <tr>\n",
       "      <th>5228</th>\n",
       "      <td>5256</td>\n",
       "      <td>You Gotta Move</td>\n",
       "      <td>rock</td>\n",
       "      <td>Aerosmith</td>\n",
       "      <td>2004</td>\n",
       "      <td>655</td>\n",
       "      <td>{}</td>\n",
       "      <td>[Chorus]\\nYou got to move[x2]\\nYou got to move...</td>\n",
       "      <td>319435</td>\n",
       "      <td>TRWKEJN128F4265EBE</td>\n",
       "      <td>['happy']</td>\n",
       "      <td>[('rock', 100), ('hard rock', 93), ('classic r...</td>\n",
       "      <td>['you', 'got', 'to', 'move', 'you', 'got', 'to...</td>\n",
       "      <td>6.486161</td>\n",
       "      <td>0.404377</td>\n",
       "    </tr>\n",
       "    <tr>\n",
       "      <th>4844</th>\n",
       "      <td>4871</td>\n",
       "      <td>Low</td>\n",
       "      <td>rock</td>\n",
       "      <td>Cracker</td>\n",
       "      <td>1994</td>\n",
       "      <td>33231</td>\n",
       "      <td>{}</td>\n",
       "      <td>[Verse 1]\\nSometimes I wanna take you down\\nSo...</td>\n",
       "      <td>262692</td>\n",
       "      <td>TRHXUYR128F428800E</td>\n",
       "      <td>['mellow', 'party', 'sexy']</td>\n",
       "      <td>[('alternative', 100), ('90s', 98), ('rock', 8...</td>\n",
       "      <td>['sometimes', 'i', 'wanna', 'take', 'you', 'do...</td>\n",
       "      <td>10.411269</td>\n",
       "      <td>0.649086</td>\n",
       "    </tr>\n",
       "  </tbody>\n",
       "</table>\n",
       "</div>"
      ],
      "text/plain": [
       "      Unnamed: 0                    title   tag                 artist  year  \\\n",
       "3910        3936           The Impossible   pop           Mariah Carey  2009   \n",
       "4846        4873               Bandoliers  rock  Them Crooked Vultures  2009   \n",
       "5397        5425  Who Did You Think I Was  rock        John Mayer Trio  2005   \n",
       "3266        3291                Powertrip  rock         Monster Magnet  1998   \n",
       "1987        1996                 Lucretia  rock               Megadeth  1990   \n",
       "5892        5921                  Outrage  rock         Capital Lights  2008   \n",
       "5643        5672                    Marla  rock           Grizzly Bear  2006   \n",
       "4068        4094                  I Swear  rock           Marc Anthony  2004   \n",
       "5228        5256           You Gotta Move  rock              Aerosmith  2004   \n",
       "4844        4871                      Low  rock                Cracker  1994   \n",
       "\n",
       "      views features                                             lyrics  \\\n",
       "3910   6442       {}  [Verse 1]\\nWe were two little people wrapped u...   \n",
       "4846   8481       {}  [Verse 1]\\nOh, it's too late\\nI got hit by the...   \n",
       "5397   9240       {}  [Verse 1]\\nI got half a smile and zero shame\\n...   \n",
       "3266   5598       {}  Who's gonna teach you how to dance?\\nWho's gon...   \n",
       "1987  22286       {}  [Verse 1]\\nSitting up late at night\\nI tiptoe ...   \n",
       "5892   3688       {}  [Verse 1]\\nI'll take the blame for you for tak...   \n",
       "5643   3118       {}  I've looked everywhere Mr. Forbes\\nBut I can't...   \n",
       "4068    624       {}  [Verse 1]\\nI have never seen an angel standing...   \n",
       "5228    655       {}  [Chorus]\\nYou got to move[x2]\\nYou got to move...   \n",
       "4844  33231       {}  [Verse 1]\\nSometimes I wanna take you down\\nSo...   \n",
       "\n",
       "          id             song_id  \\\n",
       "3910  204560  TRCVKVH12903CB7452   \n",
       "4846  263021  TRNATXG128F932FE1D   \n",
       "5397  332565  TRWMWSM128F42ACE15   \n",
       "3266  190098  TRHVECA128E07920E4   \n",
       "1987  109949  TRRYYVR128F145ACE7   \n",
       "5892  363116  TRFDWKB128F4228F8C   \n",
       "5643  343969  TRWXGNI128F92FEA92   \n",
       "4068  206793  TRGREHP128F9304202   \n",
       "5228  319435  TRWKEJN128F4265EBE   \n",
       "4844  262692  TRHXUYR128F428800E   \n",
       "\n",
       "                                               emotions  \\\n",
       "3910              ['relax', 'warm', 'relaxing', 'sexy']   \n",
       "4846                                    ['melancholic']   \n",
       "5397                                   ['fun', 'happy']   \n",
       "3266                                          ['angry']   \n",
       "1987                                     ['aggressive']   \n",
       "5892                                            ['fun']   \n",
       "5643  ['quiet', 'sadness', 'mellow', 'sad', 'calm', ...   \n",
       "4068                        ['sexy', 'romantic', 'sad']   \n",
       "5228                                          ['happy']   \n",
       "4844                        ['mellow', 'party', 'sexy']   \n",
       "\n",
       "                                            social_tags  \\\n",
       "3910  [('soul', 100), ('rnb', 100), ('mariah carey',...   \n",
       "4846  [('rock', 100), ('alternative rock', 64), ('ha...   \n",
       "5397  [('blues rock', 100), ('blues', 100), ('rock',...   \n",
       "3266  [('stoner rock', 100), ('rock', 70), ('hard ro...   \n",
       "1987  [('thrash metal', 100), ('metal', 48), ('heavy...   \n",
       "5892  [('christian rock', 100), ('pop punk', 44), ('...   \n",
       "5643  [('indie', 100), ('grand old dusty victorian m...   \n",
       "4068  [('latin', 100), ('sexy', 100), ('kara dioguar...   \n",
       "5228  [('rock', 100), ('hard rock', 93), ('classic r...   \n",
       "4844  [('alternative', 100), ('90s', 98), ('rock', 8...   \n",
       "\n",
       "                                           tknzd_lyrics  log_views  norm_views  \n",
       "3910  ['we', 'were', 'two', 'little', 'people', 'wra...   8.770750    0.546808  \n",
       "4846  ['oh', 'its', 'too', 'late', 'i', 'got', 'hit'...   9.045702    0.563950  \n",
       "5397  ['i', 'got', 'half', 'a', 'smile', 'and', 'zer...   9.131405    0.569293  \n",
       "3266  ['whos', 'gonna', 'teach', 'you', 'how', 'to',...   8.630343    0.538055  \n",
       "1987  ['sitting', 'up', 'late', 'at', 'night', 'i', ...  10.011759    0.624178  \n",
       "5892  ['ill', 'take', 'the', 'blame', 'for', 'you', ...   8.213111    0.512043  \n",
       "5643  ['ive', 'looked', 'everywhere', 'mr', 'forbes'...   8.045268    0.501578  \n",
       "4068  ['i', 'have', 'never', 'seen', 'an', 'angel', ...   6.437752    0.401359  \n",
       "5228  ['you', 'got', 'to', 'move', 'you', 'got', 'to...   6.486161    0.404377  \n",
       "4844  ['sometimes', 'i', 'wanna', 'take', 'you', 'do...  10.411269    0.649086  "
      ]
     },
     "execution_count": 80,
     "metadata": {},
     "output_type": "execute_result"
    }
   ],
   "source": [
    "big_df.iloc[top]"
   ]
  },
  {
   "cell_type": "markdown",
   "id": "daeb2751-9de0-4f1c-9a68-2d6aebac7fa6",
   "metadata": {},
   "source": [
    "# Wiki svd --> song attempt"
   ]
  },
  {
   "cell_type": "code",
   "execution_count": 1,
   "id": "d47776eb-3a6c-4a01-b21d-cc0dc0e70e55",
   "metadata": {},
   "outputs": [
    {
     "ename": "NameError",
     "evalue": "name 'svds' is not defined",
     "output_type": "error",
     "traceback": [
      "\u001b[0;31m---------------------------------------------------------------------------\u001b[0m",
      "\u001b[0;31mNameError\u001b[0m                                 Traceback (most recent call last)",
      "Input \u001b[0;32mIn [1]\u001b[0m, in \u001b[0;36m<cell line: 1>\u001b[0;34m()\u001b[0m\n\u001b[0;32m----> 1\u001b[0m uw, sw, vwt \u001b[38;5;241m=\u001b[39m \u001b[43msvds\u001b[49m(wiki_tf_idf, k\u001b[38;5;241m=\u001b[39mN_FEATS)\n",
      "\u001b[0;31mNameError\u001b[0m: name 'svds' is not defined"
     ]
    }
   ],
   "source": [
    "uw, sw, vwt = svds(wiki_tf_idf, k=N_FEATS)"
   ]
  },
  {
   "cell_type": "code",
   "execution_count": 94,
   "id": "70ec42ad-7780-421d-9a9d-ead091c7be63",
   "metadata": {},
   "outputs": [
    {
     "data": {
      "text/plain": [
       "(40, 13250)"
      ]
     },
     "execution_count": 94,
     "metadata": {},
     "output_type": "execute_result"
    }
   ],
   "source": [
    "vwt.shape"
   ]
  },
  {
   "cell_type": "code",
   "execution_count": 95,
   "id": "240f1bf2-6bf8-4891-8423-5d9d86c35466",
   "metadata": {},
   "outputs": [
    {
     "data": {
      "text/plain": [
       "(47, 40)"
      ]
     },
     "execution_count": 95,
     "metadata": {},
     "output_type": "execute_result"
    }
   ],
   "source": [
    "uw.shape"
   ]
  },
  {
   "cell_type": "code",
   "execution_count": 82,
   "id": "ff064128-2c5c-4e4e-9fc0-acd964d26a1c",
   "metadata": {},
   "outputs": [],
   "source": [
    "uw = normalize(uw, axis=1)"
   ]
  },
  {
   "cell_type": "code",
   "execution_count": 83,
   "id": "9d94c00b-c1a6-4ca8-a7af-b5ab3cc30f29",
   "metadata": {},
   "outputs": [],
   "source": [
    "shat = (song_tf_idf @ vwt.T) * sw"
   ]
  },
  {
   "cell_type": "code",
   "execution_count": 98,
   "id": "05f380b5-20c6-4a87-a378-ab9fb28ce386",
   "metadata": {},
   "outputs": [],
   "source": [
    "top = np.argsort(uw[0] @ shat.T)[:10]"
   ]
  },
  {
   "cell_type": "code",
   "execution_count": 99,
   "id": "759aba81-a5ec-4135-a37c-1f98aac88c46",
   "metadata": {},
   "outputs": [
    {
     "data": {
      "text/html": [
       "<div>\n",
       "<style scoped>\n",
       "    .dataframe tbody tr th:only-of-type {\n",
       "        vertical-align: middle;\n",
       "    }\n",
       "\n",
       "    .dataframe tbody tr th {\n",
       "        vertical-align: top;\n",
       "    }\n",
       "\n",
       "    .dataframe thead th {\n",
       "        text-align: right;\n",
       "    }\n",
       "</style>\n",
       "<table border=\"1\" class=\"dataframe\">\n",
       "  <thead>\n",
       "    <tr style=\"text-align: right;\">\n",
       "      <th></th>\n",
       "      <th>Unnamed: 0</th>\n",
       "      <th>title</th>\n",
       "      <th>tag</th>\n",
       "      <th>artist</th>\n",
       "      <th>year</th>\n",
       "      <th>views</th>\n",
       "      <th>features</th>\n",
       "      <th>lyrics</th>\n",
       "      <th>id</th>\n",
       "      <th>song_id</th>\n",
       "      <th>emotions</th>\n",
       "      <th>social_tags</th>\n",
       "      <th>tknzd_lyrics</th>\n",
       "      <th>log_views</th>\n",
       "      <th>norm_views</th>\n",
       "    </tr>\n",
       "  </thead>\n",
       "  <tbody>\n",
       "    <tr>\n",
       "      <th>13488</th>\n",
       "      <td>13535</td>\n",
       "      <td>Cannabis</td>\n",
       "      <td>rock</td>\n",
       "      <td>Ska-P</td>\n",
       "      <td>1996</td>\n",
       "      <td>6735</td>\n",
       "      <td>{}</td>\n",
       "      <td>[Letra de \"Cannabis\"]\\n\\n[Verso 1]\\nY saco un ...</td>\n",
       "      <td>932076</td>\n",
       "      <td>TRRFFKW128F428CE61</td>\n",
       "      <td>['energetic', 'fun', 'funny', 'party', 'happy']</td>\n",
       "      <td>[('ska', 100), ('ska punk', 42), ('spanish', 3...</td>\n",
       "      <td>['y', 'saco', 'un', 'papelillo', 'me', 'prepar...</td>\n",
       "      <td>8.815222</td>\n",
       "      <td>0.549581</td>\n",
       "    </tr>\n",
       "    <tr>\n",
       "      <th>29748</th>\n",
       "      <td>29804</td>\n",
       "      <td>China Girl</td>\n",
       "      <td>pop</td>\n",
       "      <td>Anna Ternheim</td>\n",
       "      <td>2006</td>\n",
       "      <td>179</td>\n",
       "      <td>{}</td>\n",
       "      <td>I could escape this feeling with my china girl...</td>\n",
       "      <td>1680731</td>\n",
       "      <td>TRHBFSU128EF3439E7</td>\n",
       "      <td>['sad', 'calm', 'quiet', 'melancholic']</td>\n",
       "      <td>[('cover', 100), ('female vocalists', 85), ('c...</td>\n",
       "      <td>['i', 'could', 'escape', 'this', 'feeling', 'w...</td>\n",
       "      <td>5.192957</td>\n",
       "      <td>0.323752</td>\n",
       "    </tr>\n",
       "    <tr>\n",
       "      <th>28126</th>\n",
       "      <td>28181</td>\n",
       "      <td>China In Your Hand</td>\n",
       "      <td>pop</td>\n",
       "      <td>Pinball</td>\n",
       "      <td>2015</td>\n",
       "      <td>40</td>\n",
       "      <td>{}</td>\n",
       "      <td>It was the theme she had on a scheme he had\\nT...</td>\n",
       "      <td>1605325</td>\n",
       "      <td>TRUMAOJ12903CD40CC</td>\n",
       "      <td>['party']</td>\n",
       "      <td>[('dance', 100), ('trance', 60), ('vocal tranc...</td>\n",
       "      <td>['it', 'was', 'the', 'theme', 'she', 'had', 'o...</td>\n",
       "      <td>3.713572</td>\n",
       "      <td>0.231521</td>\n",
       "    </tr>\n",
       "    <tr>\n",
       "      <th>4659</th>\n",
       "      <td>4686</td>\n",
       "      <td>Bodhisattva</td>\n",
       "      <td>rock</td>\n",
       "      <td>Steely Dan</td>\n",
       "      <td>1973</td>\n",
       "      <td>18137</td>\n",
       "      <td>{}</td>\n",
       "      <td>[Verse 1]\\nBodhisattva, would you take me by t...</td>\n",
       "      <td>232111</td>\n",
       "      <td>TRGJCMA128F9329F8A</td>\n",
       "      <td>['happy', 'relaxing', 'party', 'rollicking']</td>\n",
       "      <td>[('classic rock', 100), ('rock', 96), ('steely...</td>\n",
       "      <td>['bodhisattva', 'would', 'you', 'take', 'me', ...</td>\n",
       "      <td>9.805764</td>\n",
       "      <td>0.611336</td>\n",
       "    </tr>\n",
       "    <tr>\n",
       "      <th>29482</th>\n",
       "      <td>29538</td>\n",
       "      <td>China Bird</td>\n",
       "      <td>pop</td>\n",
       "      <td>Patti Smith</td>\n",
       "      <td>2000</td>\n",
       "      <td>713</td>\n",
       "      <td>{}</td>\n",
       "      <td>One fine day these words I pray\\nWill breathe ...</td>\n",
       "      <td>1670078</td>\n",
       "      <td>TRDYMCG128F42927BA</td>\n",
       "      <td>['mellow', 'sad']</td>\n",
       "      <td>[('patti smith', 100), ('female vocalists', 10...</td>\n",
       "      <td>['one', 'fine', 'day', 'these', 'words', 'i', ...</td>\n",
       "      <td>6.570883</td>\n",
       "      <td>0.409659</td>\n",
       "    </tr>\n",
       "    <tr>\n",
       "      <th>25035</th>\n",
       "      <td>25089</td>\n",
       "      <td>Made In Japan</td>\n",
       "      <td>rock</td>\n",
       "      <td>Pato Fu</td>\n",
       "      <td>1999</td>\n",
       "      <td>510</td>\n",
       "      <td>{}</td>\n",
       "      <td>Ningen wa imamade osoroshimeni attekita\\nAtsui...</td>\n",
       "      <td>1460703</td>\n",
       "      <td>TRIZTHQ12903CB0BAE</td>\n",
       "      <td>['fun', 'happy']</td>\n",
       "      <td>[('japanese', 100), ('indie rock', 75), ('braz...</td>\n",
       "      <td>['ningen', 'wa', 'imamade', 'osoroshimeni', 'a...</td>\n",
       "      <td>6.236370</td>\n",
       "      <td>0.388804</td>\n",
       "    </tr>\n",
       "    <tr>\n",
       "      <th>33444</th>\n",
       "      <td>33509</td>\n",
       "      <td>China Heart</td>\n",
       "      <td>pop</td>\n",
       "      <td>Sophie Ellis-Bextor</td>\n",
       "      <td>2007</td>\n",
       "      <td>230</td>\n",
       "      <td>{}</td>\n",
       "      <td>Here I am, all alone\\nCome see the girl with t...</td>\n",
       "      <td>2277372</td>\n",
       "      <td>TRTEOUM128F4273BB4</td>\n",
       "      <td>['dark', 'detached', 'party']</td>\n",
       "      <td>[('pop', 100), ('female vocalists', 84), ('bri...</td>\n",
       "      <td>['here', 'i', 'am', 'all', 'alone', 'come', 's...</td>\n",
       "      <td>5.442418</td>\n",
       "      <td>0.339305</td>\n",
       "    </tr>\n",
       "    <tr>\n",
       "      <th>8051</th>\n",
       "      <td>8081</td>\n",
       "      <td>China Grove</td>\n",
       "      <td>rock</td>\n",
       "      <td>The Doobie Brothers</td>\n",
       "      <td>1973</td>\n",
       "      <td>13908</td>\n",
       "      <td>{}</td>\n",
       "      <td>When the sun comes up on a sleepy little town\\...</td>\n",
       "      <td>513002</td>\n",
       "      <td>TRZRHXH128F42709BC</td>\n",
       "      <td>['fun', 'party', 'exciting']</td>\n",
       "      <td>[('classic rock', 100), ('70s', 52), ('rock', ...</td>\n",
       "      <td>['when', 'the', 'sun', 'comes', 'up', 'on', 'a...</td>\n",
       "      <td>9.540291</td>\n",
       "      <td>0.594785</td>\n",
       "    </tr>\n",
       "    <tr>\n",
       "      <th>18058</th>\n",
       "      <td>18107</td>\n",
       "      <td>Foxy Girl</td>\n",
       "      <td>pop</td>\n",
       "      <td>Daniel Johnston</td>\n",
       "      <td>1994</td>\n",
       "      <td>498</td>\n",
       "      <td>{}</td>\n",
       "      <td>She's so precious\\n\\nShe's so luscious\\n\\nPut ...</td>\n",
       "      <td>1142964</td>\n",
       "      <td>TRTEGTA128F4274F8D</td>\n",
       "      <td>['melancholy', 'mellow', 'funny', 'sad', 'depr...</td>\n",
       "      <td>[('folk', 100), ('indie', 100), ('chill-out', ...</td>\n",
       "      <td>['shes', 'so', 'precious', 'shes', 'so', 'lusc...</td>\n",
       "      <td>6.212606</td>\n",
       "      <td>0.387322</td>\n",
       "    </tr>\n",
       "    <tr>\n",
       "      <th>16836</th>\n",
       "      <td>16883</td>\n",
       "      <td>Dust My Broom</td>\n",
       "      <td>pop</td>\n",
       "      <td>Cassandra Wilson</td>\n",
       "      <td>2008</td>\n",
       "      <td>89</td>\n",
       "      <td>{}</td>\n",
       "      <td>I'm gonna get up in the morning\\nI believe I'l...</td>\n",
       "      <td>1085714</td>\n",
       "      <td>TRRYNFF128F42560D9</td>\n",
       "      <td>['gentle']</td>\n",
       "      <td>[('jazz', 100), ('blues', 50), ('vocal jazz', ...</td>\n",
       "      <td>['im', 'gonna', 'get', 'up', 'in', 'the', 'mor...</td>\n",
       "      <td>4.499810</td>\n",
       "      <td>0.280539</td>\n",
       "    </tr>\n",
       "  </tbody>\n",
       "</table>\n",
       "</div>"
      ],
      "text/plain": [
       "       Unnamed: 0               title   tag               artist  year  views  \\\n",
       "13488       13535            Cannabis  rock                Ska-P  1996   6735   \n",
       "29748       29804          China Girl   pop        Anna Ternheim  2006    179   \n",
       "28126       28181  China In Your Hand   pop              Pinball  2015     40   \n",
       "4659         4686         Bodhisattva  rock           Steely Dan  1973  18137   \n",
       "29482       29538          China Bird   pop          Patti Smith  2000    713   \n",
       "25035       25089       Made In Japan  rock              Pato Fu  1999    510   \n",
       "33444       33509         China Heart   pop  Sophie Ellis-Bextor  2007    230   \n",
       "8051         8081         China Grove  rock  The Doobie Brothers  1973  13908   \n",
       "18058       18107           Foxy Girl   pop      Daniel Johnston  1994    498   \n",
       "16836       16883       Dust My Broom   pop     Cassandra Wilson  2008     89   \n",
       "\n",
       "      features                                             lyrics       id  \\\n",
       "13488       {}  [Letra de \"Cannabis\"]\\n\\n[Verso 1]\\nY saco un ...   932076   \n",
       "29748       {}  I could escape this feeling with my china girl...  1680731   \n",
       "28126       {}  It was the theme she had on a scheme he had\\nT...  1605325   \n",
       "4659        {}  [Verse 1]\\nBodhisattva, would you take me by t...   232111   \n",
       "29482       {}  One fine day these words I pray\\nWill breathe ...  1670078   \n",
       "25035       {}  Ningen wa imamade osoroshimeni attekita\\nAtsui...  1460703   \n",
       "33444       {}  Here I am, all alone\\nCome see the girl with t...  2277372   \n",
       "8051        {}  When the sun comes up on a sleepy little town\\...   513002   \n",
       "18058       {}  She's so precious\\n\\nShe's so luscious\\n\\nPut ...  1142964   \n",
       "16836       {}  I'm gonna get up in the morning\\nI believe I'l...  1085714   \n",
       "\n",
       "                  song_id                                           emotions  \\\n",
       "13488  TRRFFKW128F428CE61    ['energetic', 'fun', 'funny', 'party', 'happy']   \n",
       "29748  TRHBFSU128EF3439E7            ['sad', 'calm', 'quiet', 'melancholic']   \n",
       "28126  TRUMAOJ12903CD40CC                                          ['party']   \n",
       "4659   TRGJCMA128F9329F8A       ['happy', 'relaxing', 'party', 'rollicking']   \n",
       "29482  TRDYMCG128F42927BA                                  ['mellow', 'sad']   \n",
       "25035  TRIZTHQ12903CB0BAE                                   ['fun', 'happy']   \n",
       "33444  TRTEOUM128F4273BB4                      ['dark', 'detached', 'party']   \n",
       "8051   TRZRHXH128F42709BC                       ['fun', 'party', 'exciting']   \n",
       "18058  TRTEGTA128F4274F8D  ['melancholy', 'mellow', 'funny', 'sad', 'depr...   \n",
       "16836  TRRYNFF128F42560D9                                         ['gentle']   \n",
       "\n",
       "                                             social_tags  \\\n",
       "13488  [('ska', 100), ('ska punk', 42), ('spanish', 3...   \n",
       "29748  [('cover', 100), ('female vocalists', 85), ('c...   \n",
       "28126  [('dance', 100), ('trance', 60), ('vocal tranc...   \n",
       "4659   [('classic rock', 100), ('rock', 96), ('steely...   \n",
       "29482  [('patti smith', 100), ('female vocalists', 10...   \n",
       "25035  [('japanese', 100), ('indie rock', 75), ('braz...   \n",
       "33444  [('pop', 100), ('female vocalists', 84), ('bri...   \n",
       "8051   [('classic rock', 100), ('70s', 52), ('rock', ...   \n",
       "18058  [('folk', 100), ('indie', 100), ('chill-out', ...   \n",
       "16836  [('jazz', 100), ('blues', 50), ('vocal jazz', ...   \n",
       "\n",
       "                                            tknzd_lyrics  log_views  \\\n",
       "13488  ['y', 'saco', 'un', 'papelillo', 'me', 'prepar...   8.815222   \n",
       "29748  ['i', 'could', 'escape', 'this', 'feeling', 'w...   5.192957   \n",
       "28126  ['it', 'was', 'the', 'theme', 'she', 'had', 'o...   3.713572   \n",
       "4659   ['bodhisattva', 'would', 'you', 'take', 'me', ...   9.805764   \n",
       "29482  ['one', 'fine', 'day', 'these', 'words', 'i', ...   6.570883   \n",
       "25035  ['ningen', 'wa', 'imamade', 'osoroshimeni', 'a...   6.236370   \n",
       "33444  ['here', 'i', 'am', 'all', 'alone', 'come', 's...   5.442418   \n",
       "8051   ['when', 'the', 'sun', 'comes', 'up', 'on', 'a...   9.540291   \n",
       "18058  ['shes', 'so', 'precious', 'shes', 'so', 'lusc...   6.212606   \n",
       "16836  ['im', 'gonna', 'get', 'up', 'in', 'the', 'mor...   4.499810   \n",
       "\n",
       "       norm_views  \n",
       "13488    0.549581  \n",
       "29748    0.323752  \n",
       "28126    0.231521  \n",
       "4659     0.611336  \n",
       "29482    0.409659  \n",
       "25035    0.388804  \n",
       "33444    0.339305  \n",
       "8051     0.594785  \n",
       "18058    0.387322  \n",
       "16836    0.280539  "
      ]
     },
     "execution_count": 99,
     "metadata": {},
     "output_type": "execute_result"
    }
   ],
   "source": [
    "big_df.iloc[top]"
   ]
  },
  {
   "cell_type": "code",
   "execution_count": 86,
   "id": "34b306fe-3488-4699-a579-838fccb2a05d",
   "metadata": {},
   "outputs": [
    {
     "data": {
      "text/plain": [
       "(47, 40)"
      ]
     },
     "execution_count": 86,
     "metadata": {},
     "output_type": "execute_result"
    }
   ],
   "source": [
    "wiki_k.shape"
   ]
  },
  {
   "cell_type": "code",
   "execution_count": null,
   "id": "c9c95857-4c37-4d3f-8ec1-62cc07534b17",
   "metadata": {},
   "outputs": [],
   "source": []
  }
 ],
 "metadata": {
  "kernelspec": {
   "display_name": "Python 3 (ipykernel)",
   "language": "python",
   "name": "python3"
  },
  "language_info": {
   "codemirror_mode": {
    "name": "ipython",
    "version": 3
   },
   "file_extension": ".py",
   "mimetype": "text/x-python",
   "name": "python",
   "nbconvert_exporter": "python",
   "pygments_lexer": "ipython3",
   "version": "3.9.12"
  }
 },
 "nbformat": 4,
 "nbformat_minor": 5
}
